{
  "cells": [
    {
      "cell_type": "markdown",
      "metadata": {
        "id": "view-in-github",
        "colab_type": "text"
      },
      "source": [
        "<a href=\"https://colab.research.google.com/github/YasserTuma/Redes_Neurais_Artificiais-A.A_2.2/blob/main/PP2_2_3_Validac%CC%A7a%CC%83o_Cruzada_e_Busca_em_Grade.ipynb\" target=\"_parent\"><img src=\"https://colab.research.google.com/assets/colab-badge.svg\" alt=\"Open In Colab\"/></a>"
      ]
    },
    {
      "cell_type": "markdown",
      "metadata": {
        "id": "1TXWAD4Eahwy"
      },
      "source": [
        "# Redes Neurais Artificiais 2021.1\n",
        "\n",
        "- **Disciplina**: Redes Neurais Artificiais 2021.1  \n",
        "- **Professora**: Elloá B. Guedes (ebgcosta@uea.edu.br)  \n",
        "- **Github**: http://github.com/elloa\n",
        "- **Integrantes**:\n",
        "\n",
        " *   Danilo Frazão (1715080036);\n",
        " *   Rafael Aragão Morais (1915080022);\n",
        " *   Yasser Tuma (1815310044) \n",
        "        \n",
        "\n",
        "Levando em conta a base de dados **_Forest Cover Type_**, esta parte do Projeto Prático diz respeito à proposição e avaliação de múltiplas redes neurais artificiais do tipo feedforward multilayer perceptron para o problema da classificação multi-classe da cobertura florestal em uma área do Roosevelt National Forest.\n",
        "\n",
        "## Busca em Grade\n",
        "\n",
        "Uma maneira padrão de escolher os parâmetros de um modelo de Machine Learning é por meio de uma busca em grade via força bruta. O algoritmo da busca em grade é dado como segue:\n",
        "\n",
        "1. Escolha a métrica de desempenho que você deseja maximizar  \n",
        "2. Escolha o algoritmo de Machine Learning (exemplo: redes neurais artificiais). Em seguida, defina os parâmetros ou hiperparâmetros deste tipo de modelo sobre os quais você dseja otimizar (número de épocas, taxa de aprendizado, etc.) e construa um array de valores a serem testados para cada parâmetro ou hiperparâmetro.  \n",
        "3. Defina a grade de busca, a qual é dada como o produto cartesiano de cada parâmetro a ser testado. Por exemplo, para os arrays [50, 100, 1000] e [10, 15], tem-se que a grade é [(50,10), (50,15), (100,10), (100,15), (1000,10), (1000,15)].\n",
        "4. Para cada combinação de parâmetros a serem otimizados, utilize o conjunto de treinamento para realizar uma validação cruzada (holdout ou k-fold) e calcule a métrica de avaliação no conjunto de teste (ou conjuntos de teste)\n",
        "5. Escolha a combinação de parâmetros que maximizam a métrica de avaliação. Este é o modelo otimizado.\n",
        "\n",
        "Por que esta abordagem funciona? Porque a busca em grade efetua uma pesquisa extensiva sobre as possíveis combinações de valores para cada um dos parâmetros a serem ajustados. Para cada combinação, ela estima a performance do modelo em dados novos. Por fim, o modelo com melhor métrica de desempenho é escolhido. Tem-se então que este modelo é o que melhor pode vir a generalizar mediante dados nunca antes vistos.\n",
        "\n",
        "## Efetuando a Busca em Grade sobre Hiperparâmetros das Top-6 RNAs\n",
        "\n",
        "Considerando a etapa anterior do projeto prático, foram identificadas pelo menos 6 melhores Redes Neurais para o problema da classificação multi-classe da cobertura florestal no conjunto de dados selecionado. Algumas destas redes possuem atributos categóricos como variáveis preditoras, enquanto outras possuem apenas os atributos numéricos como preditores.\n",
        "\n",
        "A primeira etapa desta segunda parte do projeto consiste em trazer para este notebook estas seis arquiteturas, ressaltando:\n",
        "\n",
        "1. Número de neurônios ocultos por camada  \n",
        "2. Função de Ativação  \n",
        "3. Utilização ou não de atributos categóricos   \n",
        "4. Desempenho médio +- desvio padrão nos testes anteriores  \n",
        "5. Número de repetições que a equipe conseguiu realizar para verificar os resultados  \n",
        "\n",
        "Elabore uma busca em grade sobre estas arquiteturas que contemple variações nos hiperparâmetros a seguir, conforme documentação de [MLPClassifier](https://scikit-learn.org/stable/modules/generated/sklearn.neural_network.MLPClassifier.html)\n",
        "\n",
        "A. Solver  (Não usar o LBFGS, pois é mais adequado para datasets pequenos)  \n",
        "B. Batch Size  \n",
        "C. Learning Rate Init  \n",
        "D. Paciência (n_iter_no_change)  \n",
        "E. Épocas  \n",
        "\n",
        "Nesta busca em grande, contemple a utilização do objeto [GridSearchCV](https://scikit-learn.org/stable/modules/generated/sklearn.model_selection.GridSearchCV.html)"
      ]
    },
    {
      "cell_type": "markdown",
      "metadata": {
        "id": "xpUHU4UxIcS-"
      },
      "source": [
        "### Importando as bibliotecas e o dataset"
      ]
    },
    {
      "cell_type": "code",
      "execution_count": null,
      "metadata": {
        "id": "oZPHZoLO-m6p"
      },
      "outputs": [],
      "source": [
        "import pandas as pd\n",
        "import numpy as np\n",
        "from sklearn.metrics import confusion_matrix\n",
        "from sklearn.metrics import precision_score\n",
        "from sklearn.metrics import recall_score\n",
        "from sklearn.metrics import f1_score\n",
        "from joblib import dump, load\n",
        "from sklearn.neural_network import MLPClassifier\n",
        "from sklearn.model_selection import train_test_split\n",
        "from sklearn.model_selection import GridSearchCV"
      ]
    },
    {
      "cell_type": "code",
      "execution_count": null,
      "metadata": {
        "colab": {
          "base_uri": "https://localhost:8080/"
        },
        "id": "NR1wT53yYNZ-",
        "outputId": "d6b01a6b-76e8-49cf-d5e6-a5b343d499a2"
      },
      "outputs": [
        {
          "output_type": "stream",
          "name": "stdout",
          "text": [
            "Mounted at /content/drive\n"
          ]
        }
      ],
      "source": [
        "from google.colab import drive\n",
        "drive.mount('/content/drive')"
      ]
    },
    {
      "cell_type": "code",
      "execution_count": null,
      "metadata": {
        "colab": {
          "base_uri": "https://localhost:8080/",
          "height": 444
        },
        "id": "tlhCNJbGYbSe",
        "outputId": "531ee6ac-c278-43c8-d1ba-e0639e71d95f"
      },
      "outputs": [
        {
          "output_type": "execute_result",
          "data": {
            "text/html": [
              "<div>\n",
              "<style scoped>\n",
              "    .dataframe tbody tr th:only-of-type {\n",
              "        vertical-align: middle;\n",
              "    }\n",
              "\n",
              "    .dataframe tbody tr th {\n",
              "        vertical-align: top;\n",
              "    }\n",
              "\n",
              "    .dataframe thead th {\n",
              "        text-align: right;\n",
              "    }\n",
              "</style>\n",
              "<table border=\"1\" class=\"dataframe\">\n",
              "  <thead>\n",
              "    <tr style=\"text-align: right;\">\n",
              "      <th></th>\n",
              "      <th>Elevation</th>\n",
              "      <th>Aspect</th>\n",
              "      <th>Slope</th>\n",
              "      <th>Horizontal_Distance_To_Hydrology</th>\n",
              "      <th>Vertical_Distance_To_Hydrology</th>\n",
              "      <th>Horizontal_Distance_To_Roadways</th>\n",
              "      <th>Hillshade_9am</th>\n",
              "      <th>Hillshade_Noon</th>\n",
              "      <th>Hillshade_3pm</th>\n",
              "      <th>Horizontal_Distance_To_Fire_Points</th>\n",
              "      <th>Wilderness_Area1</th>\n",
              "      <th>Wilderness_Area2</th>\n",
              "      <th>Wilderness_Area3</th>\n",
              "      <th>Wilderness_Area4</th>\n",
              "      <th>Soil_Type1</th>\n",
              "      <th>Soil_Type2</th>\n",
              "      <th>Soil_Type3</th>\n",
              "      <th>Soil_Type4</th>\n",
              "      <th>Soil_Type5</th>\n",
              "      <th>Soil_Type6</th>\n",
              "      <th>Soil_Type7</th>\n",
              "      <th>Soil_Type8</th>\n",
              "      <th>Soil_Type9</th>\n",
              "      <th>Soil_Type10</th>\n",
              "      <th>Soil_Type11</th>\n",
              "      <th>Soil_Type12</th>\n",
              "      <th>Soil_Type13</th>\n",
              "      <th>Soil_Type14</th>\n",
              "      <th>Soil_Type15</th>\n",
              "      <th>Soil_Type16</th>\n",
              "      <th>Soil_Type17</th>\n",
              "      <th>Soil_Type18</th>\n",
              "      <th>Soil_Type19</th>\n",
              "      <th>Soil_Type20</th>\n",
              "      <th>Soil_Type21</th>\n",
              "      <th>Soil_Type22</th>\n",
              "      <th>Soil_Type23</th>\n",
              "      <th>Soil_Type24</th>\n",
              "      <th>Soil_Type25</th>\n",
              "      <th>Soil_Type26</th>\n",
              "      <th>Soil_Type27</th>\n",
              "      <th>Soil_Type28</th>\n",
              "      <th>Soil_Type29</th>\n",
              "      <th>Soil_Type30</th>\n",
              "      <th>Soil_Type31</th>\n",
              "      <th>Soil_Type32</th>\n",
              "      <th>Soil_Type33</th>\n",
              "      <th>Soil_Type34</th>\n",
              "      <th>Soil_Type35</th>\n",
              "      <th>Soil_Type36</th>\n",
              "      <th>Soil_Type37</th>\n",
              "      <th>Soil_Type38</th>\n",
              "      <th>Soil_Type39</th>\n",
              "      <th>Soil_Type40</th>\n",
              "      <th>Cover_Type</th>\n",
              "    </tr>\n",
              "  </thead>\n",
              "  <tbody>\n",
              "    <tr>\n",
              "      <th>0</th>\n",
              "      <td>2596</td>\n",
              "      <td>51</td>\n",
              "      <td>3</td>\n",
              "      <td>258</td>\n",
              "      <td>0</td>\n",
              "      <td>510</td>\n",
              "      <td>221</td>\n",
              "      <td>232</td>\n",
              "      <td>148</td>\n",
              "      <td>6279</td>\n",
              "      <td>1</td>\n",
              "      <td>0</td>\n",
              "      <td>0</td>\n",
              "      <td>0</td>\n",
              "      <td>0</td>\n",
              "      <td>0</td>\n",
              "      <td>0</td>\n",
              "      <td>0</td>\n",
              "      <td>0</td>\n",
              "      <td>0</td>\n",
              "      <td>0</td>\n",
              "      <td>0</td>\n",
              "      <td>0</td>\n",
              "      <td>0</td>\n",
              "      <td>0</td>\n",
              "      <td>0</td>\n",
              "      <td>0</td>\n",
              "      <td>0</td>\n",
              "      <td>0</td>\n",
              "      <td>0</td>\n",
              "      <td>0</td>\n",
              "      <td>0</td>\n",
              "      <td>0</td>\n",
              "      <td>0</td>\n",
              "      <td>0</td>\n",
              "      <td>0</td>\n",
              "      <td>0</td>\n",
              "      <td>0</td>\n",
              "      <td>0</td>\n",
              "      <td>0</td>\n",
              "      <td>0</td>\n",
              "      <td>0</td>\n",
              "      <td>1</td>\n",
              "      <td>0</td>\n",
              "      <td>0</td>\n",
              "      <td>0</td>\n",
              "      <td>0</td>\n",
              "      <td>0</td>\n",
              "      <td>0</td>\n",
              "      <td>0</td>\n",
              "      <td>0</td>\n",
              "      <td>0</td>\n",
              "      <td>0</td>\n",
              "      <td>0</td>\n",
              "      <td>5</td>\n",
              "    </tr>\n",
              "    <tr>\n",
              "      <th>1</th>\n",
              "      <td>2590</td>\n",
              "      <td>56</td>\n",
              "      <td>2</td>\n",
              "      <td>212</td>\n",
              "      <td>-6</td>\n",
              "      <td>390</td>\n",
              "      <td>220</td>\n",
              "      <td>235</td>\n",
              "      <td>151</td>\n",
              "      <td>6225</td>\n",
              "      <td>1</td>\n",
              "      <td>0</td>\n",
              "      <td>0</td>\n",
              "      <td>0</td>\n",
              "      <td>0</td>\n",
              "      <td>0</td>\n",
              "      <td>0</td>\n",
              "      <td>0</td>\n",
              "      <td>0</td>\n",
              "      <td>0</td>\n",
              "      <td>0</td>\n",
              "      <td>0</td>\n",
              "      <td>0</td>\n",
              "      <td>0</td>\n",
              "      <td>0</td>\n",
              "      <td>0</td>\n",
              "      <td>0</td>\n",
              "      <td>0</td>\n",
              "      <td>0</td>\n",
              "      <td>0</td>\n",
              "      <td>0</td>\n",
              "      <td>0</td>\n",
              "      <td>0</td>\n",
              "      <td>0</td>\n",
              "      <td>0</td>\n",
              "      <td>0</td>\n",
              "      <td>0</td>\n",
              "      <td>0</td>\n",
              "      <td>0</td>\n",
              "      <td>0</td>\n",
              "      <td>0</td>\n",
              "      <td>0</td>\n",
              "      <td>1</td>\n",
              "      <td>0</td>\n",
              "      <td>0</td>\n",
              "      <td>0</td>\n",
              "      <td>0</td>\n",
              "      <td>0</td>\n",
              "      <td>0</td>\n",
              "      <td>0</td>\n",
              "      <td>0</td>\n",
              "      <td>0</td>\n",
              "      <td>0</td>\n",
              "      <td>0</td>\n",
              "      <td>5</td>\n",
              "    </tr>\n",
              "    <tr>\n",
              "      <th>2</th>\n",
              "      <td>2804</td>\n",
              "      <td>139</td>\n",
              "      <td>9</td>\n",
              "      <td>268</td>\n",
              "      <td>65</td>\n",
              "      <td>3180</td>\n",
              "      <td>234</td>\n",
              "      <td>238</td>\n",
              "      <td>135</td>\n",
              "      <td>6121</td>\n",
              "      <td>1</td>\n",
              "      <td>0</td>\n",
              "      <td>0</td>\n",
              "      <td>0</td>\n",
              "      <td>0</td>\n",
              "      <td>0</td>\n",
              "      <td>0</td>\n",
              "      <td>0</td>\n",
              "      <td>0</td>\n",
              "      <td>0</td>\n",
              "      <td>0</td>\n",
              "      <td>0</td>\n",
              "      <td>0</td>\n",
              "      <td>0</td>\n",
              "      <td>0</td>\n",
              "      <td>1</td>\n",
              "      <td>0</td>\n",
              "      <td>0</td>\n",
              "      <td>0</td>\n",
              "      <td>0</td>\n",
              "      <td>0</td>\n",
              "      <td>0</td>\n",
              "      <td>0</td>\n",
              "      <td>0</td>\n",
              "      <td>0</td>\n",
              "      <td>0</td>\n",
              "      <td>0</td>\n",
              "      <td>0</td>\n",
              "      <td>0</td>\n",
              "      <td>0</td>\n",
              "      <td>0</td>\n",
              "      <td>0</td>\n",
              "      <td>0</td>\n",
              "      <td>0</td>\n",
              "      <td>0</td>\n",
              "      <td>0</td>\n",
              "      <td>0</td>\n",
              "      <td>0</td>\n",
              "      <td>0</td>\n",
              "      <td>0</td>\n",
              "      <td>0</td>\n",
              "      <td>0</td>\n",
              "      <td>0</td>\n",
              "      <td>0</td>\n",
              "      <td>2</td>\n",
              "    </tr>\n",
              "    <tr>\n",
              "      <th>3</th>\n",
              "      <td>2785</td>\n",
              "      <td>155</td>\n",
              "      <td>18</td>\n",
              "      <td>242</td>\n",
              "      <td>118</td>\n",
              "      <td>3090</td>\n",
              "      <td>238</td>\n",
              "      <td>238</td>\n",
              "      <td>122</td>\n",
              "      <td>6211</td>\n",
              "      <td>1</td>\n",
              "      <td>0</td>\n",
              "      <td>0</td>\n",
              "      <td>0</td>\n",
              "      <td>0</td>\n",
              "      <td>0</td>\n",
              "      <td>0</td>\n",
              "      <td>0</td>\n",
              "      <td>0</td>\n",
              "      <td>0</td>\n",
              "      <td>0</td>\n",
              "      <td>0</td>\n",
              "      <td>0</td>\n",
              "      <td>0</td>\n",
              "      <td>0</td>\n",
              "      <td>0</td>\n",
              "      <td>0</td>\n",
              "      <td>0</td>\n",
              "      <td>0</td>\n",
              "      <td>0</td>\n",
              "      <td>0</td>\n",
              "      <td>0</td>\n",
              "      <td>0</td>\n",
              "      <td>0</td>\n",
              "      <td>0</td>\n",
              "      <td>0</td>\n",
              "      <td>0</td>\n",
              "      <td>0</td>\n",
              "      <td>0</td>\n",
              "      <td>0</td>\n",
              "      <td>0</td>\n",
              "      <td>0</td>\n",
              "      <td>0</td>\n",
              "      <td>1</td>\n",
              "      <td>0</td>\n",
              "      <td>0</td>\n",
              "      <td>0</td>\n",
              "      <td>0</td>\n",
              "      <td>0</td>\n",
              "      <td>0</td>\n",
              "      <td>0</td>\n",
              "      <td>0</td>\n",
              "      <td>0</td>\n",
              "      <td>0</td>\n",
              "      <td>2</td>\n",
              "    </tr>\n",
              "    <tr>\n",
              "      <th>4</th>\n",
              "      <td>2595</td>\n",
              "      <td>45</td>\n",
              "      <td>2</td>\n",
              "      <td>153</td>\n",
              "      <td>-1</td>\n",
              "      <td>391</td>\n",
              "      <td>220</td>\n",
              "      <td>234</td>\n",
              "      <td>150</td>\n",
              "      <td>6172</td>\n",
              "      <td>1</td>\n",
              "      <td>0</td>\n",
              "      <td>0</td>\n",
              "      <td>0</td>\n",
              "      <td>0</td>\n",
              "      <td>0</td>\n",
              "      <td>0</td>\n",
              "      <td>0</td>\n",
              "      <td>0</td>\n",
              "      <td>0</td>\n",
              "      <td>0</td>\n",
              "      <td>0</td>\n",
              "      <td>0</td>\n",
              "      <td>0</td>\n",
              "      <td>0</td>\n",
              "      <td>0</td>\n",
              "      <td>0</td>\n",
              "      <td>0</td>\n",
              "      <td>0</td>\n",
              "      <td>0</td>\n",
              "      <td>0</td>\n",
              "      <td>0</td>\n",
              "      <td>0</td>\n",
              "      <td>0</td>\n",
              "      <td>0</td>\n",
              "      <td>0</td>\n",
              "      <td>0</td>\n",
              "      <td>0</td>\n",
              "      <td>0</td>\n",
              "      <td>0</td>\n",
              "      <td>0</td>\n",
              "      <td>0</td>\n",
              "      <td>1</td>\n",
              "      <td>0</td>\n",
              "      <td>0</td>\n",
              "      <td>0</td>\n",
              "      <td>0</td>\n",
              "      <td>0</td>\n",
              "      <td>0</td>\n",
              "      <td>0</td>\n",
              "      <td>0</td>\n",
              "      <td>0</td>\n",
              "      <td>0</td>\n",
              "      <td>0</td>\n",
              "      <td>5</td>\n",
              "    </tr>\n",
              "    <tr>\n",
              "      <th>...</th>\n",
              "      <td>...</td>\n",
              "      <td>...</td>\n",
              "      <td>...</td>\n",
              "      <td>...</td>\n",
              "      <td>...</td>\n",
              "      <td>...</td>\n",
              "      <td>...</td>\n",
              "      <td>...</td>\n",
              "      <td>...</td>\n",
              "      <td>...</td>\n",
              "      <td>...</td>\n",
              "      <td>...</td>\n",
              "      <td>...</td>\n",
              "      <td>...</td>\n",
              "      <td>...</td>\n",
              "      <td>...</td>\n",
              "      <td>...</td>\n",
              "      <td>...</td>\n",
              "      <td>...</td>\n",
              "      <td>...</td>\n",
              "      <td>...</td>\n",
              "      <td>...</td>\n",
              "      <td>...</td>\n",
              "      <td>...</td>\n",
              "      <td>...</td>\n",
              "      <td>...</td>\n",
              "      <td>...</td>\n",
              "      <td>...</td>\n",
              "      <td>...</td>\n",
              "      <td>...</td>\n",
              "      <td>...</td>\n",
              "      <td>...</td>\n",
              "      <td>...</td>\n",
              "      <td>...</td>\n",
              "      <td>...</td>\n",
              "      <td>...</td>\n",
              "      <td>...</td>\n",
              "      <td>...</td>\n",
              "      <td>...</td>\n",
              "      <td>...</td>\n",
              "      <td>...</td>\n",
              "      <td>...</td>\n",
              "      <td>...</td>\n",
              "      <td>...</td>\n",
              "      <td>...</td>\n",
              "      <td>...</td>\n",
              "      <td>...</td>\n",
              "      <td>...</td>\n",
              "      <td>...</td>\n",
              "      <td>...</td>\n",
              "      <td>...</td>\n",
              "      <td>...</td>\n",
              "      <td>...</td>\n",
              "      <td>...</td>\n",
              "      <td>...</td>\n",
              "    </tr>\n",
              "    <tr>\n",
              "      <th>581007</th>\n",
              "      <td>2396</td>\n",
              "      <td>153</td>\n",
              "      <td>20</td>\n",
              "      <td>85</td>\n",
              "      <td>17</td>\n",
              "      <td>108</td>\n",
              "      <td>240</td>\n",
              "      <td>237</td>\n",
              "      <td>118</td>\n",
              "      <td>837</td>\n",
              "      <td>0</td>\n",
              "      <td>0</td>\n",
              "      <td>1</td>\n",
              "      <td>0</td>\n",
              "      <td>0</td>\n",
              "      <td>1</td>\n",
              "      <td>0</td>\n",
              "      <td>0</td>\n",
              "      <td>0</td>\n",
              "      <td>0</td>\n",
              "      <td>0</td>\n",
              "      <td>0</td>\n",
              "      <td>0</td>\n",
              "      <td>0</td>\n",
              "      <td>0</td>\n",
              "      <td>0</td>\n",
              "      <td>0</td>\n",
              "      <td>0</td>\n",
              "      <td>0</td>\n",
              "      <td>0</td>\n",
              "      <td>0</td>\n",
              "      <td>0</td>\n",
              "      <td>0</td>\n",
              "      <td>0</td>\n",
              "      <td>0</td>\n",
              "      <td>0</td>\n",
              "      <td>0</td>\n",
              "      <td>0</td>\n",
              "      <td>0</td>\n",
              "      <td>0</td>\n",
              "      <td>0</td>\n",
              "      <td>0</td>\n",
              "      <td>0</td>\n",
              "      <td>0</td>\n",
              "      <td>0</td>\n",
              "      <td>0</td>\n",
              "      <td>0</td>\n",
              "      <td>0</td>\n",
              "      <td>0</td>\n",
              "      <td>0</td>\n",
              "      <td>0</td>\n",
              "      <td>0</td>\n",
              "      <td>0</td>\n",
              "      <td>0</td>\n",
              "      <td>3</td>\n",
              "    </tr>\n",
              "    <tr>\n",
              "      <th>581008</th>\n",
              "      <td>2391</td>\n",
              "      <td>152</td>\n",
              "      <td>19</td>\n",
              "      <td>67</td>\n",
              "      <td>12</td>\n",
              "      <td>95</td>\n",
              "      <td>240</td>\n",
              "      <td>237</td>\n",
              "      <td>119</td>\n",
              "      <td>845</td>\n",
              "      <td>0</td>\n",
              "      <td>0</td>\n",
              "      <td>1</td>\n",
              "      <td>0</td>\n",
              "      <td>0</td>\n",
              "      <td>1</td>\n",
              "      <td>0</td>\n",
              "      <td>0</td>\n",
              "      <td>0</td>\n",
              "      <td>0</td>\n",
              "      <td>0</td>\n",
              "      <td>0</td>\n",
              "      <td>0</td>\n",
              "      <td>0</td>\n",
              "      <td>0</td>\n",
              "      <td>0</td>\n",
              "      <td>0</td>\n",
              "      <td>0</td>\n",
              "      <td>0</td>\n",
              "      <td>0</td>\n",
              "      <td>0</td>\n",
              "      <td>0</td>\n",
              "      <td>0</td>\n",
              "      <td>0</td>\n",
              "      <td>0</td>\n",
              "      <td>0</td>\n",
              "      <td>0</td>\n",
              "      <td>0</td>\n",
              "      <td>0</td>\n",
              "      <td>0</td>\n",
              "      <td>0</td>\n",
              "      <td>0</td>\n",
              "      <td>0</td>\n",
              "      <td>0</td>\n",
              "      <td>0</td>\n",
              "      <td>0</td>\n",
              "      <td>0</td>\n",
              "      <td>0</td>\n",
              "      <td>0</td>\n",
              "      <td>0</td>\n",
              "      <td>0</td>\n",
              "      <td>0</td>\n",
              "      <td>0</td>\n",
              "      <td>0</td>\n",
              "      <td>3</td>\n",
              "    </tr>\n",
              "    <tr>\n",
              "      <th>581009</th>\n",
              "      <td>2386</td>\n",
              "      <td>159</td>\n",
              "      <td>17</td>\n",
              "      <td>60</td>\n",
              "      <td>7</td>\n",
              "      <td>90</td>\n",
              "      <td>236</td>\n",
              "      <td>241</td>\n",
              "      <td>130</td>\n",
              "      <td>854</td>\n",
              "      <td>0</td>\n",
              "      <td>0</td>\n",
              "      <td>1</td>\n",
              "      <td>0</td>\n",
              "      <td>0</td>\n",
              "      <td>1</td>\n",
              "      <td>0</td>\n",
              "      <td>0</td>\n",
              "      <td>0</td>\n",
              "      <td>0</td>\n",
              "      <td>0</td>\n",
              "      <td>0</td>\n",
              "      <td>0</td>\n",
              "      <td>0</td>\n",
              "      <td>0</td>\n",
              "      <td>0</td>\n",
              "      <td>0</td>\n",
              "      <td>0</td>\n",
              "      <td>0</td>\n",
              "      <td>0</td>\n",
              "      <td>0</td>\n",
              "      <td>0</td>\n",
              "      <td>0</td>\n",
              "      <td>0</td>\n",
              "      <td>0</td>\n",
              "      <td>0</td>\n",
              "      <td>0</td>\n",
              "      <td>0</td>\n",
              "      <td>0</td>\n",
              "      <td>0</td>\n",
              "      <td>0</td>\n",
              "      <td>0</td>\n",
              "      <td>0</td>\n",
              "      <td>0</td>\n",
              "      <td>0</td>\n",
              "      <td>0</td>\n",
              "      <td>0</td>\n",
              "      <td>0</td>\n",
              "      <td>0</td>\n",
              "      <td>0</td>\n",
              "      <td>0</td>\n",
              "      <td>0</td>\n",
              "      <td>0</td>\n",
              "      <td>0</td>\n",
              "      <td>3</td>\n",
              "    </tr>\n",
              "    <tr>\n",
              "      <th>581010</th>\n",
              "      <td>2384</td>\n",
              "      <td>170</td>\n",
              "      <td>15</td>\n",
              "      <td>60</td>\n",
              "      <td>5</td>\n",
              "      <td>90</td>\n",
              "      <td>230</td>\n",
              "      <td>245</td>\n",
              "      <td>143</td>\n",
              "      <td>864</td>\n",
              "      <td>0</td>\n",
              "      <td>0</td>\n",
              "      <td>1</td>\n",
              "      <td>0</td>\n",
              "      <td>0</td>\n",
              "      <td>1</td>\n",
              "      <td>0</td>\n",
              "      <td>0</td>\n",
              "      <td>0</td>\n",
              "      <td>0</td>\n",
              "      <td>0</td>\n",
              "      <td>0</td>\n",
              "      <td>0</td>\n",
              "      <td>0</td>\n",
              "      <td>0</td>\n",
              "      <td>0</td>\n",
              "      <td>0</td>\n",
              "      <td>0</td>\n",
              "      <td>0</td>\n",
              "      <td>0</td>\n",
              "      <td>0</td>\n",
              "      <td>0</td>\n",
              "      <td>0</td>\n",
              "      <td>0</td>\n",
              "      <td>0</td>\n",
              "      <td>0</td>\n",
              "      <td>0</td>\n",
              "      <td>0</td>\n",
              "      <td>0</td>\n",
              "      <td>0</td>\n",
              "      <td>0</td>\n",
              "      <td>0</td>\n",
              "      <td>0</td>\n",
              "      <td>0</td>\n",
              "      <td>0</td>\n",
              "      <td>0</td>\n",
              "      <td>0</td>\n",
              "      <td>0</td>\n",
              "      <td>0</td>\n",
              "      <td>0</td>\n",
              "      <td>0</td>\n",
              "      <td>0</td>\n",
              "      <td>0</td>\n",
              "      <td>0</td>\n",
              "      <td>3</td>\n",
              "    </tr>\n",
              "    <tr>\n",
              "      <th>581011</th>\n",
              "      <td>2383</td>\n",
              "      <td>165</td>\n",
              "      <td>13</td>\n",
              "      <td>60</td>\n",
              "      <td>4</td>\n",
              "      <td>67</td>\n",
              "      <td>231</td>\n",
              "      <td>244</td>\n",
              "      <td>141</td>\n",
              "      <td>875</td>\n",
              "      <td>0</td>\n",
              "      <td>0</td>\n",
              "      <td>1</td>\n",
              "      <td>0</td>\n",
              "      <td>0</td>\n",
              "      <td>1</td>\n",
              "      <td>0</td>\n",
              "      <td>0</td>\n",
              "      <td>0</td>\n",
              "      <td>0</td>\n",
              "      <td>0</td>\n",
              "      <td>0</td>\n",
              "      <td>0</td>\n",
              "      <td>0</td>\n",
              "      <td>0</td>\n",
              "      <td>0</td>\n",
              "      <td>0</td>\n",
              "      <td>0</td>\n",
              "      <td>0</td>\n",
              "      <td>0</td>\n",
              "      <td>0</td>\n",
              "      <td>0</td>\n",
              "      <td>0</td>\n",
              "      <td>0</td>\n",
              "      <td>0</td>\n",
              "      <td>0</td>\n",
              "      <td>0</td>\n",
              "      <td>0</td>\n",
              "      <td>0</td>\n",
              "      <td>0</td>\n",
              "      <td>0</td>\n",
              "      <td>0</td>\n",
              "      <td>0</td>\n",
              "      <td>0</td>\n",
              "      <td>0</td>\n",
              "      <td>0</td>\n",
              "      <td>0</td>\n",
              "      <td>0</td>\n",
              "      <td>0</td>\n",
              "      <td>0</td>\n",
              "      <td>0</td>\n",
              "      <td>0</td>\n",
              "      <td>0</td>\n",
              "      <td>0</td>\n",
              "      <td>3</td>\n",
              "    </tr>\n",
              "  </tbody>\n",
              "</table>\n",
              "<p>581012 rows × 55 columns</p>\n",
              "</div>"
            ],
            "text/plain": [
              "        Elevation  Aspect  Slope  ...  Soil_Type39  Soil_Type40  Cover_Type\n",
              "0            2596      51      3  ...            0            0           5\n",
              "1            2590      56      2  ...            0            0           5\n",
              "2            2804     139      9  ...            0            0           2\n",
              "3            2785     155     18  ...            0            0           2\n",
              "4            2595      45      2  ...            0            0           5\n",
              "...           ...     ...    ...  ...          ...          ...         ...\n",
              "581007       2396     153     20  ...            0            0           3\n",
              "581008       2391     152     19  ...            0            0           3\n",
              "581009       2386     159     17  ...            0            0           3\n",
              "581010       2384     170     15  ...            0            0           3\n",
              "581011       2383     165     13  ...            0            0           3\n",
              "\n",
              "[581012 rows x 55 columns]"
            ]
          },
          "metadata": {},
          "execution_count": 3
        }
      ],
      "source": [
        "data= pd.read_csv(\"/content/drive/My Drive/Colab Notebooks/RNA/covtype.csv\")\n",
        "data"
      ]
    },
    {
      "cell_type": "markdown",
      "metadata": {
        "id": "X2d0-8yNIn_e"
      },
      "source": [
        "### Obtendo o atributo alvo e os atributos preditores"
      ]
    },
    {
      "cell_type": "code",
      "execution_count": null,
      "metadata": {
        "id": "DSViX14RGsNQ"
      },
      "outputs": [],
      "source": [
        "# Obtendo o atributo-alvo\n",
        "def getTarget(data, column):\n",
        "  return data[column]\n",
        "\n",
        "data_y = getTarget(data, \"Cover_Type\")\n"
      ]
    },
    {
      "cell_type": "code",
      "execution_count": null,
      "metadata": {
        "id": "viQ4VBXvtbC3"
      },
      "outputs": [],
      "source": [
        "def getPredictors(data, columns):\n",
        "  return data.drop(columns, axis=1)\n",
        "\n",
        "\n",
        "data_x = getPredictors(data, \"Cover_Type\")"
      ]
    },
    {
      "cell_type": "code",
      "execution_count": null,
      "metadata": {
        "id": "7DMXhvNUys1z"
      },
      "outputs": [],
      "source": [
        "def standardization(value, mean, std):\n",
        "  if(std != 0):\n",
        "    return (value - mean) / std\n",
        "  else:\n",
        "    return value\n",
        "\n",
        "def applyStandardization(set):\n",
        "  for column in set.head(0).columns:\n",
        "    mean = set[column].mean()\n",
        "    std = set[column].std()\n",
        "    set[column] = set[column].apply(standardization, args=(mean, std))\n",
        "  return set\n",
        "\n",
        "data_x = applyStandardization(data_x)"
      ]
    },
    {
      "cell_type": "markdown",
      "metadata": {
        "id": "svgW0ltpIwY4"
      },
      "source": [
        "### Busca em grade"
      ]
    },
    {
      "cell_type": "code",
      "execution_count": null,
      "metadata": {
        "id": "Akui_g2K-mQn"
      },
      "outputs": [],
      "source": [
        "parameter_space = {\n",
        "    'solver': ['sgd', 'adam'],\n",
        "    'batch_size': [100, 200],\n",
        "    'learning_rate_init': [0.1, 0.4],\n",
        "    'n_iter_no_change': [5, 10],\n",
        "    'max_iter': [100, 300],  \n",
        "}"
      ]
    },
    {
      "cell_type": "code",
      "execution_count": null,
      "metadata": {
        "id": "dHTxSKkOEzuR"
      },
      "outputs": [],
      "source": [
        "def testing(MLP, test_x, test_y):\n",
        "  predictions = MLP.predict(test_x.values)\n",
        "\n",
        "  print(\"\\nMatriz de confusao:\\n\")\n",
        "  print(confusion_matrix(test_y, predictions))\n",
        "\n",
        "  print(\"\\nAcuracia:\\n\")\n",
        "  print(MLP.score(test_x, test_y))\n",
        "\n",
        "  print(\"\\nPrecisao:\\n\")\n",
        "  print(precision_score(test_y, predictions, average='micro'))\n",
        "\n",
        "  print(\"\\nRevocacao:\\n\")\n",
        "  print(recall_score(test_y, predictions, average='micro'))\n",
        "\n",
        "  print(\"\\nF-Score:\\n\")\n",
        "  print(f1_score(test_y, predictions, average='micro'))"
      ]
    },
    {
      "cell_type": "markdown",
      "metadata": {
        "id": "Ebrb94JSahw-"
      },
      "source": [
        "## Validação Cruzada k-fold\n",
        "\n",
        "Na elaboração da busca em grid, vamos avaliar os modelos propostos segundo uma estratégia de validação cruzada ainda não explorada até o momento: a validação cruzada k-fold. Segundo a mesma, o conjunto de dados é particionado em k partes: a cada iteração, separa-se uma das partes para teste e o modelo é treinado com as k-1 partes remanescentes. Valores sugestivos de k na literatura são k = 3, 5 ou 10, pois o custo computacional desta validação dos modelos é alto. A métrica de desempenho é resultante da média dos desempenhos nas k iterações. A figura a seguir ilustra a ideia desta avaliação\n",
        "\n",
        "<img src = \"https://ethen8181.github.io/machine-learning/model_selection/img/kfolds.png\" width=600></img>\n",
        "\n",
        "Considerando a métrica de desempenho F1-Score, considere a validação cruzada 5-fold para aferir os resultados da busca em grande anterior."
      ]
    },
    {
      "cell_type": "markdown",
      "metadata": {
        "id": "TZgU1YlbZNOA"
      },
      "source": [
        "### Primeira rede neural\n",
        "\n",
        "* Arquitetura propia;   \n",
        "* Função de ativação: tangente hiperbolica;\n",
        "* Duas camadas ocultas, cada uma com 20 neuronios.\n",
        "\n",
        "---\n",
        "\n",
        "* Melhor Classificador:\n",
        "\n",
        " *   bath_size = 100\n",
        " *   learning_rate_init = 0.1\n",
        " *   max_iter = 300\n",
        " *   n_iter_no_change = 5\n",
        "\n",
        "*   Pontuação do melhor classificador: 0.5908482398016645"
      ]
    },
    {
      "cell_type": "code",
      "execution_count": null,
      "metadata": {
        "id": "RwDFeDHwCUQs"
      },
      "outputs": [],
      "source": [
        "MLP_1 = MLPClassifier(hidden_layer_sizes=(20, 20,), activation='tanh')\n",
        "\n",
        "MLP_1 = GridSearchCV(MLP_1, parameter_space, cv=5, verbose=3, scoring='f1_micro')"
      ]
    },
    {
      "cell_type": "code",
      "execution_count": null,
      "metadata": {
        "colab": {
          "base_uri": "https://localhost:8080/"
        },
        "id": "VRsc42H4ZPo5",
        "outputId": "2530cc68-57ab-4eac-da47-c3ded59c6712"
      },
      "outputs": [
        {
          "name": "stdout",
          "output_type": "stream",
          "text": [
            "Fitting 5 folds for each of 32 candidates, totalling 160 fits\n",
            "[CV 1/5] END batch_size=100, learning_rate_init=0.1, max_iter=100, n_iter_no_change=5, solver=sgd;, score=0.582 total time= 2.0min\n",
            "[CV 2/5] END batch_size=100, learning_rate_init=0.1, max_iter=100, n_iter_no_change=5, solver=sgd;, score=0.404 total time= 1.4min\n",
            "[CV 3/5] END batch_size=100, learning_rate_init=0.1, max_iter=100, n_iter_no_change=5, solver=sgd;, score=0.392 total time= 1.6min\n",
            "[CV 4/5] END batch_size=100, learning_rate_init=0.1, max_iter=100, n_iter_no_change=5, solver=sgd;, score=0.501 total time= 2.1min\n",
            "[CV 5/5] END batch_size=100, learning_rate_init=0.1, max_iter=100, n_iter_no_change=5, solver=sgd;, score=0.536 total time= 1.1min\n",
            "[CV 1/5] END batch_size=100, learning_rate_init=0.1, max_iter=100, n_iter_no_change=5, solver=adam;, score=0.552 total time=  23.3s\n",
            "[CV 2/5] END batch_size=100, learning_rate_init=0.1, max_iter=100, n_iter_no_change=5, solver=adam;, score=0.548 total time=  23.6s\n",
            "[CV 3/5] END batch_size=100, learning_rate_init=0.1, max_iter=100, n_iter_no_change=5, solver=adam;, score=0.544 total time=  23.5s\n",
            "[CV 4/5] END batch_size=100, learning_rate_init=0.1, max_iter=100, n_iter_no_change=5, solver=adam;, score=0.618 total time=  23.7s\n",
            "[CV 5/5] END batch_size=100, learning_rate_init=0.1, max_iter=100, n_iter_no_change=5, solver=adam;, score=0.567 total time=  23.6s\n",
            "[CV 1/5] END batch_size=100, learning_rate_init=0.1, max_iter=100, n_iter_no_change=10, solver=sgd;, score=0.595 total time= 2.4min\n",
            "[CV 2/5] END batch_size=100, learning_rate_init=0.1, max_iter=100, n_iter_no_change=10, solver=sgd;, score=0.431 total time= 3.4min\n",
            "[CV 3/5] END batch_size=100, learning_rate_init=0.1, max_iter=100, n_iter_no_change=10, solver=sgd;, score=0.435 total time= 3.2min\n",
            "[CV 4/5] END batch_size=100, learning_rate_init=0.1, max_iter=100, n_iter_no_change=10, solver=sgd;, score=0.497 total time= 2.0min\n",
            "[CV 5/5] END batch_size=100, learning_rate_init=0.1, max_iter=100, n_iter_no_change=10, solver=sgd;, score=0.559 total time= 2.1min\n",
            "[CV 1/5] END batch_size=100, learning_rate_init=0.1, max_iter=100, n_iter_no_change=10, solver=adam;, score=0.612 total time=  39.4s\n",
            "[CV 2/5] END batch_size=100, learning_rate_init=0.1, max_iter=100, n_iter_no_change=10, solver=adam;, score=0.561 total time=  39.7s\n",
            "[CV 3/5] END batch_size=100, learning_rate_init=0.1, max_iter=100, n_iter_no_change=10, solver=adam;, score=0.515 total time=  39.9s\n",
            "[CV 4/5] END batch_size=100, learning_rate_init=0.1, max_iter=100, n_iter_no_change=10, solver=adam;, score=0.565 total time=  39.6s\n",
            "[CV 5/5] END batch_size=100, learning_rate_init=0.1, max_iter=100, n_iter_no_change=10, solver=adam;, score=0.482 total time=  39.6s\n",
            "[CV 1/5] END batch_size=100, learning_rate_init=0.1, max_iter=300, n_iter_no_change=5, solver=sgd;, score=0.532 total time= 2.0min\n",
            "[CV 2/5] END batch_size=100, learning_rate_init=0.1, max_iter=300, n_iter_no_change=5, solver=sgd;, score=0.445 total time= 2.0min\n",
            "[CV 3/5] END batch_size=100, learning_rate_init=0.1, max_iter=300, n_iter_no_change=5, solver=sgd;, score=0.451 total time= 1.3min\n",
            "[CV 4/5] END batch_size=100, learning_rate_init=0.1, max_iter=300, n_iter_no_change=5, solver=sgd;, score=0.494 total time= 1.4min\n",
            "[CV 5/5] END batch_size=100, learning_rate_init=0.1, max_iter=300, n_iter_no_change=5, solver=sgd;, score=0.541 total time= 1.7min\n",
            "[CV 1/5] END batch_size=100, learning_rate_init=0.1, max_iter=300, n_iter_no_change=5, solver=adam;, score=0.602 total time=  23.5s\n",
            "[CV 2/5] END batch_size=100, learning_rate_init=0.1, max_iter=300, n_iter_no_change=5, solver=adam;, score=0.662 total time=  23.5s\n",
            "[CV 3/5] END batch_size=100, learning_rate_init=0.1, max_iter=300, n_iter_no_change=5, solver=adam;, score=0.573 total time=  23.5s\n",
            "[CV 4/5] END batch_size=100, learning_rate_init=0.1, max_iter=300, n_iter_no_change=5, solver=adam;, score=0.631 total time=  23.6s\n",
            "[CV 5/5] END batch_size=100, learning_rate_init=0.1, max_iter=300, n_iter_no_change=5, solver=adam;, score=0.486 total time=  23.5s\n",
            "[CV 1/5] END batch_size=100, learning_rate_init=0.1, max_iter=300, n_iter_no_change=10, solver=sgd;, score=0.569 total time= 2.6min\n",
            "[CV 2/5] END batch_size=100, learning_rate_init=0.1, max_iter=300, n_iter_no_change=10, solver=sgd;, score=0.391 total time= 2.2min\n",
            "[CV 3/5] END batch_size=100, learning_rate_init=0.1, max_iter=300, n_iter_no_change=10, solver=sgd;, score=0.433 total time= 2.7min\n",
            "[CV 4/5] END batch_size=100, learning_rate_init=0.1, max_iter=300, n_iter_no_change=10, solver=sgd;, score=0.500 total time= 3.8min\n",
            "[CV 5/5] END batch_size=100, learning_rate_init=0.1, max_iter=300, n_iter_no_change=10, solver=sgd;, score=0.558 total time= 1.6min\n",
            "[CV 1/5] END batch_size=100, learning_rate_init=0.1, max_iter=300, n_iter_no_change=10, solver=adam;, score=0.609 total time=  39.7s\n",
            "[CV 2/5] END batch_size=100, learning_rate_init=0.1, max_iter=300, n_iter_no_change=10, solver=adam;, score=0.536 total time=  42.6s\n",
            "[CV 3/5] END batch_size=100, learning_rate_init=0.1, max_iter=300, n_iter_no_change=10, solver=adam;, score=0.545 total time=  39.6s\n",
            "[CV 4/5] END batch_size=100, learning_rate_init=0.1, max_iter=300, n_iter_no_change=10, solver=adam;, score=0.576 total time=  39.7s\n",
            "[CV 5/5] END batch_size=100, learning_rate_init=0.1, max_iter=300, n_iter_no_change=10, solver=adam;, score=0.553 total time=  39.7s\n",
            "[CV 1/5] END batch_size=100, learning_rate_init=0.4, max_iter=100, n_iter_no_change=5, solver=sgd;, score=0.565 total time=  32.7s\n",
            "[CV 2/5] END batch_size=100, learning_rate_init=0.4, max_iter=100, n_iter_no_change=5, solver=sgd;, score=0.514 total time=  57.7s\n",
            "[CV 3/5] END batch_size=100, learning_rate_init=0.4, max_iter=100, n_iter_no_change=5, solver=sgd;, score=0.501 total time=  42.2s\n",
            "[CV 4/5] END batch_size=100, learning_rate_init=0.4, max_iter=100, n_iter_no_change=5, solver=sgd;, score=0.546 total time=  54.7s\n",
            "[CV 5/5] END batch_size=100, learning_rate_init=0.4, max_iter=100, n_iter_no_change=5, solver=sgd;, score=0.540 total time=  42.3s\n",
            "[CV 1/5] END batch_size=100, learning_rate_init=0.4, max_iter=100, n_iter_no_change=5, solver=adam;, score=0.538 total time=  22.4s\n",
            "[CV 2/5] END batch_size=100, learning_rate_init=0.4, max_iter=100, n_iter_no_change=5, solver=adam;, score=0.564 total time=  22.5s\n",
            "[CV 3/5] END batch_size=100, learning_rate_init=0.4, max_iter=100, n_iter_no_change=5, solver=adam;, score=0.564 total time=  23.1s\n",
            "[CV 4/5] END batch_size=100, learning_rate_init=0.4, max_iter=100, n_iter_no_change=5, solver=adam;, score=0.627 total time=  22.4s\n",
            "[CV 5/5] END batch_size=100, learning_rate_init=0.4, max_iter=100, n_iter_no_change=5, solver=adam;, score=0.463 total time=  22.7s\n",
            "[CV 1/5] END batch_size=100, learning_rate_init=0.4, max_iter=100, n_iter_no_change=10, solver=sgd;, score=0.575 total time= 1.3min\n",
            "[CV 2/5] END batch_size=100, learning_rate_init=0.4, max_iter=100, n_iter_no_change=10, solver=sgd;, score=0.434 total time= 1.3min\n",
            "[CV 3/5] END batch_size=100, learning_rate_init=0.4, max_iter=100, n_iter_no_change=10, solver=sgd;, score=0.464 total time= 1.2min\n",
            "[CV 4/5] END batch_size=100, learning_rate_init=0.4, max_iter=100, n_iter_no_change=10, solver=sgd;, score=0.525 total time= 1.3min\n",
            "[CV 5/5] END batch_size=100, learning_rate_init=0.4, max_iter=100, n_iter_no_change=10, solver=sgd;, score=0.498 total time= 1.4min\n",
            "[CV 1/5] END batch_size=100, learning_rate_init=0.4, max_iter=100, n_iter_no_change=10, solver=adam;, score=0.617 total time=  39.4s\n",
            "[CV 2/5] END batch_size=100, learning_rate_init=0.4, max_iter=100, n_iter_no_change=10, solver=adam;, score=0.581 total time=  38.9s\n",
            "[CV 3/5] END batch_size=100, learning_rate_init=0.4, max_iter=100, n_iter_no_change=10, solver=adam;, score=0.577 total time=  39.9s\n",
            "[CV 4/5] END batch_size=100, learning_rate_init=0.4, max_iter=100, n_iter_no_change=10, solver=adam;, score=0.524 total time=  39.5s\n",
            "[CV 5/5] END batch_size=100, learning_rate_init=0.4, max_iter=100, n_iter_no_change=10, solver=adam;, score=0.510 total time=  42.6s\n",
            "[CV 1/5] END batch_size=100, learning_rate_init=0.4, max_iter=300, n_iter_no_change=5, solver=sgd;, score=0.576 total time= 1.1min\n",
            "[CV 2/5] END batch_size=100, learning_rate_init=0.4, max_iter=300, n_iter_no_change=5, solver=sgd;, score=0.512 total time=  51.5s\n",
            "[CV 3/5] END batch_size=100, learning_rate_init=0.4, max_iter=300, n_iter_no_change=5, solver=sgd;, score=0.450 total time=  54.8s\n",
            "[CV 4/5] END batch_size=100, learning_rate_init=0.4, max_iter=300, n_iter_no_change=5, solver=sgd;, score=0.522 total time=  51.2s\n",
            "[CV 5/5] END batch_size=100, learning_rate_init=0.4, max_iter=300, n_iter_no_change=5, solver=sgd;, score=0.524 total time=  45.4s\n",
            "[CV 1/5] END batch_size=100, learning_rate_init=0.4, max_iter=300, n_iter_no_change=5, solver=adam;, score=0.594 total time=  22.6s\n",
            "[CV 2/5] END batch_size=100, learning_rate_init=0.4, max_iter=300, n_iter_no_change=5, solver=adam;, score=0.555 total time=  22.6s\n",
            "[CV 3/5] END batch_size=100, learning_rate_init=0.4, max_iter=300, n_iter_no_change=5, solver=adam;, score=0.415 total time=  22.7s\n",
            "[CV 4/5] END batch_size=100, learning_rate_init=0.4, max_iter=300, n_iter_no_change=5, solver=adam;, score=0.448 total time=  22.7s\n",
            "[CV 5/5] END batch_size=100, learning_rate_init=0.4, max_iter=300, n_iter_no_change=5, solver=adam;, score=0.392 total time=  22.6s\n",
            "[CV 1/5] END batch_size=100, learning_rate_init=0.4, max_iter=300, n_iter_no_change=10, solver=sgd;, score=0.582 total time= 1.4min\n",
            "[CV 2/5] END batch_size=100, learning_rate_init=0.4, max_iter=300, n_iter_no_change=10, solver=sgd;, score=0.420 total time= 1.1min\n",
            "[CV 3/5] END batch_size=100, learning_rate_init=0.4, max_iter=300, n_iter_no_change=10, solver=sgd;, score=0.443 total time= 1.0min\n",
            "[CV 4/5] END batch_size=100, learning_rate_init=0.4, max_iter=300, n_iter_no_change=10, solver=sgd;, score=0.492 total time= 1.0min\n",
            "[CV 5/5] END batch_size=100, learning_rate_init=0.4, max_iter=300, n_iter_no_change=10, solver=sgd;, score=0.517 total time= 1.2min\n",
            "[CV 1/5] END batch_size=100, learning_rate_init=0.4, max_iter=300, n_iter_no_change=10, solver=adam;, score=0.609 total time=  40.4s\n",
            "[CV 2/5] END batch_size=100, learning_rate_init=0.4, max_iter=300, n_iter_no_change=10, solver=adam;, score=0.535 total time=  40.4s\n",
            "[CV 3/5] END batch_size=100, learning_rate_init=0.4, max_iter=300, n_iter_no_change=10, solver=adam;, score=0.519 total time=  39.0s\n",
            "[CV 4/5] END batch_size=100, learning_rate_init=0.4, max_iter=300, n_iter_no_change=10, solver=adam;, score=0.615 total time=  39.9s\n",
            "[CV 5/5] END batch_size=100, learning_rate_init=0.4, max_iter=300, n_iter_no_change=10, solver=adam;, score=0.412 total time=  40.0s\n",
            "[CV 1/5] END batch_size=200, learning_rate_init=0.1, max_iter=100, n_iter_no_change=5, solver=sgd;, score=0.581 total time= 1.0min\n",
            "[CV 2/5] END batch_size=200, learning_rate_init=0.1, max_iter=100, n_iter_no_change=5, solver=sgd;, score=0.409 total time= 1.2min\n",
            "[CV 3/5] END batch_size=200, learning_rate_init=0.1, max_iter=100, n_iter_no_change=5, solver=sgd;, score=0.435 total time=  58.3s\n",
            "[CV 4/5] END batch_size=200, learning_rate_init=0.1, max_iter=100, n_iter_no_change=5, solver=sgd;, score=0.493 total time=  58.3s\n",
            "[CV 5/5] END batch_size=200, learning_rate_init=0.1, max_iter=100, n_iter_no_change=5, solver=sgd;, score=0.534 total time= 1.3min\n",
            "[CV 1/5] END batch_size=200, learning_rate_init=0.1, max_iter=100, n_iter_no_change=5, solver=adam;, score=0.608 total time=  19.1s\n",
            "[CV 2/5] END batch_size=200, learning_rate_init=0.1, max_iter=100, n_iter_no_change=5, solver=adam;, score=0.554 total time=  19.2s\n",
            "[CV 3/5] END batch_size=200, learning_rate_init=0.1, max_iter=100, n_iter_no_change=5, solver=adam;, score=0.529 total time=  19.0s\n",
            "[CV 4/5] END batch_size=200, learning_rate_init=0.1, max_iter=100, n_iter_no_change=5, solver=adam;, score=0.571 total time=  19.1s\n",
            "[CV 5/5] END batch_size=200, learning_rate_init=0.1, max_iter=100, n_iter_no_change=5, solver=adam;, score=0.583 total time=  19.1s\n",
            "[CV 1/5] END batch_size=200, learning_rate_init=0.1, max_iter=100, n_iter_no_change=10, solver=sgd;, score=0.610 total time= 1.7min\n",
            "[CV 2/5] END batch_size=200, learning_rate_init=0.1, max_iter=100, n_iter_no_change=10, solver=sgd;, score=0.359 total time= 2.3min\n",
            "[CV 3/5] END batch_size=200, learning_rate_init=0.1, max_iter=100, n_iter_no_change=10, solver=sgd;, score=0.413 total time= 2.1min\n",
            "[CV 4/5] END batch_size=200, learning_rate_init=0.1, max_iter=100, n_iter_no_change=10, solver=sgd;, score=0.482 total time= 1.6min\n",
            "[CV 5/5] END batch_size=200, learning_rate_init=0.1, max_iter=100, n_iter_no_change=10, solver=sgd;, score=0.558 total time= 2.4min\n",
            "[CV 1/5] END batch_size=200, learning_rate_init=0.1, max_iter=100, n_iter_no_change=10, solver=adam;, score=0.585 total time=  30.1s\n",
            "[CV 2/5] END batch_size=200, learning_rate_init=0.1, max_iter=100, n_iter_no_change=10, solver=adam;, score=0.532 total time=  32.4s\n",
            "[CV 3/5] END batch_size=200, learning_rate_init=0.1, max_iter=100, n_iter_no_change=10, solver=adam;, score=0.494 total time=  28.0s\n",
            "[CV 4/5] END batch_size=200, learning_rate_init=0.1, max_iter=100, n_iter_no_change=10, solver=adam;, score=0.599 total time=  30.2s\n",
            "[CV 5/5] END batch_size=200, learning_rate_init=0.1, max_iter=100, n_iter_no_change=10, solver=adam;, score=0.568 total time=  29.9s\n",
            "[CV 1/5] END batch_size=200, learning_rate_init=0.1, max_iter=300, n_iter_no_change=5, solver=sgd;, score=0.584 total time= 1.4min\n",
            "[CV 2/5] END batch_size=200, learning_rate_init=0.1, max_iter=300, n_iter_no_change=5, solver=sgd;, score=0.395 total time=  43.9s\n",
            "[CV 3/5] END batch_size=200, learning_rate_init=0.1, max_iter=300, n_iter_no_change=5, solver=sgd;, score=0.422 total time= 1.3min\n",
            "[CV 4/5] END batch_size=200, learning_rate_init=0.1, max_iter=300, n_iter_no_change=5, solver=sgd;, score=0.507 total time=  43.9s\n",
            "[CV 5/5] END batch_size=200, learning_rate_init=0.1, max_iter=300, n_iter_no_change=5, solver=sgd;, score=0.542 total time= 1.8min\n",
            "[CV 1/5] END batch_size=200, learning_rate_init=0.1, max_iter=300, n_iter_no_change=5, solver=adam;, score=0.610 total time=  16.8s\n",
            "[CV 2/5] END batch_size=200, learning_rate_init=0.1, max_iter=300, n_iter_no_change=5, solver=adam;, score=0.568 total time=  23.7s\n",
            "[CV 3/5] END batch_size=200, learning_rate_init=0.1, max_iter=300, n_iter_no_change=5, solver=adam;, score=0.521 total time=  19.2s\n",
            "[CV 4/5] END batch_size=200, learning_rate_init=0.1, max_iter=300, n_iter_no_change=5, solver=adam;, score=0.600 total time=  19.1s\n",
            "[CV 5/5] END batch_size=200, learning_rate_init=0.1, max_iter=300, n_iter_no_change=5, solver=adam;, score=0.548 total time=  16.8s\n",
            "[CV 1/5] END batch_size=200, learning_rate_init=0.1, max_iter=300, n_iter_no_change=10, solver=sgd;, score=0.574 total time= 2.2min\n",
            "[CV 2/5] END batch_size=200, learning_rate_init=0.1, max_iter=300, n_iter_no_change=10, solver=sgd;, score=0.429 total time= 1.1min\n",
            "[CV 3/5] END batch_size=200, learning_rate_init=0.1, max_iter=300, n_iter_no_change=10, solver=sgd;, score=0.420 total time= 2.9min\n",
            "[CV 4/5] END batch_size=200, learning_rate_init=0.1, max_iter=300, n_iter_no_change=10, solver=sgd;, score=0.497 total time= 2.3min\n",
            "[CV 5/5] END batch_size=200, learning_rate_init=0.1, max_iter=300, n_iter_no_change=10, solver=sgd;, score=0.548 total time= 2.2min\n",
            "[CV 1/5] END batch_size=200, learning_rate_init=0.1, max_iter=300, n_iter_no_change=10, solver=adam;, score=0.602 total time=  32.4s\n",
            "[CV 2/5] END batch_size=200, learning_rate_init=0.1, max_iter=300, n_iter_no_change=10, solver=adam;, score=0.492 total time=  30.2s\n",
            "[CV 3/5] END batch_size=200, learning_rate_init=0.1, max_iter=300, n_iter_no_change=10, solver=adam;, score=0.537 total time=  30.1s\n",
            "[CV 4/5] END batch_size=200, learning_rate_init=0.1, max_iter=300, n_iter_no_change=10, solver=adam;, score=0.614 total time=  32.5s\n",
            "[CV 5/5] END batch_size=200, learning_rate_init=0.1, max_iter=300, n_iter_no_change=10, solver=adam;, score=0.505 total time=  30.2s\n",
            "[CV 1/5] END batch_size=200, learning_rate_init=0.4, max_iter=100, n_iter_no_change=5, solver=sgd;, score=0.559 total time=  40.9s\n",
            "[CV 2/5] END batch_size=200, learning_rate_init=0.4, max_iter=100, n_iter_no_change=5, solver=sgd;, score=0.439 total time=  45.8s\n",
            "[CV 3/5] END batch_size=200, learning_rate_init=0.4, max_iter=100, n_iter_no_change=5, solver=sgd;, score=0.414 total time=  38.7s\n",
            "[CV 4/5] END batch_size=200, learning_rate_init=0.4, max_iter=100, n_iter_no_change=5, solver=sgd;, score=0.524 total time= 1.2min\n",
            "[CV 5/5] END batch_size=200, learning_rate_init=0.4, max_iter=100, n_iter_no_change=5, solver=sgd;, score=0.546 total time=  31.5s\n",
            "[CV 1/5] END batch_size=200, learning_rate_init=0.4, max_iter=100, n_iter_no_change=5, solver=adam;, score=0.568 total time=  15.7s\n",
            "[CV 2/5] END batch_size=200, learning_rate_init=0.4, max_iter=100, n_iter_no_change=5, solver=adam;, score=0.556 total time=  15.7s\n",
            "[CV 3/5] END batch_size=200, learning_rate_init=0.4, max_iter=100, n_iter_no_change=5, solver=adam;, score=0.476 total time=  15.7s\n",
            "[CV 4/5] END batch_size=200, learning_rate_init=0.4, max_iter=100, n_iter_no_change=5, solver=adam;, score=0.419 total time=  15.6s\n",
            "[CV 5/5] END batch_size=200, learning_rate_init=0.4, max_iter=100, n_iter_no_change=5, solver=adam;, score=0.511 total time=  15.7s\n",
            "[CV 1/5] END batch_size=200, learning_rate_init=0.4, max_iter=100, n_iter_no_change=10, solver=sgd;, score=0.540 total time= 1.9min\n",
            "[CV 2/5] END batch_size=200, learning_rate_init=0.4, max_iter=100, n_iter_no_change=10, solver=sgd;, score=0.432 total time= 1.5min\n",
            "[CV 3/5] END batch_size=200, learning_rate_init=0.4, max_iter=100, n_iter_no_change=10, solver=sgd;, score=0.380 total time= 1.8min\n",
            "[CV 4/5] END batch_size=200, learning_rate_init=0.4, max_iter=100, n_iter_no_change=10, solver=sgd;, score=0.482 total time= 1.5min\n",
            "[CV 5/5] END batch_size=200, learning_rate_init=0.4, max_iter=100, n_iter_no_change=10, solver=sgd;, score=0.569 total time= 1.2min\n",
            "[CV 1/5] END batch_size=200, learning_rate_init=0.4, max_iter=100, n_iter_no_change=10, solver=adam;, score=0.551 total time=  26.4s\n",
            "[CV 2/5] END batch_size=200, learning_rate_init=0.4, max_iter=100, n_iter_no_change=10, solver=adam;, score=0.642 total time=  26.4s\n",
            "[CV 3/5] END batch_size=200, learning_rate_init=0.4, max_iter=100, n_iter_no_change=10, solver=adam;, score=0.459 total time=  26.5s\n",
            "[CV 4/5] END batch_size=200, learning_rate_init=0.4, max_iter=100, n_iter_no_change=10, solver=adam;, score=0.602 total time=  26.5s\n",
            "[CV 5/5] END batch_size=200, learning_rate_init=0.4, max_iter=100, n_iter_no_change=10, solver=adam;, score=0.499 total time=  26.6s\n",
            "[CV 1/5] END batch_size=200, learning_rate_init=0.4, max_iter=300, n_iter_no_change=5, solver=sgd;, score=0.564 total time=  55.4s\n",
            "[CV 2/5] END batch_size=200, learning_rate_init=0.4, max_iter=300, n_iter_no_change=5, solver=sgd;, score=0.423 total time= 1.1min\n",
            "[CV 3/5] END batch_size=200, learning_rate_init=0.4, max_iter=300, n_iter_no_change=5, solver=sgd;, score=0.460 total time= 1.1min\n",
            "[CV 4/5] END batch_size=200, learning_rate_init=0.4, max_iter=300, n_iter_no_change=5, solver=sgd;, score=0.531 total time= 1.2min\n",
            "[CV 5/5] END batch_size=200, learning_rate_init=0.4, max_iter=300, n_iter_no_change=5, solver=sgd;, score=0.520 total time=  52.9s\n",
            "[CV 1/5] END batch_size=200, learning_rate_init=0.4, max_iter=300, n_iter_no_change=5, solver=adam;, score=0.594 total time=  15.7s\n",
            "[CV 2/5] END batch_size=200, learning_rate_init=0.4, max_iter=300, n_iter_no_change=5, solver=adam;, score=0.632 total time=  15.7s\n",
            "[CV 3/5] END batch_size=200, learning_rate_init=0.4, max_iter=300, n_iter_no_change=5, solver=adam;, score=0.496 total time=  15.8s\n",
            "[CV 4/5] END batch_size=200, learning_rate_init=0.4, max_iter=300, n_iter_no_change=5, solver=adam;, score=0.499 total time=  15.7s\n",
            "[CV 5/5] END batch_size=200, learning_rate_init=0.4, max_iter=300, n_iter_no_change=5, solver=adam;, score=0.482 total time=  15.7s\n",
            "[CV 1/5] END batch_size=200, learning_rate_init=0.4, max_iter=300, n_iter_no_change=10, solver=sgd;, score=0.542 total time= 1.3min\n",
            "[CV 2/5] END batch_size=200, learning_rate_init=0.4, max_iter=300, n_iter_no_change=10, solver=sgd;, score=0.328 total time= 1.3min\n",
            "[CV 3/5] END batch_size=200, learning_rate_init=0.4, max_iter=300, n_iter_no_change=10, solver=sgd;, score=0.405 total time= 2.2min\n",
            "[CV 4/5] END batch_size=200, learning_rate_init=0.4, max_iter=300, n_iter_no_change=10, solver=sgd;, score=0.474 total time= 1.3min\n",
            "[CV 5/5] END batch_size=200, learning_rate_init=0.4, max_iter=300, n_iter_no_change=10, solver=sgd;, score=0.540 total time=  57.4s\n",
            "[CV 1/5] END batch_size=200, learning_rate_init=0.4, max_iter=300, n_iter_no_change=10, solver=adam;, score=0.626 total time=  26.6s\n",
            "[CV 2/5] END batch_size=200, learning_rate_init=0.4, max_iter=300, n_iter_no_change=10, solver=adam;, score=0.583 total time=  26.4s\n",
            "[CV 3/5] END batch_size=200, learning_rate_init=0.4, max_iter=300, n_iter_no_change=10, solver=adam;, score=0.513 total time=  26.4s\n",
            "[CV 4/5] END batch_size=200, learning_rate_init=0.4, max_iter=300, n_iter_no_change=10, solver=adam;, score=0.435 total time=  26.5s\n",
            "[CV 5/5] END batch_size=200, learning_rate_init=0.4, max_iter=300, n_iter_no_change=10, solver=adam;, score=0.493 total time=  26.2s\n"
          ]
        },
        {
          "data": {
            "text/plain": [
              "GridSearchCV(cv=5,\n",
              "             estimator=MLPClassifier(activation='tanh',\n",
              "                                     hidden_layer_sizes=(20, 20)),\n",
              "             param_grid={'batch_size': [100, 200],\n",
              "                         'learning_rate_init': [0.1, 0.4],\n",
              "                         'max_iter': [100, 300], 'n_iter_no_change': [5, 10],\n",
              "                         'solver': ['sgd', 'adam']},\n",
              "             scoring='f1_micro', verbose=3)"
            ]
          },
          "execution_count": 10,
          "metadata": {},
          "output_type": "execute_result"
        }
      ],
      "source": [
        "MLP_1.fit(data_x, data_y)"
      ]
    },
    {
      "cell_type": "code",
      "execution_count": null,
      "metadata": {
        "colab": {
          "base_uri": "https://localhost:8080/"
        },
        "id": "S6LBOTMQx4t4",
        "outputId": "36a21a35-4d56-4f01-dace-b9250911b68e"
      },
      "outputs": [
        {
          "data": {
            "text/plain": [
              "MLPClassifier(activation='tanh', batch_size=100, hidden_layer_sizes=(20, 20),\n",
              "              learning_rate_init=0.1, max_iter=300, n_iter_no_change=5)"
            ]
          },
          "execution_count": 11,
          "metadata": {},
          "output_type": "execute_result"
        }
      ],
      "source": [
        "MLP_1.best_estimator_"
      ]
    },
    {
      "cell_type": "code",
      "execution_count": null,
      "metadata": {
        "colab": {
          "base_uri": "https://localhost:8080/"
        },
        "id": "EYC3nvgRP6Xd",
        "outputId": "f377c642-a8d4-429d-9e50-17a320b074ef"
      },
      "outputs": [
        {
          "data": {
            "text/plain": [
              "0.5908482398016645"
            ]
          },
          "execution_count": 12,
          "metadata": {},
          "output_type": "execute_result"
        }
      ],
      "source": [
        "MLP_1.best_score_"
      ]
    },
    {
      "cell_type": "markdown",
      "metadata": {
        "id": "HwXv_nHHZXH5"
      },
      "source": [
        "### Segunda rede neural\n",
        "\n",
        "* Arquitetura propia;   \n",
        "* Função de ativação: tangente hiperbolica;\n",
        "* Duas camadas ocultas, cada uma com 15 neuronios.\n",
        "\n",
        "---\n",
        "\n",
        "* Melhor Classificador:\n",
        "\n",
        " *   bath_size = 100\n",
        " *   learning_rate_init = 0.1\n",
        " *   max_iter = 300\n",
        " *   n_iter_no_change = 5\n",
        "\n",
        "*   Pontuação do melhor classificador: 0.5888567512904601"
      ]
    },
    {
      "cell_type": "code",
      "execution_count": null,
      "metadata": {
        "id": "8A-P107kCUYA"
      },
      "outputs": [],
      "source": [
        "MLP_2 = MLPClassifier(hidden_layer_sizes=(15,15), activation='tanh')\n",
        "\n",
        "MLP_2 = GridSearchCV(MLP_2, parameter_space, cv=5, verbose=3, scoring='f1_micro')"
      ]
    },
    {
      "cell_type": "code",
      "execution_count": null,
      "metadata": {
        "colab": {
          "base_uri": "https://localhost:8080/"
        },
        "id": "W_6uTqOpvgQT",
        "outputId": "f792c675-ba4c-4498-a995-0fb740f7b278"
      },
      "outputs": [
        {
          "name": "stdout",
          "output_type": "stream",
          "text": [
            "Fitting 5 folds for each of 32 candidates, totalling 160 fits\n",
            "[CV 1/5] END batch_size=100, learning_rate_init=0.1, max_iter=100, n_iter_no_change=5, solver=sgd;, score=0.593 total time= 1.6min\n",
            "[CV 2/5] END batch_size=100, learning_rate_init=0.1, max_iter=100, n_iter_no_change=5, solver=sgd;, score=0.448 total time=  55.4s\n",
            "[CV 3/5] END batch_size=100, learning_rate_init=0.1, max_iter=100, n_iter_no_change=5, solver=sgd;, score=0.478 total time= 1.1min\n",
            "[CV 4/5] END batch_size=100, learning_rate_init=0.1, max_iter=100, n_iter_no_change=5, solver=sgd;, score=0.543 total time= 2.4min\n",
            "[CV 5/5] END batch_size=100, learning_rate_init=0.1, max_iter=100, n_iter_no_change=5, solver=sgd;, score=0.527 total time= 1.6min\n",
            "[CV 1/5] END batch_size=100, learning_rate_init=0.1, max_iter=100, n_iter_no_change=5, solver=adam;, score=0.597 total time=  25.4s\n",
            "[CV 2/5] END batch_size=100, learning_rate_init=0.1, max_iter=100, n_iter_no_change=5, solver=adam;, score=0.588 total time=  25.6s\n",
            "[CV 3/5] END batch_size=100, learning_rate_init=0.1, max_iter=100, n_iter_no_change=5, solver=adam;, score=0.542 total time=  25.2s\n",
            "[CV 4/5] END batch_size=100, learning_rate_init=0.1, max_iter=100, n_iter_no_change=5, solver=adam;, score=0.575 total time=  25.3s\n",
            "[CV 5/5] END batch_size=100, learning_rate_init=0.1, max_iter=100, n_iter_no_change=5, solver=adam;, score=0.572 total time=  25.4s\n",
            "[CV 1/5] END batch_size=100, learning_rate_init=0.1, max_iter=100, n_iter_no_change=10, solver=sgd;, score=0.529 total time= 1.4min\n",
            "[CV 2/5] END batch_size=100, learning_rate_init=0.1, max_iter=100, n_iter_no_change=10, solver=sgd;, score=0.421 total time= 1.7min\n",
            "[CV 3/5] END batch_size=100, learning_rate_init=0.1, max_iter=100, n_iter_no_change=10, solver=sgd;, score=0.490 total time= 1.5min\n",
            "[CV 4/5] END batch_size=100, learning_rate_init=0.1, max_iter=100, n_iter_no_change=10, solver=sgd;, score=0.543 total time= 1.7min\n",
            "[CV 5/5] END batch_size=100, learning_rate_init=0.1, max_iter=100, n_iter_no_change=10, solver=sgd;, score=0.534 total time= 2.0min\n",
            "[CV 1/5] END batch_size=100, learning_rate_init=0.1, max_iter=100, n_iter_no_change=10, solver=adam;, score=0.610 total time=  42.9s\n",
            "[CV 2/5] END batch_size=100, learning_rate_init=0.1, max_iter=100, n_iter_no_change=10, solver=adam;, score=0.569 total time=  42.5s\n",
            "[CV 3/5] END batch_size=100, learning_rate_init=0.1, max_iter=100, n_iter_no_change=10, solver=adam;, score=0.537 total time=  45.8s\n",
            "[CV 4/5] END batch_size=100, learning_rate_init=0.1, max_iter=100, n_iter_no_change=10, solver=adam;, score=0.614 total time=  42.7s\n",
            "[CV 5/5] END batch_size=100, learning_rate_init=0.1, max_iter=100, n_iter_no_change=10, solver=adam;, score=0.565 total time=  42.6s\n",
            "[CV 1/5] END batch_size=100, learning_rate_init=0.1, max_iter=300, n_iter_no_change=5, solver=sgd;, score=0.573 total time= 1.8min\n",
            "[CV 2/5] END batch_size=100, learning_rate_init=0.1, max_iter=300, n_iter_no_change=5, solver=sgd;, score=0.442 total time= 1.4min\n",
            "[CV 3/5] END batch_size=100, learning_rate_init=0.1, max_iter=300, n_iter_no_change=5, solver=sgd;, score=0.425 total time= 1.8min\n",
            "[CV 4/5] END batch_size=100, learning_rate_init=0.1, max_iter=300, n_iter_no_change=5, solver=sgd;, score=0.554 total time=  55.0s\n",
            "[CV 5/5] END batch_size=100, learning_rate_init=0.1, max_iter=300, n_iter_no_change=5, solver=sgd;, score=0.554 total time= 1.5min\n",
            "[CV 1/5] END batch_size=100, learning_rate_init=0.1, max_iter=300, n_iter_no_change=5, solver=adam;, score=0.638 total time=  25.2s\n",
            "[CV 2/5] END batch_size=100, learning_rate_init=0.1, max_iter=300, n_iter_no_change=5, solver=adam;, score=0.701 total time=  25.0s\n",
            "[CV 3/5] END batch_size=100, learning_rate_init=0.1, max_iter=300, n_iter_no_change=5, solver=adam;, score=0.501 total time=  25.2s\n",
            "[CV 4/5] END batch_size=100, learning_rate_init=0.1, max_iter=300, n_iter_no_change=5, solver=adam;, score=0.549 total time=  25.2s\n",
            "[CV 5/5] END batch_size=100, learning_rate_init=0.1, max_iter=300, n_iter_no_change=5, solver=adam;, score=0.555 total time=  25.2s\n",
            "[CV 1/5] END batch_size=100, learning_rate_init=0.1, max_iter=300, n_iter_no_change=10, solver=sgd;, score=0.587 total time= 2.5min\n",
            "[CV 2/5] END batch_size=100, learning_rate_init=0.1, max_iter=300, n_iter_no_change=10, solver=sgd;, score=0.439 total time= 2.1min\n",
            "[CV 3/5] END batch_size=100, learning_rate_init=0.1, max_iter=300, n_iter_no_change=10, solver=sgd;, score=0.423 total time= 1.8min\n",
            "[CV 4/5] END batch_size=100, learning_rate_init=0.1, max_iter=300, n_iter_no_change=10, solver=sgd;, score=0.520 total time= 1.8min\n",
            "[CV 5/5] END batch_size=100, learning_rate_init=0.1, max_iter=300, n_iter_no_change=10, solver=sgd;, score=0.558 total time= 2.1min\n",
            "[CV 1/5] END batch_size=100, learning_rate_init=0.1, max_iter=300, n_iter_no_change=10, solver=adam;, score=0.584 total time=  42.8s\n",
            "[CV 2/5] END batch_size=100, learning_rate_init=0.1, max_iter=300, n_iter_no_change=10, solver=adam;, score=0.652 total time=  42.8s\n",
            "[CV 3/5] END batch_size=100, learning_rate_init=0.1, max_iter=300, n_iter_no_change=10, solver=adam;, score=0.494 total time=  42.7s\n",
            "[CV 4/5] END batch_size=100, learning_rate_init=0.1, max_iter=300, n_iter_no_change=10, solver=adam;, score=0.605 total time=  43.1s\n",
            "[CV 5/5] END batch_size=100, learning_rate_init=0.1, max_iter=300, n_iter_no_change=10, solver=adam;, score=0.531 total time=  43.7s\n",
            "[CV 1/5] END batch_size=100, learning_rate_init=0.4, max_iter=100, n_iter_no_change=5, solver=sgd;, score=0.552 total time=  51.7s\n",
            "[CV 2/5] END batch_size=100, learning_rate_init=0.4, max_iter=100, n_iter_no_change=5, solver=sgd;, score=0.430 total time=  55.6s\n",
            "[CV 3/5] END batch_size=100, learning_rate_init=0.4, max_iter=100, n_iter_no_change=5, solver=sgd;, score=0.508 total time=  55.1s\n",
            "[CV 4/5] END batch_size=100, learning_rate_init=0.4, max_iter=100, n_iter_no_change=5, solver=sgd;, score=0.525 total time= 1.2min\n",
            "[CV 5/5] END batch_size=100, learning_rate_init=0.4, max_iter=100, n_iter_no_change=5, solver=sgd;, score=0.490 total time=  59.0s\n",
            "[CV 1/5] END batch_size=100, learning_rate_init=0.4, max_iter=100, n_iter_no_change=5, solver=adam;, score=0.560 total time=  24.9s\n",
            "[CV 2/5] END batch_size=100, learning_rate_init=0.4, max_iter=100, n_iter_no_change=5, solver=adam;, score=0.360 total time=  24.8s\n",
            "[CV 3/5] END batch_size=100, learning_rate_init=0.4, max_iter=100, n_iter_no_change=5, solver=adam;, score=0.607 total time=  24.5s\n",
            "[CV 4/5] END batch_size=100, learning_rate_init=0.4, max_iter=100, n_iter_no_change=5, solver=adam;, score=0.593 total time=  25.0s\n",
            "[CV 5/5] END batch_size=100, learning_rate_init=0.4, max_iter=100, n_iter_no_change=5, solver=adam;, score=0.485 total time=  24.9s\n",
            "[CV 1/5] END batch_size=100, learning_rate_init=0.4, max_iter=100, n_iter_no_change=10, solver=sgd;, score=0.554 total time= 1.2min\n",
            "[CV 2/5] END batch_size=100, learning_rate_init=0.4, max_iter=100, n_iter_no_change=10, solver=sgd;, score=0.477 total time=  51.6s\n",
            "[CV 3/5] END batch_size=100, learning_rate_init=0.4, max_iter=100, n_iter_no_change=10, solver=sgd;, score=0.451 total time= 1.3min\n",
            "[CV 4/5] END batch_size=100, learning_rate_init=0.4, max_iter=100, n_iter_no_change=10, solver=sgd;, score=0.575 total time= 1.4min\n",
            "[CV 5/5] END batch_size=100, learning_rate_init=0.4, max_iter=100, n_iter_no_change=10, solver=sgd;, score=0.553 total time= 1.1min\n",
            "[CV 1/5] END batch_size=100, learning_rate_init=0.4, max_iter=100, n_iter_no_change=10, solver=adam;, score=0.579 total time=  43.3s\n",
            "[CV 2/5] END batch_size=100, learning_rate_init=0.4, max_iter=100, n_iter_no_change=10, solver=adam;, score=0.569 total time=  43.7s\n",
            "[CV 3/5] END batch_size=100, learning_rate_init=0.4, max_iter=100, n_iter_no_change=10, solver=adam;, score=0.440 total time=  43.3s\n",
            "[CV 4/5] END batch_size=100, learning_rate_init=0.4, max_iter=100, n_iter_no_change=10, solver=adam;, score=0.471 total time=  43.1s\n",
            "[CV 5/5] END batch_size=100, learning_rate_init=0.4, max_iter=100, n_iter_no_change=10, solver=adam;, score=0.389 total time=  43.0s\n",
            "[CV 1/5] END batch_size=100, learning_rate_init=0.4, max_iter=300, n_iter_no_change=5, solver=sgd;, score=0.583 total time=  59.3s\n",
            "[CV 2/5] END batch_size=100, learning_rate_init=0.4, max_iter=300, n_iter_no_change=5, solver=sgd;, score=0.532 total time=  42.0s\n",
            "[CV 3/5] END batch_size=100, learning_rate_init=0.4, max_iter=300, n_iter_no_change=5, solver=sgd;, score=0.460 total time=  54.7s\n",
            "[CV 4/5] END batch_size=100, learning_rate_init=0.4, max_iter=300, n_iter_no_change=5, solver=sgd;, score=0.532 total time= 1.0min\n",
            "[CV 5/5] END batch_size=100, learning_rate_init=0.4, max_iter=300, n_iter_no_change=5, solver=sgd;, score=0.565 total time=  34.4s\n",
            "[CV 1/5] END batch_size=100, learning_rate_init=0.4, max_iter=300, n_iter_no_change=5, solver=adam;, score=0.582 total time=  24.6s\n",
            "[CV 2/5] END batch_size=100, learning_rate_init=0.4, max_iter=300, n_iter_no_change=5, solver=adam;, score=0.614 total time=  25.1s\n",
            "[CV 3/5] END batch_size=100, learning_rate_init=0.4, max_iter=300, n_iter_no_change=5, solver=adam;, score=0.531 total time=  24.8s\n",
            "[CV 4/5] END batch_size=100, learning_rate_init=0.4, max_iter=300, n_iter_no_change=5, solver=adam;, score=0.357 total time=  24.3s\n",
            "[CV 5/5] END batch_size=100, learning_rate_init=0.4, max_iter=300, n_iter_no_change=5, solver=adam;, score=0.500 total time=  24.6s\n",
            "[CV 1/5] END batch_size=100, learning_rate_init=0.4, max_iter=300, n_iter_no_change=10, solver=sgd;, score=0.573 total time= 1.3min\n",
            "[CV 2/5] END batch_size=100, learning_rate_init=0.4, max_iter=300, n_iter_no_change=10, solver=sgd;, score=0.577 total time= 1.7min\n",
            "[CV 3/5] END batch_size=100, learning_rate_init=0.4, max_iter=300, n_iter_no_change=10, solver=sgd;, score=0.446 total time= 1.7min\n",
            "[CV 4/5] END batch_size=100, learning_rate_init=0.4, max_iter=300, n_iter_no_change=10, solver=sgd;, score=0.539 total time= 1.4min\n",
            "[CV 5/5] END batch_size=100, learning_rate_init=0.4, max_iter=300, n_iter_no_change=10, solver=sgd;, score=0.549 total time= 1.0min\n",
            "[CV 1/5] END batch_size=100, learning_rate_init=0.4, max_iter=300, n_iter_no_change=10, solver=adam;, score=0.532 total time=  42.6s\n",
            "[CV 2/5] END batch_size=100, learning_rate_init=0.4, max_iter=300, n_iter_no_change=10, solver=adam;, score=0.392 total time=  41.9s\n",
            "[CV 3/5] END batch_size=100, learning_rate_init=0.4, max_iter=300, n_iter_no_change=10, solver=adam;, score=0.543 total time=  43.4s\n",
            "[CV 4/5] END batch_size=100, learning_rate_init=0.4, max_iter=300, n_iter_no_change=10, solver=adam;, score=0.575 total time=  42.4s\n",
            "[CV 5/5] END batch_size=100, learning_rate_init=0.4, max_iter=300, n_iter_no_change=10, solver=adam;, score=0.479 total time=  42.8s\n",
            "[CV 1/5] END batch_size=200, learning_rate_init=0.1, max_iter=100, n_iter_no_change=5, solver=sgd;, score=0.586 total time= 1.0min\n",
            "[CV 2/5] END batch_size=200, learning_rate_init=0.1, max_iter=100, n_iter_no_change=5, solver=sgd;, score=0.479 total time= 1.6min\n",
            "[CV 3/5] END batch_size=200, learning_rate_init=0.1, max_iter=100, n_iter_no_change=5, solver=sgd;, score=0.470 total time= 1.2min\n",
            "[CV 4/5] END batch_size=200, learning_rate_init=0.1, max_iter=100, n_iter_no_change=5, solver=sgd;, score=0.479 total time= 1.5min\n",
            "[CV 5/5] END batch_size=200, learning_rate_init=0.1, max_iter=100, n_iter_no_change=5, solver=sgd;, score=0.558 total time= 1.2min\n",
            "[CV 1/5] END batch_size=200, learning_rate_init=0.1, max_iter=100, n_iter_no_change=5, solver=adam;, score=0.553 total time=  20.4s\n",
            "[CV 2/5] END batch_size=200, learning_rate_init=0.1, max_iter=100, n_iter_no_change=5, solver=adam;, score=0.563 total time=  20.2s\n",
            "[CV 3/5] END batch_size=200, learning_rate_init=0.1, max_iter=100, n_iter_no_change=5, solver=adam;, score=0.529 total time=  20.1s\n",
            "[CV 4/5] END batch_size=200, learning_rate_init=0.1, max_iter=100, n_iter_no_change=5, solver=adam;, score=0.577 total time=  20.0s\n",
            "[CV 5/5] END batch_size=200, learning_rate_init=0.1, max_iter=100, n_iter_no_change=5, solver=adam;, score=0.527 total time=  20.5s\n",
            "[CV 1/5] END batch_size=200, learning_rate_init=0.1, max_iter=100, n_iter_no_change=10, solver=sgd;, score=0.597 total time= 2.0min\n",
            "[CV 2/5] END batch_size=200, learning_rate_init=0.1, max_iter=100, n_iter_no_change=10, solver=sgd;, score=0.422 total time= 1.8min\n",
            "[CV 3/5] END batch_size=200, learning_rate_init=0.1, max_iter=100, n_iter_no_change=10, solver=sgd;, score=0.410 total time= 3.2min\n",
            "[CV 4/5] END batch_size=200, learning_rate_init=0.1, max_iter=100, n_iter_no_change=10, solver=sgd;, score=0.479 total time= 1.4min\n",
            "[CV 5/5] END batch_size=200, learning_rate_init=0.1, max_iter=100, n_iter_no_change=10, solver=sgd;, score=0.547 total time= 1.3min\n",
            "[CV 1/5] END batch_size=200, learning_rate_init=0.1, max_iter=100, n_iter_no_change=10, solver=adam;, score=0.607 total time=  34.3s\n",
            "[CV 2/5] END batch_size=200, learning_rate_init=0.1, max_iter=100, n_iter_no_change=10, solver=adam;, score=0.585 total time=  36.9s\n",
            "[CV 3/5] END batch_size=200, learning_rate_init=0.1, max_iter=100, n_iter_no_change=10, solver=adam;, score=0.455 total time=  31.9s\n",
            "[CV 4/5] END batch_size=200, learning_rate_init=0.1, max_iter=100, n_iter_no_change=10, solver=adam;, score=0.574 total time=  32.5s\n",
            "[CV 5/5] END batch_size=200, learning_rate_init=0.1, max_iter=100, n_iter_no_change=10, solver=adam;, score=0.581 total time=  32.7s\n",
            "[CV 1/5] END batch_size=200, learning_rate_init=0.1, max_iter=300, n_iter_no_change=5, solver=sgd;, score=0.573 total time=  53.0s\n",
            "[CV 2/5] END batch_size=200, learning_rate_init=0.1, max_iter=300, n_iter_no_change=5, solver=sgd;, score=0.424 total time= 1.6min\n",
            "[CV 3/5] END batch_size=200, learning_rate_init=0.1, max_iter=300, n_iter_no_change=5, solver=sgd;, score=0.460 total time= 1.0min\n",
            "[CV 4/5] END batch_size=200, learning_rate_init=0.1, max_iter=300, n_iter_no_change=5, solver=sgd;, score=0.511 total time= 1.7min\n",
            "[CV 5/5] END batch_size=200, learning_rate_init=0.1, max_iter=300, n_iter_no_change=5, solver=sgd;, score=0.538 total time= 1.5min\n",
            "[CV 1/5] END batch_size=200, learning_rate_init=0.1, max_iter=300, n_iter_no_change=5, solver=adam;, score=0.567 total time=  21.5s\n",
            "[CV 2/5] END batch_size=200, learning_rate_init=0.1, max_iter=300, n_iter_no_change=5, solver=adam;, score=0.515 total time=  24.0s\n",
            "[CV 3/5] END batch_size=200, learning_rate_init=0.1, max_iter=300, n_iter_no_change=5, solver=adam;, score=0.552 total time=  23.8s\n",
            "[CV 4/5] END batch_size=200, learning_rate_init=0.1, max_iter=300, n_iter_no_change=5, solver=adam;, score=0.630 total time=  26.4s\n",
            "[CV 5/5] END batch_size=200, learning_rate_init=0.1, max_iter=300, n_iter_no_change=5, solver=adam;, score=0.540 total time=  21.2s\n",
            "[CV 1/5] END batch_size=200, learning_rate_init=0.1, max_iter=300, n_iter_no_change=10, solver=sgd;, score=0.548 total time= 1.6min\n",
            "[CV 2/5] END batch_size=200, learning_rate_init=0.1, max_iter=300, n_iter_no_change=10, solver=sgd;, score=0.449 total time= 1.5min\n",
            "[CV 3/5] END batch_size=200, learning_rate_init=0.1, max_iter=300, n_iter_no_change=10, solver=sgd;, score=0.431 total time= 1.7min\n",
            "[CV 4/5] END batch_size=200, learning_rate_init=0.1, max_iter=300, n_iter_no_change=10, solver=sgd;, score=0.545 total time= 1.1min\n",
            "[CV 5/5] END batch_size=200, learning_rate_init=0.1, max_iter=300, n_iter_no_change=10, solver=sgd;, score=0.577 total time= 2.0min\n",
            "[CV 1/5] END batch_size=200, learning_rate_init=0.1, max_iter=300, n_iter_no_change=10, solver=adam;, score=0.567 total time=  49.4s\n",
            "[CV 2/5] END batch_size=200, learning_rate_init=0.1, max_iter=300, n_iter_no_change=10, solver=adam;, score=0.534 total time=  33.3s\n",
            "[CV 3/5] END batch_size=200, learning_rate_init=0.1, max_iter=300, n_iter_no_change=10, solver=adam;, score=0.470 total time=  42.7s\n",
            "[CV 4/5] END batch_size=200, learning_rate_init=0.1, max_iter=300, n_iter_no_change=10, solver=adam;, score=0.550 total time=  37.3s\n",
            "[CV 5/5] END batch_size=200, learning_rate_init=0.1, max_iter=300, n_iter_no_change=10, solver=adam;, score=0.554 total time=  34.5s\n",
            "[CV 1/5] END batch_size=200, learning_rate_init=0.4, max_iter=100, n_iter_no_change=5, solver=sgd;, score=0.611 total time= 1.2min\n",
            "[CV 2/5] END batch_size=200, learning_rate_init=0.4, max_iter=100, n_iter_no_change=5, solver=sgd;, score=0.466 total time= 1.0min\n",
            "[CV 3/5] END batch_size=200, learning_rate_init=0.4, max_iter=100, n_iter_no_change=5, solver=sgd;, score=0.479 total time=  39.9s\n",
            "[CV 4/5] END batch_size=200, learning_rate_init=0.4, max_iter=100, n_iter_no_change=5, solver=sgd;, score=0.551 total time= 1.5min\n",
            "[CV 5/5] END batch_size=200, learning_rate_init=0.4, max_iter=100, n_iter_no_change=5, solver=sgd;, score=0.537 total time=  52.1s\n",
            "[CV 1/5] END batch_size=200, learning_rate_init=0.4, max_iter=100, n_iter_no_change=5, solver=adam;, score=0.610 total time=  16.7s\n",
            "[CV 2/5] END batch_size=200, learning_rate_init=0.4, max_iter=100, n_iter_no_change=5, solver=adam;, score=0.660 total time=  16.8s\n",
            "[CV 3/5] END batch_size=200, learning_rate_init=0.4, max_iter=100, n_iter_no_change=5, solver=adam;, score=0.501 total time=  16.8s\n",
            "[CV 4/5] END batch_size=200, learning_rate_init=0.4, max_iter=100, n_iter_no_change=5, solver=adam;, score=0.567 total time=  17.2s\n",
            "[CV 5/5] END batch_size=200, learning_rate_init=0.4, max_iter=100, n_iter_no_change=5, solver=adam;, score=0.498 total time=  16.8s\n",
            "[CV 1/5] END batch_size=200, learning_rate_init=0.4, max_iter=100, n_iter_no_change=10, solver=sgd;, score=0.559 total time= 1.6min\n",
            "[CV 2/5] END batch_size=200, learning_rate_init=0.4, max_iter=100, n_iter_no_change=10, solver=sgd;, score=0.509 total time=  54.9s\n",
            "[CV 3/5] END batch_size=200, learning_rate_init=0.4, max_iter=100, n_iter_no_change=10, solver=sgd;, score=0.430 total time= 2.4min\n",
            "[CV 4/5] END batch_size=200, learning_rate_init=0.4, max_iter=100, n_iter_no_change=10, solver=sgd;, score=0.488 total time= 1.5min\n",
            "[CV 5/5] END batch_size=200, learning_rate_init=0.4, max_iter=100, n_iter_no_change=10, solver=sgd;, score=0.533 total time= 1.8min\n",
            "[CV 1/5] END batch_size=200, learning_rate_init=0.4, max_iter=100, n_iter_no_change=10, solver=adam;, score=0.571 total time=  28.2s\n",
            "[CV 2/5] END batch_size=200, learning_rate_init=0.4, max_iter=100, n_iter_no_change=10, solver=adam;, score=0.613 total time=  28.1s\n",
            "[CV 3/5] END batch_size=200, learning_rate_init=0.4, max_iter=100, n_iter_no_change=10, solver=adam;, score=0.535 total time=  28.1s\n",
            "[CV 4/5] END batch_size=200, learning_rate_init=0.4, max_iter=100, n_iter_no_change=10, solver=adam;, score=0.513 total time=  28.5s\n",
            "[CV 5/5] END batch_size=200, learning_rate_init=0.4, max_iter=100, n_iter_no_change=10, solver=adam;, score=0.464 total time=  28.6s\n",
            "[CV 1/5] END batch_size=200, learning_rate_init=0.4, max_iter=300, n_iter_no_change=5, solver=sgd;, score=0.586 total time=  35.1s\n",
            "[CV 2/5] END batch_size=200, learning_rate_init=0.4, max_iter=300, n_iter_no_change=5, solver=sgd;, score=0.490 total time=  50.1s\n",
            "[CV 3/5] END batch_size=200, learning_rate_init=0.4, max_iter=300, n_iter_no_change=5, solver=sgd;, score=0.516 total time=  37.4s\n",
            "[CV 4/5] END batch_size=200, learning_rate_init=0.4, max_iter=300, n_iter_no_change=5, solver=sgd;, score=0.559 total time= 1.1min\n",
            "[CV 5/5] END batch_size=200, learning_rate_init=0.4, max_iter=300, n_iter_no_change=5, solver=sgd;, score=0.538 total time=  52.7s\n",
            "[CV 1/5] END batch_size=200, learning_rate_init=0.4, max_iter=300, n_iter_no_change=5, solver=adam;, score=0.566 total time=  17.0s\n",
            "[CV 2/5] END batch_size=200, learning_rate_init=0.4, max_iter=300, n_iter_no_change=5, solver=adam;, score=0.619 total time=  16.8s\n",
            "[CV 3/5] END batch_size=200, learning_rate_init=0.4, max_iter=300, n_iter_no_change=5, solver=adam;, score=0.571 total time=  17.0s\n",
            "[CV 4/5] END batch_size=200, learning_rate_init=0.4, max_iter=300, n_iter_no_change=5, solver=adam;, score=0.565 total time=  16.8s\n",
            "[CV 5/5] END batch_size=200, learning_rate_init=0.4, max_iter=300, n_iter_no_change=5, solver=adam;, score=0.486 total time=  16.6s\n",
            "[CV 1/5] END batch_size=200, learning_rate_init=0.4, max_iter=300, n_iter_no_change=10, solver=sgd;, score=0.525 total time= 1.7min\n",
            "[CV 2/5] END batch_size=200, learning_rate_init=0.4, max_iter=300, n_iter_no_change=10, solver=sgd;, score=0.453 total time=  45.0s\n",
            "[CV 3/5] END batch_size=200, learning_rate_init=0.4, max_iter=300, n_iter_no_change=10, solver=sgd;, score=0.429 total time= 1.4min\n",
            "[CV 4/5] END batch_size=200, learning_rate_init=0.4, max_iter=300, n_iter_no_change=10, solver=sgd;, score=0.510 total time= 1.4min\n",
            "[CV 5/5] END batch_size=200, learning_rate_init=0.4, max_iter=300, n_iter_no_change=10, solver=sgd;, score=0.571 total time= 1.8min\n",
            "[CV 1/5] END batch_size=200, learning_rate_init=0.4, max_iter=300, n_iter_no_change=10, solver=adam;, score=0.595 total time=  29.1s\n",
            "[CV 2/5] END batch_size=200, learning_rate_init=0.4, max_iter=300, n_iter_no_change=10, solver=adam;, score=0.516 total time=  28.9s\n",
            "[CV 3/5] END batch_size=200, learning_rate_init=0.4, max_iter=300, n_iter_no_change=10, solver=adam;, score=0.558 total time=  28.6s\n",
            "[CV 4/5] END batch_size=200, learning_rate_init=0.4, max_iter=300, n_iter_no_change=10, solver=adam;, score=0.551 total time=  28.7s\n",
            "[CV 5/5] END batch_size=200, learning_rate_init=0.4, max_iter=300, n_iter_no_change=10, solver=adam;, score=0.478 total time=  29.0s\n"
          ]
        },
        {
          "data": {
            "text/plain": [
              "GridSearchCV(cv=5,\n",
              "             estimator=MLPClassifier(activation='tanh',\n",
              "                                     hidden_layer_sizes=(15, 15)),\n",
              "             param_grid={'batch_size': [100, 200],\n",
              "                         'learning_rate_init': [0.1, 0.4],\n",
              "                         'max_iter': [100, 300], 'n_iter_no_change': [5, 10],\n",
              "                         'solver': ['sgd', 'adam']},\n",
              "             scoring='f1_micro', verbose=3)"
            ]
          },
          "execution_count": 14,
          "metadata": {},
          "output_type": "execute_result"
        }
      ],
      "source": [
        "MLP_2.fit(data_x, data_y)"
      ]
    },
    {
      "cell_type": "code",
      "execution_count": null,
      "metadata": {
        "colab": {
          "base_uri": "https://localhost:8080/"
        },
        "id": "x3BV8P-nKy_u",
        "outputId": "25c2d70f-50f5-4aa2-e1b0-b6f8bd466a1b"
      },
      "outputs": [
        {
          "data": {
            "text/plain": [
              "MLPClassifier(activation='tanh', batch_size=100, hidden_layer_sizes=(15, 15),\n",
              "              learning_rate_init=0.1, max_iter=300, n_iter_no_change=5)"
            ]
          },
          "execution_count": 15,
          "metadata": {},
          "output_type": "execute_result"
        }
      ],
      "source": [
        "MLP_2.best_estimator_"
      ]
    },
    {
      "cell_type": "code",
      "execution_count": null,
      "metadata": {
        "colab": {
          "base_uri": "https://localhost:8080/"
        },
        "id": "Wr8NseyTadsk",
        "outputId": "ec3be2a0-7e4a-4c6c-e867-a0a3c976094c"
      },
      "outputs": [
        {
          "data": {
            "text/plain": [
              "0.5888567512904601"
            ]
          },
          "execution_count": 16,
          "metadata": {},
          "output_type": "execute_result"
        }
      ],
      "source": [
        "MLP_2.best_score_"
      ]
    },
    {
      "cell_type": "markdown",
      "metadata": {
        "id": "VNEcr91ovWNl"
      },
      "source": [
        "### Terceira rede neural\n",
        "\n",
        "* Arquitetura propia;   \n",
        "* Função de ativação: função sigmoide;\n",
        "* Uma camada oculta com 30 neuronios.\n",
        "\n",
        "---\n",
        "\n",
        "* Melhor Classificador:\n",
        "\n",
        " *   bath_size = 100\n",
        " *   learning_rate_init = 0.4\n",
        " *   max_iter = 300\n",
        " *   n_iter_no_change = 5\n",
        "\n",
        "*   Pontuação do melhor classificador: 0.6091334340178542\n"
      ]
    },
    {
      "cell_type": "code",
      "execution_count": null,
      "metadata": {
        "id": "THKqspp_CUe3"
      },
      "outputs": [],
      "source": [
        "MLP_3 = MLPClassifier(hidden_layer_sizes=(30,), activation='logistic')\n",
        "\n",
        "MLP_3 = GridSearchCV(MLP_3, parameter_space, cv=5, verbose=3, scoring='f1_micro')"
      ]
    },
    {
      "cell_type": "code",
      "execution_count": null,
      "metadata": {
        "colab": {
          "base_uri": "https://localhost:8080/"
        },
        "id": "j7dW7NqobDFO",
        "outputId": "deea7ca4-d8c7-4e88-d341-7265fdf3bf67"
      },
      "outputs": [
        {
          "output_type": "stream",
          "name": "stdout",
          "text": [
            "Fitting 5 folds for each of 32 candidates, totalling 160 fits\n",
            "[CV 1/5] END batch_size=100, learning_rate_init=0.1, max_iter=100, n_iter_no_change=5, solver=sgd;, score=0.595 total time= 3.1min\n",
            "[CV 2/5] END batch_size=100, learning_rate_init=0.1, max_iter=100, n_iter_no_change=5, solver=sgd;, score=0.436 total time= 3.1min\n",
            "[CV 3/5] END batch_size=100, learning_rate_init=0.1, max_iter=100, n_iter_no_change=5, solver=sgd;, score=0.414 total time= 2.2min\n",
            "[CV 4/5] END batch_size=100, learning_rate_init=0.1, max_iter=100, n_iter_no_change=5, solver=sgd;, score=0.478 total time= 2.2min\n",
            "[CV 5/5] END batch_size=100, learning_rate_init=0.1, max_iter=100, n_iter_no_change=5, solver=sgd;, score=0.558 total time= 2.8min\n",
            "[CV 1/5] END batch_size=100, learning_rate_init=0.1, max_iter=100, n_iter_no_change=5, solver=adam;, score=0.528 total time= 2.1min\n",
            "[CV 2/5] END batch_size=100, learning_rate_init=0.1, max_iter=100, n_iter_no_change=5, solver=adam;, score=0.441 total time=  57.9s\n",
            "[CV 3/5] END batch_size=100, learning_rate_init=0.1, max_iter=100, n_iter_no_change=5, solver=adam;, score=0.477 total time=  55.4s\n",
            "[CV 4/5] END batch_size=100, learning_rate_init=0.1, max_iter=100, n_iter_no_change=5, solver=adam;, score=0.557 total time= 1.4min\n",
            "[CV 5/5] END batch_size=100, learning_rate_init=0.1, max_iter=100, n_iter_no_change=5, solver=adam;, score=0.556 total time= 1.0min\n",
            "[CV 1/5] END batch_size=100, learning_rate_init=0.1, max_iter=100, n_iter_no_change=10, solver=sgd;, score=0.601 total time= 3.2min\n",
            "[CV 2/5] END batch_size=100, learning_rate_init=0.1, max_iter=100, n_iter_no_change=10, solver=sgd;, score=0.408 total time= 4.2min\n",
            "[CV 3/5] END batch_size=100, learning_rate_init=0.1, max_iter=100, n_iter_no_change=10, solver=sgd;, score=0.432 total time= 2.4min\n",
            "[CV 4/5] END batch_size=100, learning_rate_init=0.1, max_iter=100, n_iter_no_change=10, solver=sgd;, score=0.478 total time= 3.1min\n",
            "[CV 5/5] END batch_size=100, learning_rate_init=0.1, max_iter=100, n_iter_no_change=10, solver=sgd;, score=0.566 total time= 3.8min\n",
            "[CV 1/5] END batch_size=100, learning_rate_init=0.1, max_iter=100, n_iter_no_change=10, solver=adam;, score=0.572 total time= 1.7min\n",
            "[CV 2/5] END batch_size=100, learning_rate_init=0.1, max_iter=100, n_iter_no_change=10, solver=adam;, score=0.409 total time= 1.5min\n",
            "[CV 3/5] END batch_size=100, learning_rate_init=0.1, max_iter=100, n_iter_no_change=10, solver=adam;, score=0.457 total time= 2.0min\n",
            "[CV 4/5] END batch_size=100, learning_rate_init=0.1, max_iter=100, n_iter_no_change=10, solver=adam;, score=0.543 total time= 1.5min\n",
            "[CV 5/5] END batch_size=100, learning_rate_init=0.1, max_iter=100, n_iter_no_change=10, solver=adam;, score=0.534 total time= 1.5min\n",
            "[CV 1/5] END batch_size=100, learning_rate_init=0.1, max_iter=300, n_iter_no_change=5, solver=sgd;, score=0.600 total time= 1.9min\n",
            "[CV 2/5] END batch_size=100, learning_rate_init=0.1, max_iter=300, n_iter_no_change=5, solver=sgd;, score=0.407 total time= 2.2min\n",
            "[CV 3/5] END batch_size=100, learning_rate_init=0.1, max_iter=300, n_iter_no_change=5, solver=sgd;, score=0.425 total time= 2.6min\n",
            "[CV 4/5] END batch_size=100, learning_rate_init=0.1, max_iter=300, n_iter_no_change=5, solver=sgd;, score=0.503 total time= 2.4min\n",
            "[CV 5/5] END batch_size=100, learning_rate_init=0.1, max_iter=300, n_iter_no_change=5, solver=sgd;, score=0.558 total time= 3.0min\n",
            "[CV 1/5] END batch_size=100, learning_rate_init=0.1, max_iter=300, n_iter_no_change=5, solver=adam;, score=0.628 total time=  43.1s\n",
            "[CV 2/5] END batch_size=100, learning_rate_init=0.1, max_iter=300, n_iter_no_change=5, solver=adam;, score=0.462 total time= 1.1min\n",
            "[CV 3/5] END batch_size=100, learning_rate_init=0.1, max_iter=300, n_iter_no_change=5, solver=adam;, score=0.467 total time= 1.0min\n",
            "[CV 4/5] END batch_size=100, learning_rate_init=0.1, max_iter=300, n_iter_no_change=5, solver=adam;, score=0.501 total time= 1.8min\n",
            "[CV 5/5] END batch_size=100, learning_rate_init=0.1, max_iter=300, n_iter_no_change=5, solver=adam;, score=0.519 total time= 1.1min\n",
            "[CV 1/5] END batch_size=100, learning_rate_init=0.1, max_iter=300, n_iter_no_change=10, solver=sgd;, score=0.563 total time= 3.0min\n",
            "[CV 2/5] END batch_size=100, learning_rate_init=0.1, max_iter=300, n_iter_no_change=10, solver=sgd;, score=0.396 total time= 2.9min\n",
            "[CV 3/5] END batch_size=100, learning_rate_init=0.1, max_iter=300, n_iter_no_change=10, solver=sgd;, score=0.416 total time= 3.9min\n",
            "[CV 4/5] END batch_size=100, learning_rate_init=0.1, max_iter=300, n_iter_no_change=10, solver=sgd;, score=0.511 total time= 3.5min\n",
            "[CV 5/5] END batch_size=100, learning_rate_init=0.1, max_iter=300, n_iter_no_change=10, solver=sgd;, score=0.601 total time= 3.6min\n",
            "[CV 1/5] END batch_size=100, learning_rate_init=0.1, max_iter=300, n_iter_no_change=10, solver=adam;, score=0.616 total time= 1.8min\n",
            "[CV 2/5] END batch_size=100, learning_rate_init=0.1, max_iter=300, n_iter_no_change=10, solver=adam;, score=0.411 total time= 2.0min\n",
            "[CV 3/5] END batch_size=100, learning_rate_init=0.1, max_iter=300, n_iter_no_change=10, solver=adam;, score=0.460 total time= 2.3min\n",
            "[CV 4/5] END batch_size=100, learning_rate_init=0.1, max_iter=300, n_iter_no_change=10, solver=adam;, score=0.533 total time= 2.2min\n",
            "[CV 5/5] END batch_size=100, learning_rate_init=0.1, max_iter=300, n_iter_no_change=10, solver=adam;, score=0.539 total time= 2.0min\n",
            "[CV 1/5] END batch_size=100, learning_rate_init=0.4, max_iter=100, n_iter_no_change=5, solver=sgd;, score=0.598 total time= 1.8min\n",
            "[CV 2/5] END batch_size=100, learning_rate_init=0.4, max_iter=100, n_iter_no_change=5, solver=sgd;, score=0.382 total time= 1.6min\n",
            "[CV 3/5] END batch_size=100, learning_rate_init=0.4, max_iter=100, n_iter_no_change=5, solver=sgd;, score=0.402 total time= 1.6min\n",
            "[CV 4/5] END batch_size=100, learning_rate_init=0.4, max_iter=100, n_iter_no_change=5, solver=sgd;, score=0.525 total time= 1.1min\n",
            "[CV 5/5] END batch_size=100, learning_rate_init=0.4, max_iter=100, n_iter_no_change=5, solver=sgd;, score=0.589 total time= 1.5min\n",
            "[CV 1/5] END batch_size=100, learning_rate_init=0.4, max_iter=100, n_iter_no_change=5, solver=adam;, score=0.614 total time=  49.8s\n",
            "[CV 2/5] END batch_size=100, learning_rate_init=0.4, max_iter=100, n_iter_no_change=5, solver=adam;, score=0.595 total time= 1.3min\n",
            "[CV 3/5] END batch_size=100, learning_rate_init=0.4, max_iter=100, n_iter_no_change=5, solver=adam;, score=0.654 total time=  29.9s\n",
            "[CV 4/5] END batch_size=100, learning_rate_init=0.4, max_iter=100, n_iter_no_change=5, solver=adam;, score=0.602 total time=  44.1s\n",
            "[CV 5/5] END batch_size=100, learning_rate_init=0.4, max_iter=100, n_iter_no_change=5, solver=adam;, score=0.537 total time=  38.1s\n",
            "[CV 1/5] END batch_size=100, learning_rate_init=0.4, max_iter=100, n_iter_no_change=10, solver=sgd;, score=0.584 total time= 1.6min\n",
            "[CV 2/5] END batch_size=100, learning_rate_init=0.4, max_iter=100, n_iter_no_change=10, solver=sgd;, score=0.418 total time= 4.1min\n",
            "[CV 3/5] END batch_size=100, learning_rate_init=0.4, max_iter=100, n_iter_no_change=10, solver=sgd;, score=0.460 total time= 2.3min\n",
            "[CV 4/5] END batch_size=100, learning_rate_init=0.4, max_iter=100, n_iter_no_change=10, solver=sgd;, score=0.526 total time= 2.1min\n",
            "[CV 5/5] END batch_size=100, learning_rate_init=0.4, max_iter=100, n_iter_no_change=10, solver=sgd;, score=0.565 total time= 2.9min\n",
            "[CV 1/5] END batch_size=100, learning_rate_init=0.4, max_iter=100, n_iter_no_change=10, solver=adam;, score=0.641 total time=  51.6s\n",
            "[CV 2/5] END batch_size=100, learning_rate_init=0.4, max_iter=100, n_iter_no_change=10, solver=adam;, score=0.650 total time=  49.4s\n",
            "[CV 3/5] END batch_size=100, learning_rate_init=0.4, max_iter=100, n_iter_no_change=10, solver=adam;, score=0.492 total time=  49.1s\n",
            "[CV 4/5] END batch_size=100, learning_rate_init=0.4, max_iter=100, n_iter_no_change=10, solver=adam;, score=0.609 total time= 1.3min\n",
            "[CV 5/5] END batch_size=100, learning_rate_init=0.4, max_iter=100, n_iter_no_change=10, solver=adam;, score=0.514 total time= 1.6min\n",
            "[CV 1/5] END batch_size=100, learning_rate_init=0.4, max_iter=300, n_iter_no_change=5, solver=sgd;, score=0.605 total time= 1.4min\n",
            "[CV 2/5] END batch_size=100, learning_rate_init=0.4, max_iter=300, n_iter_no_change=5, solver=sgd;, score=0.390 total time= 2.3min\n",
            "[CV 3/5] END batch_size=100, learning_rate_init=0.4, max_iter=300, n_iter_no_change=5, solver=sgd;, score=0.441 total time= 1.0min\n",
            "[CV 4/5] END batch_size=100, learning_rate_init=0.4, max_iter=300, n_iter_no_change=5, solver=sgd;, score=0.519 total time= 1.5min\n",
            "[CV 5/5] END batch_size=100, learning_rate_init=0.4, max_iter=300, n_iter_no_change=5, solver=sgd;, score=0.552 total time= 1.4min\n",
            "[CV 1/5] END batch_size=100, learning_rate_init=0.4, max_iter=300, n_iter_no_change=5, solver=adam;, score=0.701 total time= 1.0min\n",
            "[CV 2/5] END batch_size=100, learning_rate_init=0.4, max_iter=300, n_iter_no_change=5, solver=adam;, score=0.683 total time=  56.9s\n",
            "[CV 3/5] END batch_size=100, learning_rate_init=0.4, max_iter=300, n_iter_no_change=5, solver=adam;, score=0.569 total time=  42.9s\n",
            "[CV 4/5] END batch_size=100, learning_rate_init=0.4, max_iter=300, n_iter_no_change=5, solver=adam;, score=0.529 total time= 1.4min\n",
            "[CV 5/5] END batch_size=100, learning_rate_init=0.4, max_iter=300, n_iter_no_change=5, solver=adam;, score=0.564 total time=  46.2s\n",
            "[CV 1/5] END batch_size=100, learning_rate_init=0.4, max_iter=300, n_iter_no_change=10, solver=sgd;, score=0.596 total time= 2.6min\n",
            "[CV 2/5] END batch_size=100, learning_rate_init=0.4, max_iter=300, n_iter_no_change=10, solver=sgd;, score=0.432 total time= 3.1min\n",
            "[CV 3/5] END batch_size=100, learning_rate_init=0.4, max_iter=300, n_iter_no_change=10, solver=sgd;, score=0.460 total time= 1.8min\n",
            "[CV 4/5] END batch_size=100, learning_rate_init=0.4, max_iter=300, n_iter_no_change=10, solver=sgd;, score=0.519 total time= 2.6min\n",
            "[CV 5/5] END batch_size=100, learning_rate_init=0.4, max_iter=300, n_iter_no_change=10, solver=sgd;, score=0.570 total time= 2.1min\n",
            "[CV 1/5] END batch_size=100, learning_rate_init=0.4, max_iter=300, n_iter_no_change=10, solver=adam;, score=0.587 total time= 1.6min\n",
            "[CV 2/5] END batch_size=100, learning_rate_init=0.4, max_iter=300, n_iter_no_change=10, solver=adam;, score=0.695 total time= 1.1min\n",
            "[CV 3/5] END batch_size=100, learning_rate_init=0.4, max_iter=300, n_iter_no_change=10, solver=adam;, score=0.522 total time= 1.0min\n",
            "[CV 4/5] END batch_size=100, learning_rate_init=0.4, max_iter=300, n_iter_no_change=10, solver=adam;, score=0.632 total time=  54.2s\n",
            "[CV 5/5] END batch_size=100, learning_rate_init=0.4, max_iter=300, n_iter_no_change=10, solver=adam;, score=0.553 total time= 2.0min\n",
            "[CV 1/5] END batch_size=200, learning_rate_init=0.1, max_iter=100, n_iter_no_change=5, solver=sgd;, score=0.607 total time= 4.3min\n",
            "[CV 2/5] END batch_size=200, learning_rate_init=0.1, max_iter=100, n_iter_no_change=5, solver=sgd;, score=0.418 total time= 2.8min\n",
            "[CV 3/5] END batch_size=200, learning_rate_init=0.1, max_iter=100, n_iter_no_change=5, solver=sgd;, score=0.465 total time= 3.8min\n",
            "[CV 4/5] END batch_size=200, learning_rate_init=0.1, max_iter=100, n_iter_no_change=5, solver=sgd;, score=0.509 total time= 3.1min\n",
            "[CV 5/5] END batch_size=200, learning_rate_init=0.1, max_iter=100, n_iter_no_change=5, solver=sgd;, score=0.551 total time= 3.6min\n",
            "[CV 1/5] END batch_size=200, learning_rate_init=0.1, max_iter=100, n_iter_no_change=5, solver=adam;, score=0.595 total time=  57.2s\n",
            "[CV 2/5] END batch_size=200, learning_rate_init=0.1, max_iter=100, n_iter_no_change=5, solver=adam;, score=0.454 total time= 1.1min\n",
            "[CV 3/5] END batch_size=200, learning_rate_init=0.1, max_iter=100, n_iter_no_change=5, solver=adam;, score=0.456 total time=  50.3s\n",
            "[CV 4/5] END batch_size=200, learning_rate_init=0.1, max_iter=100, n_iter_no_change=5, solver=adam;, score=0.528 total time= 1.9min\n",
            "[CV 5/5] END batch_size=200, learning_rate_init=0.1, max_iter=100, n_iter_no_change=5, solver=adam;, score=0.547 total time= 1.9min\n"
          ]
        },
        {
          "output_type": "stream",
          "name": "stderr",
          "text": [
            "/usr/local/lib/python3.7/dist-packages/sklearn/neural_network/_multilayer_perceptron.py:696: ConvergenceWarning: Stochastic Optimizer: Maximum iterations (100) reached and the optimization hasn't converged yet.\n",
            "  ConvergenceWarning,\n"
          ]
        },
        {
          "output_type": "stream",
          "name": "stdout",
          "text": [
            "[CV 1/5] END batch_size=200, learning_rate_init=0.1, max_iter=100, n_iter_no_change=10, solver=sgd;, score=0.587 total time= 4.9min\n",
            "[CV 2/5] END batch_size=200, learning_rate_init=0.1, max_iter=100, n_iter_no_change=10, solver=sgd;, score=0.380 total time= 4.7min\n",
            "[CV 3/5] END batch_size=200, learning_rate_init=0.1, max_iter=100, n_iter_no_change=10, solver=sgd;, score=0.411 total time= 4.1min\n"
          ]
        },
        {
          "output_type": "stream",
          "name": "stderr",
          "text": [
            "/usr/local/lib/python3.7/dist-packages/sklearn/neural_network/_multilayer_perceptron.py:696: ConvergenceWarning: Stochastic Optimizer: Maximum iterations (100) reached and the optimization hasn't converged yet.\n",
            "  ConvergenceWarning,\n"
          ]
        },
        {
          "output_type": "stream",
          "name": "stdout",
          "text": [
            "[CV 4/5] END batch_size=200, learning_rate_init=0.1, max_iter=100, n_iter_no_change=10, solver=sgd;, score=0.483 total time= 4.9min\n",
            "[CV 5/5] END batch_size=200, learning_rate_init=0.1, max_iter=100, n_iter_no_change=10, solver=sgd;, score=0.553 total time= 3.8min\n",
            "[CV 1/5] END batch_size=200, learning_rate_init=0.1, max_iter=100, n_iter_no_change=10, solver=adam;, score=0.558 total time= 1.7min\n",
            "[CV 2/5] END batch_size=200, learning_rate_init=0.1, max_iter=100, n_iter_no_change=10, solver=adam;, score=0.445 total time= 1.5min\n",
            "[CV 3/5] END batch_size=200, learning_rate_init=0.1, max_iter=100, n_iter_no_change=10, solver=adam;, score=0.475 total time= 2.0min\n",
            "[CV 4/5] END batch_size=200, learning_rate_init=0.1, max_iter=100, n_iter_no_change=10, solver=adam;, score=0.546 total time= 1.6min\n",
            "[CV 5/5] END batch_size=200, learning_rate_init=0.1, max_iter=100, n_iter_no_change=10, solver=adam;, score=0.531 total time= 1.9min\n",
            "[CV 1/5] END batch_size=200, learning_rate_init=0.1, max_iter=300, n_iter_no_change=5, solver=sgd;, score=0.591 total time= 3.4min\n",
            "[CV 2/5] END batch_size=200, learning_rate_init=0.1, max_iter=300, n_iter_no_change=5, solver=sgd;, score=0.422 total time= 4.1min\n",
            "[CV 3/5] END batch_size=200, learning_rate_init=0.1, max_iter=300, n_iter_no_change=5, solver=sgd;, score=0.421 total time= 4.3min\n",
            "[CV 4/5] END batch_size=200, learning_rate_init=0.1, max_iter=300, n_iter_no_change=5, solver=sgd;, score=0.487 total time= 3.8min\n",
            "[CV 5/5] END batch_size=200, learning_rate_init=0.1, max_iter=300, n_iter_no_change=5, solver=sgd;, score=0.568 total time= 4.4min\n",
            "[CV 1/5] END batch_size=200, learning_rate_init=0.1, max_iter=300, n_iter_no_change=5, solver=adam;, score=0.575 total time= 1.5min\n",
            "[CV 2/5] END batch_size=200, learning_rate_init=0.1, max_iter=300, n_iter_no_change=5, solver=adam;, score=0.453 total time= 1.7min\n",
            "[CV 3/5] END batch_size=200, learning_rate_init=0.1, max_iter=300, n_iter_no_change=5, solver=adam;, score=0.469 total time=  46.5s\n",
            "[CV 4/5] END batch_size=200, learning_rate_init=0.1, max_iter=300, n_iter_no_change=5, solver=adam;, score=0.534 total time= 1.3min\n",
            "[CV 5/5] END batch_size=200, learning_rate_init=0.1, max_iter=300, n_iter_no_change=5, solver=adam;, score=0.550 total time= 1.3min\n",
            "[CV 1/5] END batch_size=200, learning_rate_init=0.1, max_iter=300, n_iter_no_change=10, solver=sgd;, score=0.603 total time= 5.3min\n",
            "[CV 2/5] END batch_size=200, learning_rate_init=0.1, max_iter=300, n_iter_no_change=10, solver=sgd;, score=0.419 total time= 3.7min\n",
            "[CV 3/5] END batch_size=200, learning_rate_init=0.1, max_iter=300, n_iter_no_change=10, solver=sgd;, score=0.429 total time= 4.2min\n",
            "[CV 4/5] END batch_size=200, learning_rate_init=0.1, max_iter=300, n_iter_no_change=10, solver=sgd;, score=0.484 total time= 6.2min\n",
            "[CV 5/5] END batch_size=200, learning_rate_init=0.1, max_iter=300, n_iter_no_change=10, solver=sgd;, score=0.562 total time= 5.6min\n",
            "[CV 1/5] END batch_size=200, learning_rate_init=0.1, max_iter=300, n_iter_no_change=10, solver=adam;, score=0.629 total time= 3.7min\n",
            "[CV 2/5] END batch_size=200, learning_rate_init=0.1, max_iter=300, n_iter_no_change=10, solver=adam;, score=0.434 total time= 2.9min\n",
            "[CV 3/5] END batch_size=200, learning_rate_init=0.1, max_iter=300, n_iter_no_change=10, solver=adam;, score=0.422 total time= 2.6min\n",
            "[CV 4/5] END batch_size=200, learning_rate_init=0.1, max_iter=300, n_iter_no_change=10, solver=adam;, score=0.511 total time= 2.7min\n",
            "[CV 5/5] END batch_size=200, learning_rate_init=0.1, max_iter=300, n_iter_no_change=10, solver=adam;, score=0.577 total time= 2.6min\n",
            "[CV 1/5] END batch_size=200, learning_rate_init=0.4, max_iter=100, n_iter_no_change=5, solver=sgd;, score=0.556 total time= 1.6min\n",
            "[CV 2/5] END batch_size=200, learning_rate_init=0.4, max_iter=100, n_iter_no_change=5, solver=sgd;, score=0.406 total time= 2.3min\n",
            "[CV 3/5] END batch_size=200, learning_rate_init=0.4, max_iter=100, n_iter_no_change=5, solver=sgd;, score=0.438 total time= 1.8min\n",
            "[CV 4/5] END batch_size=200, learning_rate_init=0.4, max_iter=100, n_iter_no_change=5, solver=sgd;, score=0.466 total time= 2.2min\n",
            "[CV 5/5] END batch_size=200, learning_rate_init=0.4, max_iter=100, n_iter_no_change=5, solver=sgd;, score=0.547 total time= 2.8min\n",
            "[CV 1/5] END batch_size=200, learning_rate_init=0.4, max_iter=100, n_iter_no_change=5, solver=adam;, score=0.614 total time=  56.1s\n",
            "[CV 2/5] END batch_size=200, learning_rate_init=0.4, max_iter=100, n_iter_no_change=5, solver=adam;, score=0.522 total time= 1.3min\n",
            "[CV 3/5] END batch_size=200, learning_rate_init=0.4, max_iter=100, n_iter_no_change=5, solver=adam;, score=0.539 total time= 1.1min\n",
            "[CV 4/5] END batch_size=200, learning_rate_init=0.4, max_iter=100, n_iter_no_change=5, solver=adam;, score=0.561 total time=  51.0s\n",
            "[CV 5/5] END batch_size=200, learning_rate_init=0.4, max_iter=100, n_iter_no_change=5, solver=adam;, score=0.561 total time= 1.3min\n",
            "[CV 1/5] END batch_size=200, learning_rate_init=0.4, max_iter=100, n_iter_no_change=10, solver=sgd;, score=0.593 total time= 2.6min\n",
            "[CV 2/5] END batch_size=200, learning_rate_init=0.4, max_iter=100, n_iter_no_change=10, solver=sgd;, score=0.453 total time= 3.2min\n",
            "[CV 3/5] END batch_size=200, learning_rate_init=0.4, max_iter=100, n_iter_no_change=10, solver=sgd;, score=0.438 total time= 1.8min\n",
            "[CV 4/5] END batch_size=200, learning_rate_init=0.4, max_iter=100, n_iter_no_change=10, solver=sgd;, score=0.517 total time= 2.3min\n",
            "[CV 5/5] END batch_size=200, learning_rate_init=0.4, max_iter=100, n_iter_no_change=10, solver=sgd;, score=0.581 total time= 2.8min\n",
            "[CV 1/5] END batch_size=200, learning_rate_init=0.4, max_iter=100, n_iter_no_change=10, solver=adam;, score=0.594 total time= 1.6min\n",
            "[CV 2/5] END batch_size=200, learning_rate_init=0.4, max_iter=100, n_iter_no_change=10, solver=adam;, score=0.548 total time= 1.6min\n",
            "[CV 3/5] END batch_size=200, learning_rate_init=0.4, max_iter=100, n_iter_no_change=10, solver=adam;, score=0.541 total time= 1.7min\n",
            "[CV 4/5] END batch_size=200, learning_rate_init=0.4, max_iter=100, n_iter_no_change=10, solver=adam;, score=0.570 total time= 1.5min\n",
            "[CV 5/5] END batch_size=200, learning_rate_init=0.4, max_iter=100, n_iter_no_change=10, solver=adam;, score=0.530 total time= 1.5min\n",
            "[CV 1/5] END batch_size=200, learning_rate_init=0.4, max_iter=300, n_iter_no_change=5, solver=sgd;, score=0.551 total time= 1.8min\n",
            "[CV 2/5] END batch_size=200, learning_rate_init=0.4, max_iter=300, n_iter_no_change=5, solver=sgd;, score=0.440 total time= 2.4min\n",
            "[CV 3/5] END batch_size=200, learning_rate_init=0.4, max_iter=300, n_iter_no_change=5, solver=sgd;, score=0.412 total time= 2.3min\n",
            "[CV 4/5] END batch_size=200, learning_rate_init=0.4, max_iter=300, n_iter_no_change=5, solver=sgd;, score=0.497 total time= 2.7min\n",
            "[CV 5/5] END batch_size=200, learning_rate_init=0.4, max_iter=300, n_iter_no_change=5, solver=sgd;, score=0.557 total time= 2.1min\n",
            "[CV 1/5] END batch_size=200, learning_rate_init=0.4, max_iter=300, n_iter_no_change=5, solver=adam;, score=0.596 total time=  55.8s\n",
            "[CV 2/5] END batch_size=200, learning_rate_init=0.4, max_iter=300, n_iter_no_change=5, solver=adam;, score=0.579 total time= 1.3min\n",
            "[CV 3/5] END batch_size=200, learning_rate_init=0.4, max_iter=300, n_iter_no_change=5, solver=adam;, score=0.559 total time= 1.5min\n",
            "[CV 4/5] END batch_size=200, learning_rate_init=0.4, max_iter=300, n_iter_no_change=5, solver=adam;, score=0.627 total time=  56.5s\n",
            "[CV 5/5] END batch_size=200, learning_rate_init=0.4, max_iter=300, n_iter_no_change=5, solver=adam;, score=0.515 total time=  59.9s\n",
            "[CV 1/5] END batch_size=200, learning_rate_init=0.4, max_iter=300, n_iter_no_change=10, solver=sgd;, score=0.560 total time= 3.2min\n",
            "[CV 2/5] END batch_size=200, learning_rate_init=0.4, max_iter=300, n_iter_no_change=10, solver=sgd;, score=0.397 total time= 3.4min\n",
            "[CV 3/5] END batch_size=200, learning_rate_init=0.4, max_iter=300, n_iter_no_change=10, solver=sgd;, score=0.390 total time= 3.8min\n",
            "[CV 4/5] END batch_size=200, learning_rate_init=0.4, max_iter=300, n_iter_no_change=10, solver=sgd;, score=0.525 total time= 2.4min\n",
            "[CV 5/5] END batch_size=200, learning_rate_init=0.4, max_iter=300, n_iter_no_change=10, solver=sgd;, score=0.590 total time= 2.1min\n",
            "[CV 1/5] END batch_size=200, learning_rate_init=0.4, max_iter=300, n_iter_no_change=10, solver=adam;, score=0.589 total time= 1.8min\n",
            "[CV 2/5] END batch_size=200, learning_rate_init=0.4, max_iter=300, n_iter_no_change=10, solver=adam;, score=0.546 total time= 1.2min\n",
            "[CV 3/5] END batch_size=200, learning_rate_init=0.4, max_iter=300, n_iter_no_change=10, solver=adam;, score=0.560 total time= 1.2min\n",
            "[CV 4/5] END batch_size=200, learning_rate_init=0.4, max_iter=300, n_iter_no_change=10, solver=adam;, score=0.566 total time= 2.3min\n",
            "[CV 5/5] END batch_size=200, learning_rate_init=0.4, max_iter=300, n_iter_no_change=10, solver=adam;, score=0.560 total time= 1.3min\n"
          ]
        },
        {
          "output_type": "execute_result",
          "data": {
            "text/plain": [
              "0.6091334340178542"
            ]
          },
          "metadata": {},
          "execution_count": 9
        }
      ],
      "source": [
        "MLP_3.fit(data_x, data_y)"
      ]
    },
    {
      "cell_type": "code",
      "execution_count": null,
      "metadata": {
        "id": "-FyubeqyLNDR",
        "colab": {
          "base_uri": "https://localhost:8080/"
        },
        "outputId": "de04361d-83b1-4119-d7cb-99b76e42ea83"
      },
      "outputs": [
        {
          "output_type": "execute_result",
          "data": {
            "text/plain": [
              "MLPClassifier(activation='logistic', batch_size=100, hidden_layer_sizes=(30,),\n",
              "              learning_rate_init=0.4, max_iter=300, n_iter_no_change=5)"
            ]
          },
          "metadata": {},
          "execution_count": 10
        }
      ],
      "source": [
        "MLP_3.best_estimator_"
      ]
    },
    {
      "cell_type": "code",
      "execution_count": null,
      "metadata": {
        "id": "a2RTYhC1STcd",
        "colab": {
          "base_uri": "https://localhost:8080/"
        },
        "outputId": "747affe4-bce8-49a5-f7ca-23edb7542744"
      },
      "outputs": [
        {
          "output_type": "execute_result",
          "data": {
            "text/plain": [
              "0.6091334340178542"
            ]
          },
          "metadata": {},
          "execution_count": 11
        }
      ],
      "source": [
        "MLP_3.best_score_"
      ]
    },
    {
      "cell_type": "markdown",
      "metadata": {
        "id": "QG7jRVecLWDg"
      },
      "source": [
        "### Quarta rede neural\n",
        "\n",
        "* Arquitetura da regra da piramide geometrica;   \n",
        "* Função de ativação: tangente hiperbolica;\n",
        "* Duas camadas ocultas, a primeira com 10 neuronios e a segunda com 15 neuronios.\n",
        "\n",
        "---\n",
        "\n",
        "* Melhor Classificador:\n",
        "\n",
        " *   bath_size = 100\n",
        " *   learning_rate_init = 0.1\n",
        " *   max_iter = 300\n",
        " *   n_iter_no_change = 5\n",
        "\n",
        "*   Pontuação do melhor classificador: 0.5884782513090315\n"
      ]
    },
    {
      "cell_type": "code",
      "execution_count": null,
      "metadata": {
        "id": "4ntwMLPtCUmW"
      },
      "outputs": [],
      "source": [
        "MLP_4 = MLPClassifier(hidden_layer_sizes=(10, 15,), activation='tanh')\n",
        "\n",
        "MLP_4 = GridSearchCV(MLP_4, parameter_space, cv=5, verbose=3, scoring='f1_micro')"
      ]
    },
    {
      "cell_type": "code",
      "execution_count": null,
      "metadata": {
        "colab": {
          "base_uri": "https://localhost:8080/"
        },
        "id": "5Y05EMBSbb5e",
        "outputId": "d21fb4dd-efcf-4a89-d11b-fa7c1e4a3eeb"
      },
      "outputs": [
        {
          "name": "stdout",
          "output_type": "stream",
          "text": [
            "Fitting 5 folds for each of 32 candidates, totalling 160 fits\n",
            "[CV 1/5] END batch_size=100, learning_rate_init=0.1, max_iter=100, n_iter_no_change=5, solver=sgd;, score=0.591 total time= 1.6min\n",
            "[CV 2/5] END batch_size=100, learning_rate_init=0.1, max_iter=100, n_iter_no_change=5, solver=sgd;, score=0.446 total time= 1.3min\n",
            "[CV 3/5] END batch_size=100, learning_rate_init=0.1, max_iter=100, n_iter_no_change=5, solver=sgd;, score=0.461 total time=  50.6s\n",
            "[CV 4/5] END batch_size=100, learning_rate_init=0.1, max_iter=100, n_iter_no_change=5, solver=sgd;, score=0.570 total time=  43.6s\n",
            "[CV 5/5] END batch_size=100, learning_rate_init=0.1, max_iter=100, n_iter_no_change=5, solver=sgd;, score=0.524 total time=  57.5s\n",
            "[CV 1/5] END batch_size=100, learning_rate_init=0.1, max_iter=100, n_iter_no_change=5, solver=adam;, score=0.596 total time=  24.5s\n",
            "[CV 2/5] END batch_size=100, learning_rate_init=0.1, max_iter=100, n_iter_no_change=5, solver=adam;, score=0.671 total time=  25.2s\n",
            "[CV 3/5] END batch_size=100, learning_rate_init=0.1, max_iter=100, n_iter_no_change=5, solver=adam;, score=0.551 total time=  25.2s\n",
            "[CV 4/5] END batch_size=100, learning_rate_init=0.1, max_iter=100, n_iter_no_change=5, solver=adam;, score=0.550 total time=  25.1s\n",
            "[CV 5/5] END batch_size=100, learning_rate_init=0.1, max_iter=100, n_iter_no_change=5, solver=adam;, score=0.552 total time=  25.1s\n",
            "[CV 1/5] END batch_size=100, learning_rate_init=0.1, max_iter=100, n_iter_no_change=10, solver=sgd;, score=0.607 total time= 2.2min\n",
            "[CV 2/5] END batch_size=100, learning_rate_init=0.1, max_iter=100, n_iter_no_change=10, solver=sgd;, score=0.337 total time= 1.6min\n",
            "[CV 3/5] END batch_size=100, learning_rate_init=0.1, max_iter=100, n_iter_no_change=10, solver=sgd;, score=0.475 total time= 1.5min\n",
            "[CV 4/5] END batch_size=100, learning_rate_init=0.1, max_iter=100, n_iter_no_change=10, solver=sgd;, score=0.533 total time= 1.5min\n",
            "[CV 5/5] END batch_size=100, learning_rate_init=0.1, max_iter=100, n_iter_no_change=10, solver=sgd;, score=0.566 total time= 1.8min\n",
            "[CV 1/5] END batch_size=100, learning_rate_init=0.1, max_iter=100, n_iter_no_change=10, solver=adam;, score=0.603 total time=  41.4s\n",
            "[CV 2/5] END batch_size=100, learning_rate_init=0.1, max_iter=100, n_iter_no_change=10, solver=adam;, score=0.509 total time=  42.8s\n",
            "[CV 3/5] END batch_size=100, learning_rate_init=0.1, max_iter=100, n_iter_no_change=10, solver=adam;, score=0.547 total time=  41.7s\n",
            "[CV 4/5] END batch_size=100, learning_rate_init=0.1, max_iter=100, n_iter_no_change=10, solver=adam;, score=0.595 total time=  44.7s\n",
            "[CV 5/5] END batch_size=100, learning_rate_init=0.1, max_iter=100, n_iter_no_change=10, solver=adam;, score=0.507 total time=  41.3s\n",
            "[CV 1/5] END batch_size=100, learning_rate_init=0.1, max_iter=300, n_iter_no_change=5, solver=sgd;, score=0.589 total time= 1.4min\n",
            "[CV 2/5] END batch_size=100, learning_rate_init=0.1, max_iter=300, n_iter_no_change=5, solver=sgd;, score=0.476 total time= 1.0min\n",
            "[CV 3/5] END batch_size=100, learning_rate_init=0.1, max_iter=300, n_iter_no_change=5, solver=sgd;, score=0.478 total time= 1.0min\n",
            "[CV 4/5] END batch_size=100, learning_rate_init=0.1, max_iter=300, n_iter_no_change=5, solver=sgd;, score=0.556 total time= 1.0min\n",
            "[CV 5/5] END batch_size=100, learning_rate_init=0.1, max_iter=300, n_iter_no_change=5, solver=sgd;, score=0.560 total time= 1.2min\n",
            "[CV 1/5] END batch_size=100, learning_rate_init=0.1, max_iter=300, n_iter_no_change=5, solver=adam;, score=0.627 total time=  24.2s\n",
            "[CV 2/5] END batch_size=100, learning_rate_init=0.1, max_iter=300, n_iter_no_change=5, solver=adam;, score=0.554 total time=  24.3s\n",
            "[CV 3/5] END batch_size=100, learning_rate_init=0.1, max_iter=300, n_iter_no_change=5, solver=adam;, score=0.543 total time=  24.2s\n",
            "[CV 4/5] END batch_size=100, learning_rate_init=0.1, max_iter=300, n_iter_no_change=5, solver=adam;, score=0.608 total time=  24.3s\n",
            "[CV 5/5] END batch_size=100, learning_rate_init=0.1, max_iter=300, n_iter_no_change=5, solver=adam;, score=0.538 total time=  24.4s\n",
            "[CV 1/5] END batch_size=100, learning_rate_init=0.1, max_iter=300, n_iter_no_change=10, solver=sgd;, score=0.603 total time= 2.1min\n",
            "[CV 2/5] END batch_size=100, learning_rate_init=0.1, max_iter=300, n_iter_no_change=10, solver=sgd;, score=0.388 total time= 1.9min\n",
            "[CV 3/5] END batch_size=100, learning_rate_init=0.1, max_iter=300, n_iter_no_change=10, solver=sgd;, score=0.451 total time= 1.4min\n",
            "[CV 4/5] END batch_size=100, learning_rate_init=0.1, max_iter=300, n_iter_no_change=10, solver=sgd;, score=0.586 total time= 1.9min\n",
            "[CV 5/5] END batch_size=100, learning_rate_init=0.1, max_iter=300, n_iter_no_change=10, solver=sgd;, score=0.551 total time= 1.1min\n",
            "[CV 1/5] END batch_size=100, learning_rate_init=0.1, max_iter=300, n_iter_no_change=10, solver=adam;, score=0.653 total time=  41.3s\n",
            "[CV 2/5] END batch_size=100, learning_rate_init=0.1, max_iter=300, n_iter_no_change=10, solver=adam;, score=0.598 total time=  41.9s\n",
            "[CV 3/5] END batch_size=100, learning_rate_init=0.1, max_iter=300, n_iter_no_change=10, solver=adam;, score=0.529 total time=  41.9s\n",
            "[CV 4/5] END batch_size=100, learning_rate_init=0.1, max_iter=300, n_iter_no_change=10, solver=adam;, score=0.594 total time=  44.6s\n",
            "[CV 5/5] END batch_size=100, learning_rate_init=0.1, max_iter=300, n_iter_no_change=10, solver=adam;, score=0.568 total time=  43.2s\n",
            "[CV 1/5] END batch_size=100, learning_rate_init=0.4, max_iter=100, n_iter_no_change=5, solver=sgd;, score=0.647 total time= 1.1min\n",
            "[CV 2/5] END batch_size=100, learning_rate_init=0.4, max_iter=100, n_iter_no_change=5, solver=sgd;, score=0.491 total time=  29.2s\n",
            "[CV 3/5] END batch_size=100, learning_rate_init=0.4, max_iter=100, n_iter_no_change=5, solver=sgd;, score=0.484 total time=  48.2s\n",
            "[CV 4/5] END batch_size=100, learning_rate_init=0.4, max_iter=100, n_iter_no_change=5, solver=sgd;, score=0.534 total time=  29.2s\n",
            "[CV 5/5] END batch_size=100, learning_rate_init=0.4, max_iter=100, n_iter_no_change=5, solver=sgd;, score=0.467 total time=  48.3s\n",
            "[CV 1/5] END batch_size=100, learning_rate_init=0.4, max_iter=100, n_iter_no_change=5, solver=adam;, score=0.578 total time=  23.6s\n",
            "[CV 2/5] END batch_size=100, learning_rate_init=0.4, max_iter=100, n_iter_no_change=5, solver=adam;, score=0.573 total time=  23.7s\n",
            "[CV 3/5] END batch_size=100, learning_rate_init=0.4, max_iter=100, n_iter_no_change=5, solver=adam;, score=0.541 total time=  23.9s\n",
            "[CV 4/5] END batch_size=100, learning_rate_init=0.4, max_iter=100, n_iter_no_change=5, solver=adam;, score=0.493 total time=  23.7s\n",
            "[CV 5/5] END batch_size=100, learning_rate_init=0.4, max_iter=100, n_iter_no_change=5, solver=adam;, score=0.453 total time=  23.6s\n",
            "[CV 1/5] END batch_size=100, learning_rate_init=0.4, max_iter=100, n_iter_no_change=10, solver=sgd;, score=0.503 total time=  48.3s\n",
            "[CV 2/5] END batch_size=100, learning_rate_init=0.4, max_iter=100, n_iter_no_change=10, solver=sgd;, score=0.535 total time= 1.1min\n",
            "[CV 3/5] END batch_size=100, learning_rate_init=0.4, max_iter=100, n_iter_no_change=10, solver=sgd;, score=0.496 total time= 1.3min\n",
            "[CV 4/5] END batch_size=100, learning_rate_init=0.4, max_iter=100, n_iter_no_change=10, solver=sgd;, score=0.579 total time= 2.2min\n",
            "[CV 5/5] END batch_size=100, learning_rate_init=0.4, max_iter=100, n_iter_no_change=10, solver=sgd;, score=0.503 total time= 1.3min\n",
            "[CV 1/5] END batch_size=100, learning_rate_init=0.4, max_iter=100, n_iter_no_change=10, solver=adam;, score=0.593 total time=  41.9s\n",
            "[CV 2/5] END batch_size=100, learning_rate_init=0.4, max_iter=100, n_iter_no_change=10, solver=adam;, score=0.035 total time= 1.2min\n",
            "[CV 3/5] END batch_size=100, learning_rate_init=0.4, max_iter=100, n_iter_no_change=10, solver=adam;, score=0.519 total time= 1.4min\n",
            "[CV 4/5] END batch_size=100, learning_rate_init=0.4, max_iter=100, n_iter_no_change=10, solver=adam;, score=0.557 total time=  41.2s\n",
            "[CV 5/5] END batch_size=100, learning_rate_init=0.4, max_iter=100, n_iter_no_change=10, solver=adam;, score=0.439 total time=  40.9s\n",
            "[CV 1/5] END batch_size=100, learning_rate_init=0.4, max_iter=300, n_iter_no_change=5, solver=sgd;, score=0.568 total time=  39.5s\n",
            "[CV 2/5] END batch_size=100, learning_rate_init=0.4, max_iter=300, n_iter_no_change=5, solver=sgd;, score=0.408 total time=  58.5s\n",
            "[CV 3/5] END batch_size=100, learning_rate_init=0.4, max_iter=300, n_iter_no_change=5, solver=sgd;, score=0.537 total time=  35.6s\n",
            "[CV 4/5] END batch_size=100, learning_rate_init=0.4, max_iter=300, n_iter_no_change=5, solver=sgd;, score=0.596 total time=  38.9s\n",
            "[CV 5/5] END batch_size=100, learning_rate_init=0.4, max_iter=300, n_iter_no_change=5, solver=sgd;, score=0.570 total time=  54.8s\n",
            "[CV 1/5] END batch_size=100, learning_rate_init=0.4, max_iter=300, n_iter_no_change=5, solver=adam;, score=0.582 total time=  23.4s\n",
            "[CV 2/5] END batch_size=100, learning_rate_init=0.4, max_iter=300, n_iter_no_change=5, solver=adam;, score=0.607 total time=  23.6s\n",
            "[CV 3/5] END batch_size=100, learning_rate_init=0.4, max_iter=300, n_iter_no_change=5, solver=adam;, score=0.417 total time=  23.8s\n",
            "[CV 4/5] END batch_size=100, learning_rate_init=0.4, max_iter=300, n_iter_no_change=5, solver=adam;, score=0.613 total time=  23.5s\n",
            "[CV 5/5] END batch_size=100, learning_rate_init=0.4, max_iter=300, n_iter_no_change=5, solver=adam;, score=0.483 total time=  23.9s\n",
            "[CV 1/5] END batch_size=100, learning_rate_init=0.4, max_iter=300, n_iter_no_change=10, solver=sgd;, score=0.607 total time= 1.5min\n",
            "[CV 2/5] END batch_size=100, learning_rate_init=0.4, max_iter=300, n_iter_no_change=10, solver=sgd;, score=0.478 total time= 1.2min\n",
            "[CV 3/5] END batch_size=100, learning_rate_init=0.4, max_iter=300, n_iter_no_change=10, solver=sgd;, score=0.495 total time=  57.9s\n",
            "[CV 4/5] END batch_size=100, learning_rate_init=0.4, max_iter=300, n_iter_no_change=10, solver=sgd;, score=0.565 total time= 1.4min\n",
            "[CV 5/5] END batch_size=100, learning_rate_init=0.4, max_iter=300, n_iter_no_change=10, solver=sgd;, score=0.529 total time= 1.0min\n",
            "[CV 1/5] END batch_size=100, learning_rate_init=0.4, max_iter=300, n_iter_no_change=10, solver=adam;, score=0.551 total time=  41.7s\n",
            "[CV 2/5] END batch_size=100, learning_rate_init=0.4, max_iter=300, n_iter_no_change=10, solver=adam;, score=0.508 total time=  42.8s\n",
            "[CV 3/5] END batch_size=100, learning_rate_init=0.4, max_iter=300, n_iter_no_change=10, solver=adam;, score=0.590 total time=  41.6s\n",
            "[CV 4/5] END batch_size=100, learning_rate_init=0.4, max_iter=300, n_iter_no_change=10, solver=adam;, score=0.568 total time= 1.4min\n",
            "[CV 5/5] END batch_size=100, learning_rate_init=0.4, max_iter=300, n_iter_no_change=10, solver=adam;, score=0.455 total time=  42.0s\n",
            "[CV 1/5] END batch_size=200, learning_rate_init=0.1, max_iter=100, n_iter_no_change=5, solver=sgd;, score=0.613 total time=  44.5s\n",
            "[CV 2/5] END batch_size=200, learning_rate_init=0.1, max_iter=100, n_iter_no_change=5, solver=sgd;, score=0.429 total time=  40.1s\n",
            "[CV 3/5] END batch_size=200, learning_rate_init=0.1, max_iter=100, n_iter_no_change=5, solver=sgd;, score=0.471 total time= 1.3min\n",
            "[CV 4/5] END batch_size=200, learning_rate_init=0.1, max_iter=100, n_iter_no_change=5, solver=sgd;, score=0.554 total time= 1.2min\n",
            "[CV 5/5] END batch_size=200, learning_rate_init=0.1, max_iter=100, n_iter_no_change=5, solver=sgd;, score=0.566 total time= 1.2min\n",
            "[CV 1/5] END batch_size=200, learning_rate_init=0.1, max_iter=100, n_iter_no_change=5, solver=adam;, score=0.637 total time=  21.5s\n",
            "[CV 2/5] END batch_size=200, learning_rate_init=0.1, max_iter=100, n_iter_no_change=5, solver=adam;, score=0.581 total time=  17.0s\n",
            "[CV 3/5] END batch_size=200, learning_rate_init=0.1, max_iter=100, n_iter_no_change=5, solver=adam;, score=0.499 total time=  19.0s\n",
            "[CV 4/5] END batch_size=200, learning_rate_init=0.1, max_iter=100, n_iter_no_change=5, solver=adam;, score=0.570 total time=  19.0s\n",
            "[CV 5/5] END batch_size=200, learning_rate_init=0.1, max_iter=100, n_iter_no_change=5, solver=adam;, score=0.515 total time=  19.2s\n",
            "[CV 1/5] END batch_size=200, learning_rate_init=0.1, max_iter=100, n_iter_no_change=10, solver=sgd;, score=0.610 total time=  55.4s\n",
            "[CV 2/5] END batch_size=200, learning_rate_init=0.1, max_iter=100, n_iter_no_change=10, solver=sgd;, score=0.502 total time= 1.3min\n",
            "[CV 3/5] END batch_size=200, learning_rate_init=0.1, max_iter=100, n_iter_no_change=10, solver=sgd;, score=0.425 total time=  48.4s\n",
            "[CV 4/5] END batch_size=200, learning_rate_init=0.1, max_iter=100, n_iter_no_change=10, solver=sgd;, score=0.535 total time= 1.6min\n",
            "[CV 5/5] END batch_size=200, learning_rate_init=0.1, max_iter=100, n_iter_no_change=10, solver=sgd;, score=0.537 total time= 1.8min\n",
            "[CV 1/5] END batch_size=200, learning_rate_init=0.1, max_iter=100, n_iter_no_change=10, solver=adam;, score=0.547 total time=  30.9s\n",
            "[CV 2/5] END batch_size=200, learning_rate_init=0.1, max_iter=100, n_iter_no_change=10, solver=adam;, score=0.599 total time=  32.5s\n",
            "[CV 3/5] END batch_size=200, learning_rate_init=0.1, max_iter=100, n_iter_no_change=10, solver=adam;, score=0.495 total time=  31.4s\n",
            "[CV 4/5] END batch_size=200, learning_rate_init=0.1, max_iter=100, n_iter_no_change=10, solver=adam;, score=0.525 total time=  30.3s\n",
            "[CV 5/5] END batch_size=200, learning_rate_init=0.1, max_iter=100, n_iter_no_change=10, solver=adam;, score=0.584 total time=  30.4s\n",
            "[CV 1/5] END batch_size=200, learning_rate_init=0.1, max_iter=300, n_iter_no_change=5, solver=sgd;, score=0.567 total time=  41.6s\n",
            "[CV 2/5] END batch_size=200, learning_rate_init=0.1, max_iter=300, n_iter_no_change=5, solver=sgd;, score=0.525 total time=  39.5s\n",
            "[CV 3/5] END batch_size=200, learning_rate_init=0.1, max_iter=300, n_iter_no_change=5, solver=sgd;, score=0.468 total time= 1.3min\n",
            "[CV 4/5] END batch_size=200, learning_rate_init=0.1, max_iter=300, n_iter_no_change=5, solver=sgd;, score=0.483 total time=  48.5s\n",
            "[CV 5/5] END batch_size=200, learning_rate_init=0.1, max_iter=300, n_iter_no_change=5, solver=sgd;, score=0.556 total time= 1.7min\n",
            "[CV 1/5] END batch_size=200, learning_rate_init=0.1, max_iter=300, n_iter_no_change=5, solver=adam;, score=0.655 total time=  19.0s\n",
            "[CV 2/5] END batch_size=200, learning_rate_init=0.1, max_iter=300, n_iter_no_change=5, solver=adam;, score=0.603 total time=  19.3s\n",
            "[CV 3/5] END batch_size=200, learning_rate_init=0.1, max_iter=300, n_iter_no_change=5, solver=adam;, score=0.548 total time=  21.3s\n",
            "[CV 4/5] END batch_size=200, learning_rate_init=0.1, max_iter=300, n_iter_no_change=5, solver=adam;, score=0.538 total time=  19.1s\n",
            "[CV 5/5] END batch_size=200, learning_rate_init=0.1, max_iter=300, n_iter_no_change=5, solver=adam;, score=0.545 total time=  19.1s\n",
            "[CV 1/5] END batch_size=200, learning_rate_init=0.1, max_iter=300, n_iter_no_change=10, solver=sgd;, score=0.600 total time= 1.5min\n",
            "[CV 2/5] END batch_size=200, learning_rate_init=0.1, max_iter=300, n_iter_no_change=10, solver=sgd;, score=0.469 total time=  50.9s\n",
            "[CV 3/5] END batch_size=200, learning_rate_init=0.1, max_iter=300, n_iter_no_change=10, solver=sgd;, score=0.471 total time= 1.6min\n",
            "[CV 4/5] END batch_size=200, learning_rate_init=0.1, max_iter=300, n_iter_no_change=10, solver=sgd;, score=0.564 total time= 1.3min\n",
            "[CV 5/5] END batch_size=200, learning_rate_init=0.1, max_iter=300, n_iter_no_change=10, solver=sgd;, score=0.551 total time= 1.9min\n",
            "[CV 1/5] END batch_size=200, learning_rate_init=0.1, max_iter=300, n_iter_no_change=10, solver=adam;, score=0.520 total time=  31.3s\n",
            "[CV 2/5] END batch_size=200, learning_rate_init=0.1, max_iter=300, n_iter_no_change=10, solver=adam;, score=0.590 total time=  39.7s\n",
            "[CV 3/5] END batch_size=200, learning_rate_init=0.1, max_iter=300, n_iter_no_change=10, solver=adam;, score=0.527 total time=  30.3s\n",
            "[CV 4/5] END batch_size=200, learning_rate_init=0.1, max_iter=300, n_iter_no_change=10, solver=adam;, score=0.586 total time=  30.6s\n",
            "[CV 5/5] END batch_size=200, learning_rate_init=0.1, max_iter=300, n_iter_no_change=10, solver=adam;, score=0.537 total time=  30.5s\n",
            "[CV 1/5] END batch_size=200, learning_rate_init=0.4, max_iter=100, n_iter_no_change=5, solver=sgd;, score=0.585 total time=  53.0s\n",
            "[CV 2/5] END batch_size=200, learning_rate_init=0.4, max_iter=100, n_iter_no_change=5, solver=sgd;, score=0.435 total time=  27.8s\n",
            "[CV 3/5] END batch_size=200, learning_rate_init=0.4, max_iter=100, n_iter_no_change=5, solver=sgd;, score=0.455 total time=  41.5s\n",
            "[CV 4/5] END batch_size=200, learning_rate_init=0.4, max_iter=100, n_iter_no_change=5, solver=sgd;, score=0.544 total time=  43.8s\n",
            "[CV 5/5] END batch_size=200, learning_rate_init=0.4, max_iter=100, n_iter_no_change=5, solver=sgd;, score=0.530 total time=  25.7s\n",
            "[CV 1/5] END batch_size=200, learning_rate_init=0.4, max_iter=100, n_iter_no_change=5, solver=adam;, score=0.611 total time=  15.8s\n",
            "[CV 2/5] END batch_size=200, learning_rate_init=0.4, max_iter=100, n_iter_no_change=5, solver=adam;, score=0.555 total time=  15.9s\n",
            "[CV 3/5] END batch_size=200, learning_rate_init=0.4, max_iter=100, n_iter_no_change=5, solver=adam;, score=0.472 total time=  15.8s\n",
            "[CV 4/5] END batch_size=200, learning_rate_init=0.4, max_iter=100, n_iter_no_change=5, solver=adam;, score=0.595 total time=  16.0s\n",
            "[CV 5/5] END batch_size=200, learning_rate_init=0.4, max_iter=100, n_iter_no_change=5, solver=adam;, score=0.500 total time=  18.1s\n",
            "[CV 1/5] END batch_size=200, learning_rate_init=0.4, max_iter=100, n_iter_no_change=10, solver=sgd;, score=0.586 total time=  48.3s\n",
            "[CV 2/5] END batch_size=200, learning_rate_init=0.4, max_iter=100, n_iter_no_change=10, solver=sgd;, score=0.572 total time= 1.1min\n",
            "[CV 3/5] END batch_size=200, learning_rate_init=0.4, max_iter=100, n_iter_no_change=10, solver=sgd;, score=0.444 total time= 1.3min\n",
            "[CV 4/5] END batch_size=200, learning_rate_init=0.4, max_iter=100, n_iter_no_change=10, solver=sgd;, score=0.517 total time= 1.0min\n",
            "[CV 5/5] END batch_size=200, learning_rate_init=0.4, max_iter=100, n_iter_no_change=10, solver=sgd;, score=0.519 total time=  48.3s\n",
            "[CV 1/5] END batch_size=200, learning_rate_init=0.4, max_iter=100, n_iter_no_change=10, solver=adam;, score=0.546 total time=  26.9s\n",
            "[CV 2/5] END batch_size=200, learning_rate_init=0.4, max_iter=100, n_iter_no_change=10, solver=adam;, score=0.583 total time=  26.8s\n",
            "[CV 3/5] END batch_size=200, learning_rate_init=0.4, max_iter=100, n_iter_no_change=10, solver=adam;, score=0.404 total time=  26.5s\n",
            "[CV 4/5] END batch_size=200, learning_rate_init=0.4, max_iter=100, n_iter_no_change=10, solver=adam;, score=0.395 total time=  26.9s\n",
            "[CV 5/5] END batch_size=200, learning_rate_init=0.4, max_iter=100, n_iter_no_change=10, solver=adam;, score=0.411 total time=  26.8s\n",
            "[CV 1/5] END batch_size=200, learning_rate_init=0.4, max_iter=300, n_iter_no_change=5, solver=sgd;, score=0.589 total time=  32.6s\n",
            "[CV 2/5] END batch_size=200, learning_rate_init=0.4, max_iter=300, n_iter_no_change=5, solver=sgd;, score=0.526 total time=  27.8s\n",
            "[CV 3/5] END batch_size=200, learning_rate_init=0.4, max_iter=300, n_iter_no_change=5, solver=sgd;, score=0.505 total time=  41.3s\n",
            "[CV 4/5] END batch_size=200, learning_rate_init=0.4, max_iter=300, n_iter_no_change=5, solver=sgd;, score=0.534 total time=  55.0s\n",
            "[CV 5/5] END batch_size=200, learning_rate_init=0.4, max_iter=300, n_iter_no_change=5, solver=sgd;, score=0.498 total time=  30.1s\n",
            "[CV 1/5] END batch_size=200, learning_rate_init=0.4, max_iter=300, n_iter_no_change=5, solver=adam;, score=0.567 total time=  15.8s\n",
            "[CV 2/5] END batch_size=200, learning_rate_init=0.4, max_iter=300, n_iter_no_change=5, solver=adam;, score=0.531 total time=  15.8s\n",
            "[CV 3/5] END batch_size=200, learning_rate_init=0.4, max_iter=300, n_iter_no_change=5, solver=adam;, score=0.458 total time=  15.7s\n",
            "[CV 4/5] END batch_size=200, learning_rate_init=0.4, max_iter=300, n_iter_no_change=5, solver=adam;, score=0.490 total time=  15.8s\n",
            "[CV 5/5] END batch_size=200, learning_rate_init=0.4, max_iter=300, n_iter_no_change=5, solver=adam;, score=0.509 total time=  15.8s\n",
            "[CV 1/5] END batch_size=200, learning_rate_init=0.4, max_iter=300, n_iter_no_change=10, solver=sgd;, score=0.453 total time=  57.5s\n",
            "[CV 2/5] END batch_size=200, learning_rate_init=0.4, max_iter=300, n_iter_no_change=10, solver=sgd;, score=0.537 total time=  43.6s\n",
            "[CV 3/5] END batch_size=200, learning_rate_init=0.4, max_iter=300, n_iter_no_change=10, solver=sgd;, score=0.502 total time= 1.4min\n",
            "[CV 4/5] END batch_size=200, learning_rate_init=0.4, max_iter=300, n_iter_no_change=10, solver=sgd;, score=0.584 total time= 1.1min\n",
            "[CV 5/5] END batch_size=200, learning_rate_init=0.4, max_iter=300, n_iter_no_change=10, solver=sgd;, score=0.498 total time=  41.5s\n",
            "[CV 1/5] END batch_size=200, learning_rate_init=0.4, max_iter=300, n_iter_no_change=10, solver=adam;, score=0.521 total time=  26.9s\n",
            "[CV 2/5] END batch_size=200, learning_rate_init=0.4, max_iter=300, n_iter_no_change=10, solver=adam;, score=0.543 total time=  26.8s\n",
            "[CV 3/5] END batch_size=200, learning_rate_init=0.4, max_iter=300, n_iter_no_change=10, solver=adam;, score=0.538 total time=  26.9s\n",
            "[CV 4/5] END batch_size=200, learning_rate_init=0.4, max_iter=300, n_iter_no_change=10, solver=adam;, score=0.585 total time=  26.7s\n",
            "[CV 5/5] END batch_size=200, learning_rate_init=0.4, max_iter=300, n_iter_no_change=10, solver=adam;, score=0.477 total time=  26.8s\n"
          ]
        },
        {
          "data": {
            "text/plain": [
              "GridSearchCV(cv=5,\n",
              "             estimator=MLPClassifier(activation='tanh',\n",
              "                                     hidden_layer_sizes=(10, 15)),\n",
              "             param_grid={'batch_size': [100, 200],\n",
              "                         'learning_rate_init': [0.1, 0.4],\n",
              "                         'max_iter': [100, 300], 'n_iter_no_change': [5, 10],\n",
              "                         'solver': ['sgd', 'adam']},\n",
              "             scoring='f1_micro', verbose=3)"
            ]
          },
          "execution_count": 22,
          "metadata": {},
          "output_type": "execute_result"
        }
      ],
      "source": [
        "MLP_4.fit(data_x, data_y)"
      ]
    },
    {
      "cell_type": "code",
      "execution_count": null,
      "metadata": {
        "colab": {
          "base_uri": "https://localhost:8080/"
        },
        "id": "_vL3VUYSbcTg",
        "outputId": "f2cf0e94-f6ca-4fdc-adca-cab2917aa6ab"
      },
      "outputs": [
        {
          "data": {
            "text/plain": [
              "MLPClassifier(activation='tanh', batch_size=100, hidden_layer_sizes=(10, 15),\n",
              "              learning_rate_init=0.1, max_iter=300)"
            ]
          },
          "execution_count": 23,
          "metadata": {},
          "output_type": "execute_result"
        }
      ],
      "source": [
        "MLP_4.best_estimator_"
      ]
    },
    {
      "cell_type": "code",
      "execution_count": null,
      "metadata": {
        "colab": {
          "base_uri": "https://localhost:8080/"
        },
        "id": "qKsYN0ry7xCW",
        "outputId": "63e4d8e6-48c1-452b-ce7d-ca8f83e959e8"
      },
      "outputs": [
        {
          "data": {
            "text/plain": [
              "0.5884782513090315"
            ]
          },
          "execution_count": 24,
          "metadata": {},
          "output_type": "execute_result"
        }
      ],
      "source": [
        "MLP_4.best_score_"
      ]
    },
    {
      "cell_type": "markdown",
      "metadata": {
        "id": "qVtu36T-L_MK"
      },
      "source": [
        "### Quinta rede neural\n",
        "\n",
        "* Arquitetura da regra da piramide geometrica;   \n",
        "* Função de ativação: tangente hiperbolica;\n",
        "* Uma camada oculta com 25 neuronios.\n",
        "\n",
        "---\n",
        "\n",
        "* Melhor Classificador:\n",
        "\n",
        " *   bath_size = 200\n",
        " *   learning_rate_init = 0.4\n",
        " *   max_iter = 100\n",
        " *   n_iter_no_change = 5\n",
        "\n",
        "*   Pontuação do melhor classificador: 0.5848174323724369\n"
      ]
    },
    {
      "cell_type": "code",
      "execution_count": null,
      "metadata": {
        "id": "jqIZ9LHJCU29"
      },
      "outputs": [],
      "source": [
        "MLP_5 = MLPClassifier(hidden_layer_sizes=(25,), activation='tanh')\n",
        "\n",
        "MLP_5 = GridSearchCV(MLP_5, parameter_space, cv=5, verbose=3, scoring='f1_micro')"
      ]
    },
    {
      "cell_type": "code",
      "execution_count": null,
      "metadata": {
        "colab": {
          "base_uri": "https://localhost:8080/"
        },
        "id": "t5f9E-YH8s9F",
        "outputId": "68f10b69-ea2e-4937-d51d-278c154b8c67"
      },
      "outputs": [
        {
          "output_type": "stream",
          "name": "stdout",
          "text": [
            "Fitting 5 folds for each of 32 candidates, totalling 160 fits\n",
            "[CV 1/5] END batch_size=100, learning_rate_init=0.1, max_iter=100, n_iter_no_change=5, solver=sgd;, score=0.540 total time= 2.0min\n",
            "[CV 2/5] END batch_size=100, learning_rate_init=0.1, max_iter=100, n_iter_no_change=5, solver=sgd;, score=0.418 total time= 3.1min\n",
            "[CV 3/5] END batch_size=100, learning_rate_init=0.1, max_iter=100, n_iter_no_change=5, solver=sgd;, score=0.421 total time= 2.4min\n",
            "[CV 4/5] END batch_size=100, learning_rate_init=0.1, max_iter=100, n_iter_no_change=5, solver=sgd;, score=0.526 total time= 2.3min\n",
            "[CV 5/5] END batch_size=100, learning_rate_init=0.1, max_iter=100, n_iter_no_change=5, solver=sgd;, score=0.557 total time= 1.4min\n",
            "[CV 1/5] END batch_size=100, learning_rate_init=0.1, max_iter=100, n_iter_no_change=5, solver=adam;, score=0.574 total time= 1.1min\n",
            "[CV 2/5] END batch_size=100, learning_rate_init=0.1, max_iter=100, n_iter_no_change=5, solver=adam;, score=0.602 total time= 1.8min\n",
            "[CV 3/5] END batch_size=100, learning_rate_init=0.1, max_iter=100, n_iter_no_change=5, solver=adam;, score=0.501 total time= 1.2min\n",
            "[CV 4/5] END batch_size=100, learning_rate_init=0.1, max_iter=100, n_iter_no_change=5, solver=adam;, score=0.569 total time=  51.6s\n",
            "[CV 5/5] END batch_size=100, learning_rate_init=0.1, max_iter=100, n_iter_no_change=5, solver=adam;, score=0.565 total time=  57.0s\n",
            "[CV 1/5] END batch_size=100, learning_rate_init=0.1, max_iter=100, n_iter_no_change=10, solver=sgd;, score=0.601 total time= 1.9min\n",
            "[CV 2/5] END batch_size=100, learning_rate_init=0.1, max_iter=100, n_iter_no_change=10, solver=sgd;, score=0.439 total time= 2.8min\n",
            "[CV 3/5] END batch_size=100, learning_rate_init=0.1, max_iter=100, n_iter_no_change=10, solver=sgd;, score=0.433 total time= 2.4min\n",
            "[CV 4/5] END batch_size=100, learning_rate_init=0.1, max_iter=100, n_iter_no_change=10, solver=sgd;, score=0.511 total time= 3.0min\n",
            "[CV 5/5] END batch_size=100, learning_rate_init=0.1, max_iter=100, n_iter_no_change=10, solver=sgd;, score=0.559 total time= 3.4min\n",
            "[CV 1/5] END batch_size=100, learning_rate_init=0.1, max_iter=100, n_iter_no_change=10, solver=adam;, score=0.544 total time= 1.5min\n",
            "[CV 2/5] END batch_size=100, learning_rate_init=0.1, max_iter=100, n_iter_no_change=10, solver=adam;, score=0.487 total time= 1.2min\n",
            "[CV 3/5] END batch_size=100, learning_rate_init=0.1, max_iter=100, n_iter_no_change=10, solver=adam;, score=0.467 total time= 2.1min\n",
            "[CV 4/5] END batch_size=100, learning_rate_init=0.1, max_iter=100, n_iter_no_change=10, solver=adam;, score=0.505 total time= 1.9min\n",
            "[CV 5/5] END batch_size=100, learning_rate_init=0.1, max_iter=100, n_iter_no_change=10, solver=adam;, score=0.563 total time= 1.6min\n",
            "[CV 1/5] END batch_size=100, learning_rate_init=0.1, max_iter=300, n_iter_no_change=5, solver=sgd;, score=0.594 total time= 2.1min\n",
            "[CV 2/5] END batch_size=100, learning_rate_init=0.1, max_iter=300, n_iter_no_change=5, solver=sgd;, score=0.442 total time= 1.6min\n",
            "[CV 3/5] END batch_size=100, learning_rate_init=0.1, max_iter=300, n_iter_no_change=5, solver=sgd;, score=0.472 total time= 1.4min\n",
            "[CV 4/5] END batch_size=100, learning_rate_init=0.1, max_iter=300, n_iter_no_change=5, solver=sgd;, score=0.509 total time= 1.5min\n",
            "[CV 5/5] END batch_size=100, learning_rate_init=0.1, max_iter=300, n_iter_no_change=5, solver=sgd;, score=0.531 total time= 1.5min\n",
            "[CV 1/5] END batch_size=100, learning_rate_init=0.1, max_iter=300, n_iter_no_change=5, solver=adam;, score=0.612 total time= 1.4min\n",
            "[CV 2/5] END batch_size=100, learning_rate_init=0.1, max_iter=300, n_iter_no_change=5, solver=adam;, score=0.488 total time= 1.5min\n",
            "[CV 3/5] END batch_size=100, learning_rate_init=0.1, max_iter=300, n_iter_no_change=5, solver=adam;, score=0.476 total time= 1.0min\n",
            "[CV 4/5] END batch_size=100, learning_rate_init=0.1, max_iter=300, n_iter_no_change=5, solver=adam;, score=0.562 total time= 1.6min\n",
            "[CV 5/5] END batch_size=100, learning_rate_init=0.1, max_iter=300, n_iter_no_change=5, solver=adam;, score=0.539 total time= 1.4min\n",
            "[CV 1/5] END batch_size=100, learning_rate_init=0.1, max_iter=300, n_iter_no_change=10, solver=sgd;, score=0.586 total time= 3.3min\n",
            "[CV 2/5] END batch_size=100, learning_rate_init=0.1, max_iter=300, n_iter_no_change=10, solver=sgd;, score=0.413 total time= 3.3min\n",
            "[CV 3/5] END batch_size=100, learning_rate_init=0.1, max_iter=300, n_iter_no_change=10, solver=sgd;, score=0.477 total time= 2.2min\n",
            "[CV 4/5] END batch_size=100, learning_rate_init=0.1, max_iter=300, n_iter_no_change=10, solver=sgd;, score=0.510 total time= 2.1min\n",
            "[CV 5/5] END batch_size=100, learning_rate_init=0.1, max_iter=300, n_iter_no_change=10, solver=sgd;, score=0.564 total time= 3.4min\n",
            "[CV 1/5] END batch_size=100, learning_rate_init=0.1, max_iter=300, n_iter_no_change=10, solver=adam;, score=0.619 total time= 1.5min\n",
            "[CV 2/5] END batch_size=100, learning_rate_init=0.1, max_iter=300, n_iter_no_change=10, solver=adam;, score=0.425 total time= 1.2min\n",
            "[CV 3/5] END batch_size=100, learning_rate_init=0.1, max_iter=300, n_iter_no_change=10, solver=adam;, score=0.449 total time= 1.9min\n",
            "[CV 4/5] END batch_size=100, learning_rate_init=0.1, max_iter=300, n_iter_no_change=10, solver=adam;, score=0.512 total time= 2.2min\n",
            "[CV 5/5] END batch_size=100, learning_rate_init=0.1, max_iter=300, n_iter_no_change=10, solver=adam;, score=0.530 total time= 2.0min\n",
            "[CV 1/5] END batch_size=100, learning_rate_init=0.4, max_iter=100, n_iter_no_change=5, solver=sgd;, score=0.629 total time= 1.7min\n",
            "[CV 2/5] END batch_size=100, learning_rate_init=0.4, max_iter=100, n_iter_no_change=5, solver=sgd;, score=0.532 total time= 1.2min\n",
            "[CV 3/5] END batch_size=100, learning_rate_init=0.4, max_iter=100, n_iter_no_change=5, solver=sgd;, score=0.430 total time= 1.2min\n",
            "[CV 4/5] END batch_size=100, learning_rate_init=0.4, max_iter=100, n_iter_no_change=5, solver=sgd;, score=0.547 total time= 1.2min\n",
            "[CV 5/5] END batch_size=100, learning_rate_init=0.4, max_iter=100, n_iter_no_change=5, solver=sgd;, score=0.552 total time= 2.0min\n",
            "[CV 1/5] END batch_size=100, learning_rate_init=0.4, max_iter=100, n_iter_no_change=5, solver=adam;, score=0.627 total time=  20.7s\n",
            "[CV 2/5] END batch_size=100, learning_rate_init=0.4, max_iter=100, n_iter_no_change=5, solver=adam;, score=0.635 total time=  20.5s\n",
            "[CV 3/5] END batch_size=100, learning_rate_init=0.4, max_iter=100, n_iter_no_change=5, solver=adam;, score=0.537 total time=  20.4s\n",
            "[CV 4/5] END batch_size=100, learning_rate_init=0.4, max_iter=100, n_iter_no_change=5, solver=adam;, score=0.437 total time=  20.5s\n",
            "[CV 5/5] END batch_size=100, learning_rate_init=0.4, max_iter=100, n_iter_no_change=5, solver=adam;, score=0.439 total time=  20.7s\n",
            "[CV 1/5] END batch_size=100, learning_rate_init=0.4, max_iter=100, n_iter_no_change=10, solver=sgd;, score=0.551 total time= 2.6min\n",
            "[CV 2/5] END batch_size=100, learning_rate_init=0.4, max_iter=100, n_iter_no_change=10, solver=sgd;, score=0.519 total time= 3.7min\n",
            "[CV 3/5] END batch_size=100, learning_rate_init=0.4, max_iter=100, n_iter_no_change=10, solver=sgd;, score=0.420 total time= 1.1min\n",
            "[CV 4/5] END batch_size=100, learning_rate_init=0.4, max_iter=100, n_iter_no_change=10, solver=sgd;, score=0.490 total time= 1.3min\n",
            "[CV 5/5] END batch_size=100, learning_rate_init=0.4, max_iter=100, n_iter_no_change=10, solver=sgd;, score=0.537 total time= 2.2min\n",
            "[CV 1/5] END batch_size=100, learning_rate_init=0.4, max_iter=100, n_iter_no_change=10, solver=adam;, score=0.623 total time= 1.7min\n",
            "[CV 2/5] END batch_size=100, learning_rate_init=0.4, max_iter=100, n_iter_no_change=10, solver=adam;, score=0.637 total time= 2.7min\n",
            "[CV 3/5] END batch_size=100, learning_rate_init=0.4, max_iter=100, n_iter_no_change=10, solver=adam;, score=0.553 total time= 1.8min\n",
            "[CV 4/5] END batch_size=100, learning_rate_init=0.4, max_iter=100, n_iter_no_change=10, solver=adam;, score=0.574 total time=  35.5s\n",
            "[CV 5/5] END batch_size=100, learning_rate_init=0.4, max_iter=100, n_iter_no_change=10, solver=adam;, score=0.522 total time= 1.9min\n",
            "[CV 1/5] END batch_size=100, learning_rate_init=0.4, max_iter=300, n_iter_no_change=5, solver=sgd;, score=0.542 total time=  59.9s\n",
            "[CV 2/5] END batch_size=100, learning_rate_init=0.4, max_iter=300, n_iter_no_change=5, solver=sgd;, score=0.428 total time= 2.2min\n",
            "[CV 3/5] END batch_size=100, learning_rate_init=0.4, max_iter=300, n_iter_no_change=5, solver=sgd;, score=0.463 total time= 1.6min\n",
            "[CV 4/5] END batch_size=100, learning_rate_init=0.4, max_iter=300, n_iter_no_change=5, solver=sgd;, score=0.501 total time= 1.8min\n",
            "[CV 5/5] END batch_size=100, learning_rate_init=0.4, max_iter=300, n_iter_no_change=5, solver=sgd;, score=0.521 total time= 1.3min\n",
            "[CV 1/5] END batch_size=100, learning_rate_init=0.4, max_iter=300, n_iter_no_change=5, solver=adam;, score=0.630 total time=  20.5s\n",
            "[CV 2/5] END batch_size=100, learning_rate_init=0.4, max_iter=300, n_iter_no_change=5, solver=adam;, score=0.614 total time=  20.5s\n",
            "[CV 3/5] END batch_size=100, learning_rate_init=0.4, max_iter=300, n_iter_no_change=5, solver=adam;, score=0.531 total time=  20.5s\n",
            "[CV 4/5] END batch_size=100, learning_rate_init=0.4, max_iter=300, n_iter_no_change=5, solver=adam;, score=0.471 total time=  20.4s\n",
            "[CV 5/5] END batch_size=100, learning_rate_init=0.4, max_iter=300, n_iter_no_change=5, solver=adam;, score=0.489 total time=  20.4s\n",
            "[CV 1/5] END batch_size=100, learning_rate_init=0.4, max_iter=300, n_iter_no_change=10, solver=sgd;, score=0.568 total time= 2.7min\n",
            "[CV 2/5] END batch_size=100, learning_rate_init=0.4, max_iter=300, n_iter_no_change=10, solver=sgd;, score=0.467 total time= 1.6min\n",
            "[CV 3/5] END batch_size=100, learning_rate_init=0.4, max_iter=300, n_iter_no_change=10, solver=sgd;, score=0.490 total time= 2.0min\n",
            "[CV 4/5] END batch_size=100, learning_rate_init=0.4, max_iter=300, n_iter_no_change=10, solver=sgd;, score=0.524 total time= 2.3min\n",
            "[CV 5/5] END batch_size=100, learning_rate_init=0.4, max_iter=300, n_iter_no_change=10, solver=sgd;, score=0.541 total time= 1.6min\n",
            "[CV 1/5] END batch_size=100, learning_rate_init=0.4, max_iter=300, n_iter_no_change=10, solver=adam;, score=0.552 total time= 1.7min\n",
            "[CV 2/5] END batch_size=100, learning_rate_init=0.4, max_iter=300, n_iter_no_change=10, solver=adam;, score=0.573 total time= 2.0min\n",
            "[CV 3/5] END batch_size=100, learning_rate_init=0.4, max_iter=300, n_iter_no_change=10, solver=adam;, score=0.556 total time= 2.9min\n",
            "[CV 4/5] END batch_size=100, learning_rate_init=0.4, max_iter=300, n_iter_no_change=10, solver=adam;, score=0.502 total time= 2.8min\n",
            "[CV 5/5] END batch_size=100, learning_rate_init=0.4, max_iter=300, n_iter_no_change=10, solver=adam;, score=0.537 total time= 2.6min\n",
            "[CV 1/5] END batch_size=200, learning_rate_init=0.1, max_iter=100, n_iter_no_change=5, solver=sgd;, score=0.593 total time= 2.3min\n",
            "[CV 2/5] END batch_size=200, learning_rate_init=0.1, max_iter=100, n_iter_no_change=5, solver=sgd;, score=0.450 total time= 2.7min\n",
            "[CV 3/5] END batch_size=200, learning_rate_init=0.1, max_iter=100, n_iter_no_change=5, solver=sgd;, score=0.451 total time= 2.6min\n",
            "[CV 4/5] END batch_size=200, learning_rate_init=0.1, max_iter=100, n_iter_no_change=5, solver=sgd;, score=0.494 total time= 3.0min\n",
            "[CV 5/5] END batch_size=200, learning_rate_init=0.1, max_iter=100, n_iter_no_change=5, solver=sgd;, score=0.563 total time= 2.4min\n",
            "[CV 1/5] END batch_size=200, learning_rate_init=0.1, max_iter=100, n_iter_no_change=5, solver=adam;, score=0.585 total time= 1.7min\n",
            "[CV 2/5] END batch_size=200, learning_rate_init=0.1, max_iter=100, n_iter_no_change=5, solver=adam;, score=0.467 total time=  41.7s\n",
            "[CV 3/5] END batch_size=200, learning_rate_init=0.1, max_iter=100, n_iter_no_change=5, solver=adam;, score=0.444 total time= 1.2min\n",
            "[CV 4/5] END batch_size=200, learning_rate_init=0.1, max_iter=100, n_iter_no_change=5, solver=adam;, score=0.566 total time= 1.0min\n",
            "[CV 5/5] END batch_size=200, learning_rate_init=0.1, max_iter=100, n_iter_no_change=5, solver=adam;, score=0.572 total time= 1.5min\n",
            "[CV 1/5] END batch_size=200, learning_rate_init=0.1, max_iter=100, n_iter_no_change=10, solver=sgd;, score=0.591 total time= 3.7min\n",
            "[CV 2/5] END batch_size=200, learning_rate_init=0.1, max_iter=100, n_iter_no_change=10, solver=sgd;, score=0.406 total time= 2.9min\n",
            "[CV 3/5] END batch_size=200, learning_rate_init=0.1, max_iter=100, n_iter_no_change=10, solver=sgd;, score=0.432 total time= 4.1min\n",
            "[CV 4/5] END batch_size=200, learning_rate_init=0.1, max_iter=100, n_iter_no_change=10, solver=sgd;, score=0.498 total time= 3.8min\n",
            "[CV 5/5] END batch_size=200, learning_rate_init=0.1, max_iter=100, n_iter_no_change=10, solver=sgd;, score=0.542 total time= 2.5min\n",
            "[CV 1/5] END batch_size=200, learning_rate_init=0.1, max_iter=100, n_iter_no_change=10, solver=adam;, score=0.609 total time= 2.7min\n",
            "[CV 2/5] END batch_size=200, learning_rate_init=0.1, max_iter=100, n_iter_no_change=10, solver=adam;, score=0.512 total time= 4.0min\n",
            "[CV 3/5] END batch_size=200, learning_rate_init=0.1, max_iter=100, n_iter_no_change=10, solver=adam;, score=0.432 total time= 2.1min\n",
            "[CV 4/5] END batch_size=200, learning_rate_init=0.1, max_iter=100, n_iter_no_change=10, solver=adam;, score=0.556 total time= 2.5min\n",
            "[CV 5/5] END batch_size=200, learning_rate_init=0.1, max_iter=100, n_iter_no_change=10, solver=adam;, score=0.556 total time= 2.6min\n",
            "[CV 1/5] END batch_size=200, learning_rate_init=0.1, max_iter=300, n_iter_no_change=5, solver=sgd;, score=0.611 total time= 1.5min\n",
            "[CV 2/5] END batch_size=200, learning_rate_init=0.1, max_iter=300, n_iter_no_change=5, solver=sgd;, score=0.420 total time= 2.4min\n",
            "[CV 3/5] END batch_size=200, learning_rate_init=0.1, max_iter=300, n_iter_no_change=5, solver=sgd;, score=0.442 total time= 1.9min\n",
            "[CV 4/5] END batch_size=200, learning_rate_init=0.1, max_iter=300, n_iter_no_change=5, solver=sgd;, score=0.513 total time= 2.3min\n",
            "[CV 5/5] END batch_size=200, learning_rate_init=0.1, max_iter=300, n_iter_no_change=5, solver=sgd;, score=0.571 total time= 2.2min\n",
            "[CV 1/5] END batch_size=200, learning_rate_init=0.1, max_iter=300, n_iter_no_change=5, solver=adam;, score=0.583 total time= 1.4min\n",
            "[CV 2/5] END batch_size=200, learning_rate_init=0.1, max_iter=300, n_iter_no_change=5, solver=adam;, score=0.418 total time= 1.1min\n",
            "[CV 3/5] END batch_size=200, learning_rate_init=0.1, max_iter=300, n_iter_no_change=5, solver=adam;, score=0.451 total time=  51.3s\n",
            "[CV 4/5] END batch_size=200, learning_rate_init=0.1, max_iter=300, n_iter_no_change=5, solver=adam;, score=0.536 total time= 2.3min\n",
            "[CV 5/5] END batch_size=200, learning_rate_init=0.1, max_iter=300, n_iter_no_change=5, solver=adam;, score=0.548 total time= 1.4min\n",
            "[CV 1/5] END batch_size=200, learning_rate_init=0.1, max_iter=300, n_iter_no_change=10, solver=sgd;, score=0.596 total time= 4.9min\n",
            "[CV 2/5] END batch_size=200, learning_rate_init=0.1, max_iter=300, n_iter_no_change=10, solver=sgd;, score=0.408 total time= 3.5min\n",
            "[CV 3/5] END batch_size=200, learning_rate_init=0.1, max_iter=300, n_iter_no_change=10, solver=sgd;, score=0.449 total time= 2.6min\n",
            "[CV 4/5] END batch_size=200, learning_rate_init=0.1, max_iter=300, n_iter_no_change=10, solver=sgd;, score=0.520 total time= 3.2min\n",
            "[CV 5/5] END batch_size=200, learning_rate_init=0.1, max_iter=300, n_iter_no_change=10, solver=sgd;, score=0.566 total time= 4.1min\n",
            "[CV 1/5] END batch_size=200, learning_rate_init=0.1, max_iter=300, n_iter_no_change=10, solver=adam;, score=0.618 total time= 4.4min\n",
            "[CV 2/5] END batch_size=200, learning_rate_init=0.1, max_iter=300, n_iter_no_change=10, solver=adam;, score=0.464 total time= 2.8min\n",
            "[CV 3/5] END batch_size=200, learning_rate_init=0.1, max_iter=300, n_iter_no_change=10, solver=adam;, score=0.477 total time= 1.1min\n",
            "[CV 4/5] END batch_size=200, learning_rate_init=0.1, max_iter=300, n_iter_no_change=10, solver=adam;, score=0.532 total time= 2.5min\n",
            "[CV 5/5] END batch_size=200, learning_rate_init=0.1, max_iter=300, n_iter_no_change=10, solver=adam;, score=0.567 total time= 1.5min\n",
            "[CV 1/5] END batch_size=200, learning_rate_init=0.4, max_iter=100, n_iter_no_change=5, solver=sgd;, score=0.563 total time= 2.3min\n",
            "[CV 2/5] END batch_size=200, learning_rate_init=0.4, max_iter=100, n_iter_no_change=5, solver=sgd;, score=0.422 total time= 1.8min\n",
            "[CV 3/5] END batch_size=200, learning_rate_init=0.4, max_iter=100, n_iter_no_change=5, solver=sgd;, score=0.449 total time= 1.7min\n",
            "[CV 4/5] END batch_size=200, learning_rate_init=0.4, max_iter=100, n_iter_no_change=5, solver=sgd;, score=0.552 total time= 1.5min\n",
            "[CV 5/5] END batch_size=200, learning_rate_init=0.4, max_iter=100, n_iter_no_change=5, solver=sgd;, score=0.572 total time= 1.5min\n",
            "[CV 1/5] END batch_size=200, learning_rate_init=0.4, max_iter=100, n_iter_no_change=5, solver=adam;, score=0.559 total time=  22.0s\n",
            "[CV 2/5] END batch_size=200, learning_rate_init=0.4, max_iter=100, n_iter_no_change=5, solver=adam;, score=0.483 total time=  22.0s\n",
            "[CV 3/5] END batch_size=200, learning_rate_init=0.4, max_iter=100, n_iter_no_change=5, solver=adam;, score=0.481 total time=  22.0s\n",
            "[CV 4/5] END batch_size=200, learning_rate_init=0.4, max_iter=100, n_iter_no_change=5, solver=adam;, score=0.583 total time=  22.0s\n",
            "[CV 5/5] END batch_size=200, learning_rate_init=0.4, max_iter=100, n_iter_no_change=5, solver=adam;, score=0.535 total time=  22.0s\n",
            "[CV 1/5] END batch_size=200, learning_rate_init=0.4, max_iter=100, n_iter_no_change=10, solver=sgd;, score=0.614 total time= 2.2min\n",
            "[CV 2/5] END batch_size=200, learning_rate_init=0.4, max_iter=100, n_iter_no_change=10, solver=sgd;, score=0.462 total time= 1.7min\n",
            "[CV 3/5] END batch_size=200, learning_rate_init=0.4, max_iter=100, n_iter_no_change=10, solver=sgd;, score=0.468 total time= 2.4min\n",
            "[CV 4/5] END batch_size=200, learning_rate_init=0.4, max_iter=100, n_iter_no_change=10, solver=sgd;, score=0.508 total time= 3.9min\n",
            "[CV 5/5] END batch_size=200, learning_rate_init=0.4, max_iter=100, n_iter_no_change=10, solver=sgd;, score=0.568 total time= 3.0min\n",
            "[CV 1/5] END batch_size=200, learning_rate_init=0.4, max_iter=100, n_iter_no_change=10, solver=adam;, score=0.600 total time=  37.3s\n",
            "[CV 2/5] END batch_size=200, learning_rate_init=0.4, max_iter=100, n_iter_no_change=10, solver=adam;, score=0.624 total time=  37.2s\n",
            "[CV 3/5] END batch_size=200, learning_rate_init=0.4, max_iter=100, n_iter_no_change=10, solver=adam;, score=0.574 total time=  37.2s\n",
            "[CV 4/5] END batch_size=200, learning_rate_init=0.4, max_iter=100, n_iter_no_change=10, solver=adam;, score=0.598 total time=  37.1s\n",
            "[CV 5/5] END batch_size=200, learning_rate_init=0.4, max_iter=100, n_iter_no_change=10, solver=adam;, score=0.529 total time=  37.0s\n",
            "[CV 1/5] END batch_size=200, learning_rate_init=0.4, max_iter=300, n_iter_no_change=5, solver=sgd;, score=0.586 total time= 1.8min\n",
            "[CV 2/5] END batch_size=200, learning_rate_init=0.4, max_iter=300, n_iter_no_change=5, solver=sgd;, score=0.472 total time= 1.1min\n",
            "[CV 3/5] END batch_size=200, learning_rate_init=0.4, max_iter=300, n_iter_no_change=5, solver=sgd;, score=0.434 total time= 2.1min\n",
            "[CV 4/5] END batch_size=200, learning_rate_init=0.4, max_iter=300, n_iter_no_change=5, solver=sgd;, score=0.532 total time= 1.3min\n",
            "[CV 5/5] END batch_size=200, learning_rate_init=0.4, max_iter=300, n_iter_no_change=5, solver=sgd;, score=0.497 total time= 1.5min\n",
            "[CV 1/5] END batch_size=200, learning_rate_init=0.4, max_iter=300, n_iter_no_change=5, solver=adam;, score=0.584 total time=  25.0s\n",
            "[CV 2/5] END batch_size=200, learning_rate_init=0.4, max_iter=300, n_iter_no_change=5, solver=adam;, score=0.538 total time=  22.1s\n",
            "[CV 3/5] END batch_size=200, learning_rate_init=0.4, max_iter=300, n_iter_no_change=5, solver=adam;, score=0.513 total time=  22.1s\n",
            "[CV 4/5] END batch_size=200, learning_rate_init=0.4, max_iter=300, n_iter_no_change=5, solver=adam;, score=0.559 total time=  22.2s\n",
            "[CV 5/5] END batch_size=200, learning_rate_init=0.4, max_iter=300, n_iter_no_change=5, solver=adam;, score=0.532 total time=  21.9s\n",
            "[CV 1/5] END batch_size=200, learning_rate_init=0.4, max_iter=300, n_iter_no_change=10, solver=sgd;, score=0.606 total time= 2.1min\n",
            "[CV 2/5] END batch_size=200, learning_rate_init=0.4, max_iter=300, n_iter_no_change=10, solver=sgd;, score=0.474 total time= 2.2min\n",
            "[CV 3/5] END batch_size=200, learning_rate_init=0.4, max_iter=300, n_iter_no_change=10, solver=sgd;, score=0.425 total time= 2.3min\n",
            "[CV 4/5] END batch_size=200, learning_rate_init=0.4, max_iter=300, n_iter_no_change=10, solver=sgd;, score=0.540 total time= 2.6min\n",
            "[CV 5/5] END batch_size=200, learning_rate_init=0.4, max_iter=300, n_iter_no_change=10, solver=sgd;, score=0.537 total time= 2.6min\n",
            "[CV 1/5] END batch_size=200, learning_rate_init=0.4, max_iter=300, n_iter_no_change=10, solver=adam;, score=0.564 total time=  37.2s\n",
            "[CV 2/5] END batch_size=200, learning_rate_init=0.4, max_iter=300, n_iter_no_change=10, solver=adam;, score=0.583 total time= 1.4min\n",
            "[CV 3/5] END batch_size=200, learning_rate_init=0.4, max_iter=300, n_iter_no_change=10, solver=adam;, score=0.508 total time=  37.0s\n",
            "[CV 4/5] END batch_size=200, learning_rate_init=0.4, max_iter=300, n_iter_no_change=10, solver=adam;, score=0.564 total time=  37.1s\n",
            "[CV 5/5] END batch_size=200, learning_rate_init=0.4, max_iter=300, n_iter_no_change=10, solver=adam;, score=0.528 total time=  37.0s\n"
          ]
        },
        {
          "output_type": "execute_result",
          "data": {
            "text/plain": [
              "0.5848174323724369"
            ]
          },
          "metadata": {},
          "execution_count": 9
        }
      ],
      "source": [
        "MLP_5.fit(data_x, data_y)"
      ]
    },
    {
      "cell_type": "code",
      "execution_count": null,
      "metadata": {
        "id": "0xcodRwTMBtz",
        "colab": {
          "base_uri": "https://localhost:8080/"
        },
        "outputId": "33a1970d-2942-4cd9-9012-cea660f37322"
      },
      "outputs": [
        {
          "output_type": "execute_result",
          "data": {
            "text/plain": [
              "MLPClassifier(activation='tanh', batch_size=200, hidden_layer_sizes=(25,),\n",
              "              learning_rate_init=0.4, max_iter=100)"
            ]
          },
          "metadata": {},
          "execution_count": 10
        }
      ],
      "source": [
        "MLP_5.best_estimator_"
      ]
    },
    {
      "cell_type": "code",
      "source": [
        "MLP_5.best_score_"
      ],
      "metadata": {
        "colab": {
          "base_uri": "https://localhost:8080/"
        },
        "id": "vbg4Fyu2dgft",
        "outputId": "f9364440-89e7-4431-d236-fb64a3fb3b29"
      },
      "execution_count": null,
      "outputs": [
        {
          "output_type": "execute_result",
          "data": {
            "text/plain": [
              "0.5848174323724369"
            ]
          },
          "metadata": {},
          "execution_count": 13
        }
      ]
    },
    {
      "cell_type": "markdown",
      "metadata": {
        "id": "vcTG_oZwMHKX"
      },
      "source": [
        "### Sexta rede neural\n",
        "\n",
        "* Arquitetura da regra da piramide geometrica;   \n",
        "* Função de ativação: sigmoide;\n",
        "* Uma camada oculta com 25 neuronios.\n",
        "\n",
        "---\n",
        "\n",
        "* Melhor Classificador:\n",
        "\n",
        " *   bath_size = 200\n",
        " *   learning_rate_init = 0.4\n",
        " *   max_iter = 100\n",
        " *   n_iter_no_change = 5\n",
        "\n",
        "*   Pontuação do melhor classificador: 0.6212658337769308"
      ]
    },
    {
      "cell_type": "code",
      "execution_count": null,
      "metadata": {
        "id": "2AcUvAauCVZb"
      },
      "outputs": [],
      "source": [
        "MLP_6 = MLPClassifier(hidden_layer_sizes=(25,), activation='logistic')\n",
        "\n",
        "MLP_6 = GridSearchCV(MLP_6, parameter_space, cv=5, verbose=3, scoring='f1_micro')"
      ]
    },
    {
      "cell_type": "code",
      "execution_count": null,
      "metadata": {
        "colab": {
          "base_uri": "https://localhost:8080/"
        },
        "id": "UjBfueuvDTcG",
        "outputId": "f7ba69b4-617e-42c0-a6d1-22111dd9a5aa"
      },
      "outputs": [
        {
          "output_type": "stream",
          "name": "stdout",
          "text": [
            "Fitting 5 folds for each of 32 candidates, totalling 160 fits\n",
            "[CV 1/5] END batch_size=100, learning_rate_init=0.1, max_iter=100, n_iter_no_change=5, solver=sgd;, score=0.576 total time= 1.5min\n",
            "[CV 2/5] END batch_size=100, learning_rate_init=0.1, max_iter=100, n_iter_no_change=5, solver=sgd;, score=0.394 total time= 2.9min\n",
            "[CV 3/5] END batch_size=100, learning_rate_init=0.1, max_iter=100, n_iter_no_change=5, solver=sgd;, score=0.436 total time= 2.0min\n",
            "[CV 4/5] END batch_size=100, learning_rate_init=0.1, max_iter=100, n_iter_no_change=5, solver=sgd;, score=0.481 total time= 1.7min\n",
            "[CV 5/5] END batch_size=100, learning_rate_init=0.1, max_iter=100, n_iter_no_change=5, solver=sgd;, score=0.556 total time= 3.5min\n",
            "[CV 1/5] END batch_size=100, learning_rate_init=0.1, max_iter=100, n_iter_no_change=5, solver=adam;, score=0.590 total time=  58.1s\n",
            "[CV 2/5] END batch_size=100, learning_rate_init=0.1, max_iter=100, n_iter_no_change=5, solver=adam;, score=0.469 total time= 1.0min\n",
            "[CV 3/5] END batch_size=100, learning_rate_init=0.1, max_iter=100, n_iter_no_change=5, solver=adam;, score=0.472 total time= 1.6min\n",
            "[CV 4/5] END batch_size=100, learning_rate_init=0.1, max_iter=100, n_iter_no_change=5, solver=adam;, score=0.562 total time= 1.1min\n",
            "[CV 5/5] END batch_size=100, learning_rate_init=0.1, max_iter=100, n_iter_no_change=5, solver=adam;, score=0.574 total time=  29.3s\n",
            "[CV 1/5] END batch_size=100, learning_rate_init=0.1, max_iter=100, n_iter_no_change=10, solver=sgd;, score=0.610 total time= 2.5min\n",
            "[CV 2/5] END batch_size=100, learning_rate_init=0.1, max_iter=100, n_iter_no_change=10, solver=sgd;, score=0.405 total time= 2.8min\n",
            "[CV 3/5] END batch_size=100, learning_rate_init=0.1, max_iter=100, n_iter_no_change=10, solver=sgd;, score=0.428 total time= 2.9min\n"
          ]
        },
        {
          "output_type": "stream",
          "name": "stderr",
          "text": [
            "/usr/local/lib/python3.7/dist-packages/sklearn/neural_network/_multilayer_perceptron.py:696: ConvergenceWarning: Stochastic Optimizer: Maximum iterations (100) reached and the optimization hasn't converged yet.\n",
            "  ConvergenceWarning,\n"
          ]
        },
        {
          "output_type": "stream",
          "name": "stdout",
          "text": [
            "[CV 4/5] END batch_size=100, learning_rate_init=0.1, max_iter=100, n_iter_no_change=10, solver=sgd;, score=0.514 total time= 4.0min\n",
            "[CV 5/5] END batch_size=100, learning_rate_init=0.1, max_iter=100, n_iter_no_change=10, solver=sgd;, score=0.563 total time= 3.0min\n",
            "[CV 1/5] END batch_size=100, learning_rate_init=0.1, max_iter=100, n_iter_no_change=10, solver=adam;, score=0.593 total time= 1.5min\n",
            "[CV 2/5] END batch_size=100, learning_rate_init=0.1, max_iter=100, n_iter_no_change=10, solver=adam;, score=0.455 total time= 2.3min\n",
            "[CV 3/5] END batch_size=100, learning_rate_init=0.1, max_iter=100, n_iter_no_change=10, solver=adam;, score=0.486 total time= 1.5min\n",
            "[CV 4/5] END batch_size=100, learning_rate_init=0.1, max_iter=100, n_iter_no_change=10, solver=adam;, score=0.561 total time= 1.2min\n",
            "[CV 5/5] END batch_size=100, learning_rate_init=0.1, max_iter=100, n_iter_no_change=10, solver=adam;, score=0.557 total time= 1.7min\n",
            "[CV 1/5] END batch_size=100, learning_rate_init=0.1, max_iter=300, n_iter_no_change=5, solver=sgd;, score=0.589 total time= 1.8min\n",
            "[CV 2/5] END batch_size=100, learning_rate_init=0.1, max_iter=300, n_iter_no_change=5, solver=sgd;, score=0.416 total time= 2.6min\n",
            "[CV 3/5] END batch_size=100, learning_rate_init=0.1, max_iter=300, n_iter_no_change=5, solver=sgd;, score=0.437 total time= 2.7min\n",
            "[CV 4/5] END batch_size=100, learning_rate_init=0.1, max_iter=300, n_iter_no_change=5, solver=sgd;, score=0.493 total time= 2.2min\n",
            "[CV 5/5] END batch_size=100, learning_rate_init=0.1, max_iter=300, n_iter_no_change=5, solver=sgd;, score=0.560 total time= 2.1min\n",
            "[CV 1/5] END batch_size=100, learning_rate_init=0.1, max_iter=300, n_iter_no_change=5, solver=adam;, score=0.528 total time=  50.6s\n",
            "[CV 2/5] END batch_size=100, learning_rate_init=0.1, max_iter=300, n_iter_no_change=5, solver=adam;, score=0.479 total time=  58.6s\n",
            "[CV 3/5] END batch_size=100, learning_rate_init=0.1, max_iter=300, n_iter_no_change=5, solver=adam;, score=0.433 total time=  50.6s\n",
            "[CV 4/5] END batch_size=100, learning_rate_init=0.1, max_iter=300, n_iter_no_change=5, solver=adam;, score=0.524 total time=  50.8s\n",
            "[CV 5/5] END batch_size=100, learning_rate_init=0.1, max_iter=300, n_iter_no_change=5, solver=adam;, score=0.553 total time= 1.0min\n",
            "[CV 1/5] END batch_size=100, learning_rate_init=0.1, max_iter=300, n_iter_no_change=10, solver=sgd;, score=0.584 total time= 2.7min\n",
            "[CV 2/5] END batch_size=100, learning_rate_init=0.1, max_iter=300, n_iter_no_change=10, solver=sgd;, score=0.389 total time= 4.0min\n",
            "[CV 3/5] END batch_size=100, learning_rate_init=0.1, max_iter=300, n_iter_no_change=10, solver=sgd;, score=0.423 total time= 3.4min\n",
            "[CV 4/5] END batch_size=100, learning_rate_init=0.1, max_iter=300, n_iter_no_change=10, solver=sgd;, score=0.493 total time= 2.7min\n",
            "[CV 5/5] END batch_size=100, learning_rate_init=0.1, max_iter=300, n_iter_no_change=10, solver=sgd;, score=0.567 total time= 2.5min\n",
            "[CV 1/5] END batch_size=100, learning_rate_init=0.1, max_iter=300, n_iter_no_change=10, solver=adam;, score=0.603 total time= 1.6min\n",
            "[CV 2/5] END batch_size=100, learning_rate_init=0.1, max_iter=300, n_iter_no_change=10, solver=adam;, score=0.435 total time= 2.4min\n",
            "[CV 3/5] END batch_size=100, learning_rate_init=0.1, max_iter=300, n_iter_no_change=10, solver=adam;, score=0.423 total time= 1.9min\n",
            "[CV 4/5] END batch_size=100, learning_rate_init=0.1, max_iter=300, n_iter_no_change=10, solver=adam;, score=0.518 total time= 2.2min\n",
            "[CV 5/5] END batch_size=100, learning_rate_init=0.1, max_iter=300, n_iter_no_change=10, solver=adam;, score=0.574 total time= 1.5min\n",
            "[CV 1/5] END batch_size=100, learning_rate_init=0.4, max_iter=100, n_iter_no_change=5, solver=sgd;, score=0.605 total time= 1.9min\n",
            "[CV 2/5] END batch_size=100, learning_rate_init=0.4, max_iter=100, n_iter_no_change=5, solver=sgd;, score=0.412 total time= 1.1min\n",
            "[CV 3/5] END batch_size=100, learning_rate_init=0.4, max_iter=100, n_iter_no_change=5, solver=sgd;, score=0.442 total time= 1.2min\n",
            "[CV 4/5] END batch_size=100, learning_rate_init=0.4, max_iter=100, n_iter_no_change=5, solver=sgd;, score=0.509 total time= 1.1min\n",
            "[CV 5/5] END batch_size=100, learning_rate_init=0.4, max_iter=100, n_iter_no_change=5, solver=sgd;, score=0.547 total time= 1.6min\n",
            "[CV 1/5] END batch_size=100, learning_rate_init=0.4, max_iter=100, n_iter_no_change=5, solver=adam;, score=0.557 total time= 1.2min\n",
            "[CV 2/5] END batch_size=100, learning_rate_init=0.4, max_iter=100, n_iter_no_change=5, solver=adam;, score=0.512 total time=  26.7s\n",
            "[CV 3/5] END batch_size=100, learning_rate_init=0.4, max_iter=100, n_iter_no_change=5, solver=adam;, score=0.598 total time=  29.5s\n",
            "[CV 4/5] END batch_size=100, learning_rate_init=0.4, max_iter=100, n_iter_no_change=5, solver=adam;, score=0.651 total time=  39.9s\n",
            "[CV 5/5] END batch_size=100, learning_rate_init=0.4, max_iter=100, n_iter_no_change=5, solver=adam;, score=0.567 total time=  26.8s\n",
            "[CV 1/5] END batch_size=100, learning_rate_init=0.4, max_iter=100, n_iter_no_change=10, solver=sgd;, score=0.611 total time= 1.5min\n",
            "[CV 2/5] END batch_size=100, learning_rate_init=0.4, max_iter=100, n_iter_no_change=10, solver=sgd;, score=0.460 total time= 1.1min\n",
            "[CV 3/5] END batch_size=100, learning_rate_init=0.4, max_iter=100, n_iter_no_change=10, solver=sgd;, score=0.417 total time= 2.4min\n",
            "[CV 4/5] END batch_size=100, learning_rate_init=0.4, max_iter=100, n_iter_no_change=10, solver=sgd;, score=0.488 total time= 1.7min\n",
            "[CV 5/5] END batch_size=100, learning_rate_init=0.4, max_iter=100, n_iter_no_change=10, solver=sgd;, score=0.573 total time= 2.4min\n",
            "[CV 1/5] END batch_size=100, learning_rate_init=0.4, max_iter=100, n_iter_no_change=10, solver=adam;, score=0.544 total time= 1.1min\n",
            "[CV 2/5] END batch_size=100, learning_rate_init=0.4, max_iter=100, n_iter_no_change=10, solver=adam;, score=0.649 total time=  50.5s\n",
            "[CV 3/5] END batch_size=100, learning_rate_init=0.4, max_iter=100, n_iter_no_change=10, solver=adam;, score=0.521 total time=  47.9s\n",
            "[CV 4/5] END batch_size=100, learning_rate_init=0.4, max_iter=100, n_iter_no_change=10, solver=adam;, score=0.614 total time=  53.2s\n",
            "[CV 5/5] END batch_size=100, learning_rate_init=0.4, max_iter=100, n_iter_no_change=10, solver=adam;, score=0.583 total time= 1.4min\n",
            "[CV 1/5] END batch_size=100, learning_rate_init=0.4, max_iter=300, n_iter_no_change=5, solver=sgd;, score=0.578 total time= 1.6min\n",
            "[CV 2/5] END batch_size=100, learning_rate_init=0.4, max_iter=300, n_iter_no_change=5, solver=sgd;, score=0.460 total time= 1.2min\n",
            "[CV 3/5] END batch_size=100, learning_rate_init=0.4, max_iter=300, n_iter_no_change=5, solver=sgd;, score=0.419 total time= 1.2min\n",
            "[CV 4/5] END batch_size=100, learning_rate_init=0.4, max_iter=300, n_iter_no_change=5, solver=sgd;, score=0.498 total time= 1.2min\n",
            "[CV 5/5] END batch_size=100, learning_rate_init=0.4, max_iter=300, n_iter_no_change=5, solver=sgd;, score=0.552 total time= 1.7min\n",
            "[CV 1/5] END batch_size=100, learning_rate_init=0.4, max_iter=300, n_iter_no_change=5, solver=adam;, score=0.679 total time=  29.5s\n",
            "[CV 2/5] END batch_size=100, learning_rate_init=0.4, max_iter=300, n_iter_no_change=5, solver=adam;, score=0.719 total time=  45.1s\n",
            "[CV 3/5] END batch_size=100, learning_rate_init=0.4, max_iter=300, n_iter_no_change=5, solver=adam;, score=0.446 total time=  55.9s\n",
            "[CV 4/5] END batch_size=100, learning_rate_init=0.4, max_iter=300, n_iter_no_change=5, solver=adam;, score=0.619 total time=  26.9s\n",
            "[CV 5/5] END batch_size=100, learning_rate_init=0.4, max_iter=300, n_iter_no_change=5, solver=adam;, score=0.577 total time= 1.0min\n",
            "[CV 1/5] END batch_size=100, learning_rate_init=0.4, max_iter=300, n_iter_no_change=10, solver=sgd;, score=0.604 total time= 2.6min\n",
            "[CV 2/5] END batch_size=100, learning_rate_init=0.4, max_iter=300, n_iter_no_change=10, solver=sgd;, score=0.386 total time= 1.9min\n",
            "[CV 3/5] END batch_size=100, learning_rate_init=0.4, max_iter=300, n_iter_no_change=10, solver=sgd;, score=0.438 total time= 2.8min\n",
            "[CV 4/5] END batch_size=100, learning_rate_init=0.4, max_iter=300, n_iter_no_change=10, solver=sgd;, score=0.522 total time= 2.1min\n",
            "[CV 5/5] END batch_size=100, learning_rate_init=0.4, max_iter=300, n_iter_no_change=10, solver=sgd;, score=0.575 total time= 2.1min\n",
            "[CV 1/5] END batch_size=100, learning_rate_init=0.4, max_iter=300, n_iter_no_change=10, solver=adam;, score=0.638 total time= 1.0min\n",
            "[CV 2/5] END batch_size=100, learning_rate_init=0.4, max_iter=300, n_iter_no_change=10, solver=adam;, score=0.700 total time=  55.9s\n",
            "[CV 3/5] END batch_size=100, learning_rate_init=0.4, max_iter=300, n_iter_no_change=10, solver=adam;, score=0.540 total time=  53.3s\n",
            "[CV 4/5] END batch_size=100, learning_rate_init=0.4, max_iter=300, n_iter_no_change=10, solver=adam;, score=0.715 total time=  55.8s\n",
            "[CV 5/5] END batch_size=100, learning_rate_init=0.4, max_iter=300, n_iter_no_change=10, solver=adam;, score=0.514 total time=  42.8s\n",
            "[CV 1/5] END batch_size=200, learning_rate_init=0.1, max_iter=100, n_iter_no_change=5, solver=sgd;, score=0.595 total time= 2.9min\n",
            "[CV 2/5] END batch_size=200, learning_rate_init=0.1, max_iter=100, n_iter_no_change=5, solver=sgd;, score=0.399 total time= 4.1min\n"
          ]
        },
        {
          "output_type": "stream",
          "name": "stderr",
          "text": [
            "/usr/local/lib/python3.7/dist-packages/sklearn/neural_network/_multilayer_perceptron.py:696: ConvergenceWarning: Stochastic Optimizer: Maximum iterations (100) reached and the optimization hasn't converged yet.\n",
            "  ConvergenceWarning,\n"
          ]
        },
        {
          "output_type": "stream",
          "name": "stdout",
          "text": [
            "[CV 3/5] END batch_size=200, learning_rate_init=0.1, max_iter=100, n_iter_no_change=5, solver=sgd;, score=0.448 total time= 4.5min\n",
            "[CV 4/5] END batch_size=200, learning_rate_init=0.1, max_iter=100, n_iter_no_change=5, solver=sgd;, score=0.511 total time= 3.7min\n",
            "[CV 5/5] END batch_size=200, learning_rate_init=0.1, max_iter=100, n_iter_no_change=5, solver=sgd;, score=0.561 total time= 3.3min\n",
            "[CV 1/5] END batch_size=200, learning_rate_init=0.1, max_iter=100, n_iter_no_change=5, solver=adam;, score=0.577 total time= 1.0min\n",
            "[CV 2/5] END batch_size=200, learning_rate_init=0.1, max_iter=100, n_iter_no_change=5, solver=adam;, score=0.524 total time=  43.7s\n",
            "[CV 3/5] END batch_size=200, learning_rate_init=0.1, max_iter=100, n_iter_no_change=5, solver=adam;, score=0.471 total time=  58.1s\n",
            "[CV 4/5] END batch_size=200, learning_rate_init=0.1, max_iter=100, n_iter_no_change=5, solver=adam;, score=0.519 total time= 1.2min\n",
            "[CV 5/5] END batch_size=200, learning_rate_init=0.1, max_iter=100, n_iter_no_change=5, solver=adam;, score=0.551 total time=  38.0s\n"
          ]
        },
        {
          "output_type": "stream",
          "name": "stderr",
          "text": [
            "/usr/local/lib/python3.7/dist-packages/sklearn/neural_network/_multilayer_perceptron.py:696: ConvergenceWarning: Stochastic Optimizer: Maximum iterations (100) reached and the optimization hasn't converged yet.\n",
            "  ConvergenceWarning,\n"
          ]
        },
        {
          "output_type": "stream",
          "name": "stdout",
          "text": [
            "[CV 1/5] END batch_size=200, learning_rate_init=0.1, max_iter=100, n_iter_no_change=10, solver=sgd;, score=0.582 total time= 4.5min\n",
            "[CV 2/5] END batch_size=200, learning_rate_init=0.1, max_iter=100, n_iter_no_change=10, solver=sgd;, score=0.428 total time= 3.7min\n",
            "[CV 3/5] END batch_size=200, learning_rate_init=0.1, max_iter=100, n_iter_no_change=10, solver=sgd;, score=0.445 total time= 3.2min\n"
          ]
        },
        {
          "output_type": "stream",
          "name": "stderr",
          "text": [
            "/usr/local/lib/python3.7/dist-packages/sklearn/neural_network/_multilayer_perceptron.py:696: ConvergenceWarning: Stochastic Optimizer: Maximum iterations (100) reached and the optimization hasn't converged yet.\n",
            "  ConvergenceWarning,\n"
          ]
        },
        {
          "output_type": "stream",
          "name": "stdout",
          "text": [
            "[CV 4/5] END batch_size=200, learning_rate_init=0.1, max_iter=100, n_iter_no_change=10, solver=sgd;, score=0.500 total time= 4.5min\n"
          ]
        },
        {
          "output_type": "stream",
          "name": "stderr",
          "text": [
            "/usr/local/lib/python3.7/dist-packages/sklearn/neural_network/_multilayer_perceptron.py:696: ConvergenceWarning: Stochastic Optimizer: Maximum iterations (100) reached and the optimization hasn't converged yet.\n",
            "  ConvergenceWarning,\n"
          ]
        },
        {
          "output_type": "stream",
          "name": "stdout",
          "text": [
            "[CV 5/5] END batch_size=200, learning_rate_init=0.1, max_iter=100, n_iter_no_change=10, solver=sgd;, score=0.542 total time= 4.5min\n",
            "[CV 1/5] END batch_size=200, learning_rate_init=0.1, max_iter=100, n_iter_no_change=10, solver=adam;, score=0.592 total time= 1.9min\n",
            "[CV 2/5] END batch_size=200, learning_rate_init=0.1, max_iter=100, n_iter_no_change=10, solver=adam;, score=0.414 total time= 2.5min\n",
            "[CV 3/5] END batch_size=200, learning_rate_init=0.1, max_iter=100, n_iter_no_change=10, solver=adam;, score=0.478 total time= 2.6min\n",
            "[CV 4/5] END batch_size=200, learning_rate_init=0.1, max_iter=100, n_iter_no_change=10, solver=adam;, score=0.537 total time= 1.8min\n",
            "[CV 5/5] END batch_size=200, learning_rate_init=0.1, max_iter=100, n_iter_no_change=10, solver=adam;, score=0.542 total time= 2.1min\n",
            "[CV 1/5] END batch_size=200, learning_rate_init=0.1, max_iter=300, n_iter_no_change=5, solver=sgd;, score=0.604 total time= 2.3min\n",
            "[CV 2/5] END batch_size=200, learning_rate_init=0.1, max_iter=300, n_iter_no_change=5, solver=sgd;, score=0.400 total time= 3.9min\n",
            "[CV 3/5] END batch_size=200, learning_rate_init=0.1, max_iter=300, n_iter_no_change=5, solver=sgd;, score=0.447 total time= 2.8min\n",
            "[CV 4/5] END batch_size=200, learning_rate_init=0.1, max_iter=300, n_iter_no_change=5, solver=sgd;, score=0.488 total time= 2.0min\n",
            "[CV 5/5] END batch_size=200, learning_rate_init=0.1, max_iter=300, n_iter_no_change=5, solver=sgd;, score=0.550 total time= 4.1min\n",
            "[CV 1/5] END batch_size=200, learning_rate_init=0.1, max_iter=300, n_iter_no_change=5, solver=adam;, score=0.585 total time=  40.8s\n",
            "[CV 2/5] END batch_size=200, learning_rate_init=0.1, max_iter=300, n_iter_no_change=5, solver=adam;, score=0.459 total time=  38.0s\n",
            "[CV 3/5] END batch_size=200, learning_rate_init=0.1, max_iter=300, n_iter_no_change=5, solver=adam;, score=0.452 total time=  46.6s\n",
            "[CV 4/5] END batch_size=200, learning_rate_init=0.1, max_iter=300, n_iter_no_change=5, solver=adam;, score=0.554 total time=  40.9s\n",
            "[CV 5/5] END batch_size=200, learning_rate_init=0.1, max_iter=300, n_iter_no_change=5, solver=adam;, score=0.580 total time= 1.1min\n",
            "[CV 1/5] END batch_size=200, learning_rate_init=0.1, max_iter=300, n_iter_no_change=10, solver=sgd;, score=0.600 total time= 4.4min\n",
            "[CV 2/5] END batch_size=200, learning_rate_init=0.1, max_iter=300, n_iter_no_change=10, solver=sgd;, score=0.403 total time= 4.0min\n",
            "[CV 3/5] END batch_size=200, learning_rate_init=0.1, max_iter=300, n_iter_no_change=10, solver=sgd;, score=0.418 total time= 6.1min\n",
            "[CV 4/5] END batch_size=200, learning_rate_init=0.1, max_iter=300, n_iter_no_change=10, solver=sgd;, score=0.509 total time= 3.6min\n",
            "[CV 5/5] END batch_size=200, learning_rate_init=0.1, max_iter=300, n_iter_no_change=10, solver=sgd;, score=0.578 total time= 4.9min\n",
            "[CV 1/5] END batch_size=200, learning_rate_init=0.1, max_iter=300, n_iter_no_change=10, solver=adam;, score=0.566 total time= 2.0min\n",
            "[CV 2/5] END batch_size=200, learning_rate_init=0.1, max_iter=300, n_iter_no_change=10, solver=adam;, score=0.473 total time= 1.2min\n",
            "[CV 3/5] END batch_size=200, learning_rate_init=0.1, max_iter=300, n_iter_no_change=10, solver=adam;, score=0.443 total time= 2.9min\n",
            "[CV 4/5] END batch_size=200, learning_rate_init=0.1, max_iter=300, n_iter_no_change=10, solver=adam;, score=0.524 total time= 2.3min\n",
            "[CV 5/5] END batch_size=200, learning_rate_init=0.1, max_iter=300, n_iter_no_change=10, solver=adam;, score=0.589 total time= 1.6min\n",
            "[CV 1/5] END batch_size=200, learning_rate_init=0.4, max_iter=100, n_iter_no_change=5, solver=sgd;, score=0.604 total time= 1.7min\n",
            "[CV 2/5] END batch_size=200, learning_rate_init=0.4, max_iter=100, n_iter_no_change=5, solver=sgd;, score=0.430 total time= 1.4min\n",
            "[CV 3/5] END batch_size=200, learning_rate_init=0.4, max_iter=100, n_iter_no_change=5, solver=sgd;, score=0.435 total time= 1.5min\n",
            "[CV 4/5] END batch_size=200, learning_rate_init=0.4, max_iter=100, n_iter_no_change=5, solver=sgd;, score=0.527 total time= 2.3min\n",
            "[CV 5/5] END batch_size=200, learning_rate_init=0.4, max_iter=100, n_iter_no_change=5, solver=sgd;, score=0.553 total time= 1.9min\n",
            "[CV 1/5] END batch_size=200, learning_rate_init=0.4, max_iter=100, n_iter_no_change=5, solver=adam;, score=0.583 total time=  49.5s\n",
            "[CV 2/5] END batch_size=200, learning_rate_init=0.4, max_iter=100, n_iter_no_change=5, solver=adam;, score=0.559 total time= 1.4min\n",
            "[CV 3/5] END batch_size=200, learning_rate_init=0.4, max_iter=100, n_iter_no_change=5, solver=adam;, score=0.525 total time= 1.0min\n",
            "[CV 4/5] END batch_size=200, learning_rate_init=0.4, max_iter=100, n_iter_no_change=5, solver=adam;, score=0.609 total time=  46.6s\n",
            "[CV 5/5] END batch_size=200, learning_rate_init=0.4, max_iter=100, n_iter_no_change=5, solver=adam;, score=0.561 total time=  55.1s\n",
            "[CV 1/5] END batch_size=200, learning_rate_init=0.4, max_iter=100, n_iter_no_change=10, solver=sgd;, score=0.576 total time= 1.3min\n",
            "[CV 2/5] END batch_size=200, learning_rate_init=0.4, max_iter=100, n_iter_no_change=10, solver=sgd;, score=0.389 total time= 3.0min\n",
            "[CV 3/5] END batch_size=200, learning_rate_init=0.4, max_iter=100, n_iter_no_change=10, solver=sgd;, score=0.437 total time= 2.0min\n",
            "[CV 4/5] END batch_size=200, learning_rate_init=0.4, max_iter=100, n_iter_no_change=10, solver=sgd;, score=0.500 total time= 1.9min\n",
            "[CV 5/5] END batch_size=200, learning_rate_init=0.4, max_iter=100, n_iter_no_change=10, solver=sgd;, score=0.547 total time= 2.9min\n",
            "[CV 1/5] END batch_size=200, learning_rate_init=0.4, max_iter=100, n_iter_no_change=10, solver=adam;, score=0.654 total time= 2.2min\n",
            "[CV 2/5] END batch_size=200, learning_rate_init=0.4, max_iter=100, n_iter_no_change=10, solver=adam;, score=0.552 total time= 1.3min\n",
            "[CV 3/5] END batch_size=200, learning_rate_init=0.4, max_iter=100, n_iter_no_change=10, solver=adam;, score=0.511 total time= 1.3min\n",
            "[CV 4/5] END batch_size=200, learning_rate_init=0.4, max_iter=100, n_iter_no_change=10, solver=adam;, score=0.640 total time= 1.5min\n",
            "[CV 5/5] END batch_size=200, learning_rate_init=0.4, max_iter=100, n_iter_no_change=10, solver=adam;, score=0.521 total time= 1.7min\n",
            "[CV 1/5] END batch_size=200, learning_rate_init=0.4, max_iter=300, n_iter_no_change=5, solver=sgd;, score=0.589 total time= 1.6min\n",
            "[CV 2/5] END batch_size=200, learning_rate_init=0.4, max_iter=300, n_iter_no_change=5, solver=sgd;, score=0.431 total time= 1.7min\n",
            "[CV 3/5] END batch_size=200, learning_rate_init=0.4, max_iter=300, n_iter_no_change=5, solver=sgd;, score=0.439 total time= 2.0min\n",
            "[CV 4/5] END batch_size=200, learning_rate_init=0.4, max_iter=300, n_iter_no_change=5, solver=sgd;, score=0.474 total time= 1.9min\n",
            "[CV 5/5] END batch_size=200, learning_rate_init=0.4, max_iter=300, n_iter_no_change=5, solver=sgd;, score=0.561 total time= 1.9min\n",
            "[CV 1/5] END batch_size=200, learning_rate_init=0.4, max_iter=300, n_iter_no_change=5, solver=adam;, score=0.646 total time=  41.1s\n",
            "[CV 2/5] END batch_size=200, learning_rate_init=0.4, max_iter=300, n_iter_no_change=5, solver=adam;, score=0.534 total time= 1.5min\n",
            "[CV 3/5] END batch_size=200, learning_rate_init=0.4, max_iter=300, n_iter_no_change=5, solver=adam;, score=0.532 total time=  52.5s\n",
            "[CV 4/5] END batch_size=200, learning_rate_init=0.4, max_iter=300, n_iter_no_change=5, solver=adam;, score=0.608 total time= 1.4min\n",
            "[CV 5/5] END batch_size=200, learning_rate_init=0.4, max_iter=300, n_iter_no_change=5, solver=adam;, score=0.566 total time= 1.1min\n",
            "[CV 1/5] END batch_size=200, learning_rate_init=0.4, max_iter=300, n_iter_no_change=10, solver=sgd;, score=0.607 total time= 2.9min\n",
            "[CV 2/5] END batch_size=200, learning_rate_init=0.4, max_iter=300, n_iter_no_change=10, solver=sgd;, score=0.403 total time= 2.0min\n",
            "[CV 3/5] END batch_size=200, learning_rate_init=0.4, max_iter=300, n_iter_no_change=10, solver=sgd;, score=0.455 total time= 3.0min\n",
            "[CV 4/5] END batch_size=200, learning_rate_init=0.4, max_iter=300, n_iter_no_change=10, solver=sgd;, score=0.503 total time= 3.0min\n",
            "[CV 5/5] END batch_size=200, learning_rate_init=0.4, max_iter=300, n_iter_no_change=10, solver=sgd;, score=0.551 total time= 2.9min\n",
            "[CV 1/5] END batch_size=200, learning_rate_init=0.4, max_iter=300, n_iter_no_change=10, solver=adam;, score=0.619 total time= 1.5min\n",
            "[CV 2/5] END batch_size=200, learning_rate_init=0.4, max_iter=300, n_iter_no_change=10, solver=adam;, score=0.588 total time= 1.6min\n",
            "[CV 3/5] END batch_size=200, learning_rate_init=0.4, max_iter=300, n_iter_no_change=10, solver=adam;, score=0.564 total time= 2.1min\n",
            "[CV 4/5] END batch_size=200, learning_rate_init=0.4, max_iter=300, n_iter_no_change=10, solver=adam;, score=0.614 total time= 1.4min\n",
            "[CV 5/5] END batch_size=200, learning_rate_init=0.4, max_iter=300, n_iter_no_change=10, solver=adam;, score=0.547 total time= 1.3min\n"
          ]
        },
        {
          "output_type": "execute_result",
          "data": {
            "text/plain": [
              "0.6212658337769308"
            ]
          },
          "metadata": {},
          "execution_count": 9
        }
      ],
      "source": [
        "MLP_6.fit(data_x, data_y)"
      ]
    },
    {
      "cell_type": "code",
      "execution_count": null,
      "metadata": {
        "id": "vJfAWRzmMIlR",
        "colab": {
          "base_uri": "https://localhost:8080/"
        },
        "outputId": "13f98c7c-d325-453d-b62d-a898ba8dbd5e"
      },
      "outputs": [
        {
          "output_type": "execute_result",
          "data": {
            "text/plain": [
              "MLPClassifier(activation='logistic', batch_size=100, hidden_layer_sizes=(25,),\n",
              "              learning_rate_init=0.4, max_iter=300)"
            ]
          },
          "metadata": {},
          "execution_count": 10
        }
      ],
      "source": [
        "MLP_6.best_estimator_"
      ]
    },
    {
      "cell_type": "code",
      "source": [
        "MLP_6.best_score_"
      ],
      "metadata": {
        "colab": {
          "base_uri": "https://localhost:8080/"
        },
        "id": "XQ7G_76UgYTO",
        "outputId": "dd277b9c-3fc7-4151-a3cf-4b38d1a753cb"
      },
      "execution_count": null,
      "outputs": [
        {
          "output_type": "execute_result",
          "data": {
            "text/plain": [
              "0.6212658337769308"
            ]
          },
          "metadata": {},
          "execution_count": 11
        }
      ]
    },
    {
      "cell_type": "code",
      "source": [
        "dump(MLP_6, 'MLP_6.joblib')"
      ],
      "metadata": {
        "colab": {
          "base_uri": "https://localhost:8080/"
        },
        "id": "U3qAcZjEgbz4",
        "outputId": "62903d9c-9b83-4f37-ee8f-fd9019975853"
      },
      "execution_count": null,
      "outputs": [
        {
          "output_type": "execute_result",
          "data": {
            "text/plain": [
              "['MLP_6.joblib']"
            ]
          },
          "metadata": {},
          "execution_count": 12
        }
      ]
    },
    {
      "cell_type": "markdown",
      "metadata": {
        "id": "ZboJErSGahxD"
      },
      "source": [
        "## Identificando a mellhor solução\n",
        "\n",
        "Como resultado da busca em grande com validação cruzada 5-fold, identifique o modelo otimizado com melhor desempenho para o problema. Apresente claramente este modelo, seus parâmetros, hiperparâmetros otimizados e resultados para cada um dos folds avaliados. Esta é a melhor solução identificada em decorrência deste projeto"
      ]
    },
    {
      "cell_type": "markdown",
      "source": [
        "\n",
        "\n",
        "> O modelo com o melhor desempenho foi o sexto modelo, ele obteve a pontuação de 0.6212658337769308, foi a maior entre os 6 modelos que foram treinados.\n",
        "Seus parâmetros são:\n",
        "\n",
        "* a função de ativação tangente hiperbolica; \n",
        "* uma camada oculta com 25 neuronios. \n",
        "\n",
        "> Os melhores hiperparâmetros otimizados deste modelo são:\n",
        "\n",
        "*   bath_size = 200;\n",
        "*   learning_rate_init = 0.4;\n",
        "*   max_iter = 100;\n",
        "*   n_iter_no_change = 5.\n",
        "\n"
      ],
      "metadata": {
        "id": "EUiS0QWVCd6e"
      }
    },
    {
      "cell_type": "markdown",
      "metadata": {
        "id": "NPquw20VahxF"
      },
      "source": [
        "## Empacotando a solução\n",
        "\n",
        "Suponha que você deve entregar este classificador ao órgão responsável por administrar o Roosevelt National Park. Para tanto, você deve fazer uma preparação do mesmo para utilização neste cenário. Uma vez que já identificou os melhores parâmetros e hiperparâmetros, o passo remanescente consiste em treinar o modelo com estes valores e todos os dados disponíveis, salvando o conjunto de pesos do modelo ao final para entrega ao cliente. Assim, finalize o projeto prático realizando tais passos.\n",
        "\n",
        "1. Consulte a documentação a seguir:\n",
        "https://scikit-learn.org/stable/modules/model_persistence.html  \n",
        "2. Treine o modelo com todos os dados  \n",
        "3. Salve o modelo em disco  \n",
        "4. Construa uma rotina que recupere o modelo em disco  \n",
        "5. Mostre que a rotina é funcional, fazendo previsões com todos os elementos do dataset e exibindo uma matriz de confusão das mesmas"
      ]
    },
    {
      "cell_type": "code",
      "execution_count": null,
      "metadata": {
        "id": "wnktgpCkdG8Z"
      },
      "outputs": [],
      "source": [
        "MLP = load('MLP_6.joblib')"
      ]
    },
    {
      "cell_type": "code",
      "source": [
        "testing(MLP, data_x, data_y)"
      ],
      "metadata": {
        "colab": {
          "base_uri": "https://localhost:8080/"
        },
        "id": "sjv-QPkTazaH",
        "outputId": "db2e6be9-c9f7-430c-f2d2-cffc5db34aef"
      },
      "execution_count": null,
      "outputs": [
        {
          "output_type": "stream",
          "name": "stderr",
          "text": [
            "/usr/local/lib/python3.7/dist-packages/sklearn/base.py:446: UserWarning: X does not have valid feature names, but MLPClassifier was fitted with feature names\n",
            "  \"X does not have valid feature names, but\"\n"
          ]
        },
        {
          "output_type": "stream",
          "name": "stdout",
          "text": [
            "\n",
            "Matriz de confusao:\n",
            "\n",
            "[[143784  60717      8      0      0      0   7331]\n",
            " [ 52003 225263   5263      0      0      7    765]\n",
            " [     0   6796  28958      0      0      0      0]\n",
            " [     0      0   2747      0      0      0      0]\n",
            " [     4   9225    264      0      0      0      0]\n",
            " [    14   6207  11146      0      0      0      0]\n",
            " [  6368    138      0      0      0      0  14004]]\n",
            "\n",
            "Acuracia:\n",
            "\n",
            "0.7091230473725155\n",
            "\n",
            "Precisao:\n",
            "\n",
            "0.7091230473725155\n",
            "\n",
            "Revocacao:\n",
            "\n",
            "0.7091230473725155\n",
            "\n",
            "F-Score:\n",
            "\n",
            "0.7091230473725155\n"
          ]
        }
      ]
    }
  ],
  "metadata": {
    "colab": {
      "collapsed_sections": [
        "xpUHU4UxIcS-",
        "X2d0-8yNIn_e",
        "TZgU1YlbZNOA",
        "HwXv_nHHZXH5",
        "VNEcr91ovWNl",
        "QG7jRVecLWDg",
        "qVtu36T-L_MK"
      ],
      "name": "PP2_2_3_Validação_Cruzada_e_Busca_em_Grade.ipynb",
      "provenance": [],
      "include_colab_link": true
    },
    "kernelspec": {
      "display_name": "Python 3",
      "name": "python3"
    },
    "language_info": {
      "name": "python"
    }
  },
  "nbformat": 4,
  "nbformat_minor": 0
}